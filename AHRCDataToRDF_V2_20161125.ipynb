{
 "cells": [
  {
   "cell_type": "markdown",
   "metadata": {
    "collapsed": true
   },
   "source": [
    "#Converting AHRC Data to RDF\n",
    "\n",
    "2016.11.25"
   ]
  },
  {
   "cell_type": "markdown",
   "metadata": {},
   "source": [
    "##1. Find each entity in the JSON file and assign it a variable name in Python"
   ]
  },
  {
   "cell_type": "markdown",
   "metadata": {},
   "source": [
    "Use safeJSON to import the file and convert it to a Python object (I originally used json but found that it was difficult to deal with values that do not exist - safeJSON resolves this by replacing any nonexistent values with SafeNone)."
   ]
  },
  {
   "cell_type": "code",
   "execution_count": 457,
   "metadata": {
    "collapsed": false
   },
   "outputs": [
    {
     "name": "stdout",
     "output_type": "stream",
     "text": [
      "{'ad': {'csvSurveyEnabled': False,\n",
      "        'lastRefreshDate': '03 October 2016',\n",
      "        'popUpAskAgainGapDays': 14,\n",
      "        'popUpWaitSeconds': 30,\n",
      "        'surveyEnabled': True},\n",
      " 'fba': {},\n",
      " 'feedbackAnswers': {},\n",
      " 'headerData': {'csvSurveyEnabled': False,\n",
      "                'lastRefreshDate': '03 October 2016',\n",
      "                'popUpAskAgainGapDays': 14,\n",
      "                'popUpWaitSeconds': 30,\n",
      "                'surveyEnabled': True},\n",
      " 'pagedListHolder': {'firstElementOnPage': 0,\n",
      "                     'firstLinkedPage': 0,\n",
      "                     'firstPage': True,\n",
      "                     'lastElementOnPage': 4,\n",
      "                     'lastLinkedPage': 0,\n",
      "                     'lastPage': True,\n",
      "                     'maxLinkedPages': 10,\n",
      "                     'nrOfElements': 5,\n",
      "                     'page': 0,\n",
      "                     'pageCount': 1,\n",
      "                     'pageList': [{'author': [{'id': '14f219700de6ba0cf22951ceafa277b8',\n",
      "                                               'otherNames': 'Fürst J',\n",
      "                                               'url': 'http://gtr.rcuk.ac.uk:80/person/14f219700de6ba0cf22951ceafa277b8'}],\n",
      "                                   'firstAuthorName': 'Fürst J',\n",
      "                                   'id': 'A1FA8C0E-7A06-4D7B-994B-B65454DDD2D5',\n",
      "                                   'title': 'Flowers through Concrete: '\n",
      "                                            'The World of the Soviet '\n",
      "                                            'Hippies',\n",
      "                                   'url': 'http://gtr.rcuk.ac.uk:80/publication/A1FA8C0E-7A06-4D7B-994B-B65454DDD2D5'},\n",
      "                                  {'author': [{'id': '14f219700de6ba0cf22951ceafa277b8',\n",
      "                                               'otherNames': 'Fürst J',\n",
      "                                               'url': 'http://gtr.rcuk.ac.uk:80/person/14f219700de6ba0cf22951ceafa277b8'}],\n",
      "                                   'firstAuthorName': 'Fürst J',\n",
      "                                   'id': 'C2A9EDA6-20E3-450A-918D-21BE7E7F6B2B',\n",
      "                                   'title': 'Dropping out of Socialism: '\n",
      "                                            'Alternative Spheres in the '\n",
      "                                            'Soviet Bloc',\n",
      "                                   'url': 'http://gtr.rcuk.ac.uk:80/publication/C2A9EDA6-20E3-450A-918D-21BE7E7F6B2B'},\n",
      "                                  {'author': [{'id': '7135b2b3b18c98e2306058bde50ce08d',\n",
      "                                               'otherNames': 'Fürst J.',\n",
      "                                               'url': 'http://gtr.rcuk.ac.uk:80/person/7135b2b3b18c98e2306058bde50ce08d'}],\n",
      "                                   'date': '2014-01-01',\n",
      "                                   'firstAuthorName': 'Fürst J.',\n",
      "                                   'id': 'D687F1A6-ED35-4F61-B976-1566BB5270E8',\n",
      "                                   'parentPublicationTitle': 'Contemporary '\n",
      "                                                             'European '\n",
      "                                                             'History',\n",
      "                                   'title': \"Love, Peace and Rock'n Roll \"\n",
      "                                            'on Gorky Street: The '\n",
      "                                            \"'Emotional Style' of the \"\n",
      "                                            'Soviet Hippie Community',\n",
      "                                   'url': 'http://gtr.rcuk.ac.uk:80/publication/D687F1A6-ED35-4F61-B976-1566BB5270E8'},\n",
      "                                  {'author': [{'id': '6e2b4917d74658949c7636ab43a87b39',\n",
      "                                               'otherNames': 'McLellan J',\n",
      "                                               'url': 'http://gtr.rcuk.ac.uk:80/person/6e2b4917d74658949c7636ab43a87b39'}],\n",
      "                                   'date': '2012-01-01',\n",
      "                                   'firstAuthorName': 'McLellan J',\n",
      "                                   'id': 'B4EDCF26-08D9-4192-9625-2C52633EA845',\n",
      "                                   'parentPublicationTitle': 'History '\n",
      "                                                             'Workshop '\n",
      "                                                             'Journal',\n",
      "                                   'title': 'Glad to be Gay Behind the '\n",
      "                                            'Wall: Gay and Lesbian '\n",
      "                                            'Activism in 1970s East '\n",
      "                                            'Germany',\n",
      "                                   'url': 'http://gtr.rcuk.ac.uk:80/publication/B4EDCF26-08D9-4192-9625-2C52633EA845'},\n",
      "                                  {'author': [{'id': '54e73c58eef449b5b7a1fc1f29ea9fe9',\n",
      "                                               'otherNames': 'McLellan, '\n",
      "                                                             'J',\n",
      "                                               'url': 'http://gtr.rcuk.ac.uk:80/person/54e73c58eef449b5b7a1fc1f29ea9fe9'}],\n",
      "                                   'firstAuthorName': 'McLellan, J',\n",
      "                                   'id': 'D7831683-0AE0-4989-85B8-1F6DBA021F7F',\n",
      "                                   'parentPublicationTitle': 'Cultural '\n",
      "                                                             'and Social '\n",
      "                                                             'History',\n",
      "                                   'title': 'Lesbians, gay men and the '\n",
      "                                            'production of scale in East '\n",
      "                                            'Germany',\n",
      "                                   'url': 'http://gtr.rcuk.ac.uk:80/publication/D7831683-0AE0-4989-85B8-1F6DBA021F7F'}],\n",
      "                     'pageSize': 10,\n",
      "                     'refreshDate': 1477037984122,\n",
      "                     'sort': {'ascending': True,\n",
      "                              'ignoreCase': True,\n",
      "                              'property': 'firstAuthorName',\n",
      "                              'toggleAscendingOnProperty': False},\n",
      "                     'source': [{'author': [{'id': '14f219700de6ba0cf22951ceafa277b8',\n",
      "                                             'otherNames': 'Fürst J',\n",
      "                                             'url': 'http://gtr.rcuk.ac.uk:80/person/14f219700de6ba0cf22951ceafa277b8'}],\n",
      "                                 'firstAuthorName': 'Fürst J',\n",
      "                                 'id': 'A1FA8C0E-7A06-4D7B-994B-B65454DDD2D5',\n",
      "                                 'title': 'Flowers through Concrete: The '\n",
      "                                          'World of the Soviet Hippies',\n",
      "                                 'url': 'http://gtr.rcuk.ac.uk:80/publication/A1FA8C0E-7A06-4D7B-994B-B65454DDD2D5'},\n",
      "                                {'author': [{'id': '14f219700de6ba0cf22951ceafa277b8',\n",
      "                                             'otherNames': 'Fürst J',\n",
      "                                             'url': 'http://gtr.rcuk.ac.uk:80/person/14f219700de6ba0cf22951ceafa277b8'}],\n",
      "                                 'firstAuthorName': 'Fürst J',\n",
      "                                 'id': 'C2A9EDA6-20E3-450A-918D-21BE7E7F6B2B',\n",
      "                                 'title': 'Dropping out of Socialism: '\n",
      "                                          'Alternative Spheres in the '\n",
      "                                          'Soviet Bloc',\n",
      "                                 'url': 'http://gtr.rcuk.ac.uk:80/publication/C2A9EDA6-20E3-450A-918D-21BE7E7F6B2B'},\n",
      "                                {'author': [{'id': '7135b2b3b18c98e2306058bde50ce08d',\n",
      "                                             'otherNames': 'Fürst J.',\n",
      "                                             'url': 'http://gtr.rcuk.ac.uk:80/person/7135b2b3b18c98e2306058bde50ce08d'}],\n",
      "                                 'date': '2014-01-01',\n",
      "                                 'firstAuthorName': 'Fürst J.',\n",
      "                                 'id': 'D687F1A6-ED35-4F61-B976-1566BB5270E8',\n",
      "                                 'parentPublicationTitle': 'Contemporary '\n",
      "                                                           'European '\n",
      "                                                           'History',\n",
      "                                 'title': \"Love, Peace and Rock'n Roll on \"\n",
      "                                          \"Gorky Street: The 'Emotional \"\n",
      "                                          \"Style' of the Soviet Hippie \"\n",
      "                                          'Community',\n",
      "                                 'url': 'http://gtr.rcuk.ac.uk:80/publication/D687F1A6-ED35-4F61-B976-1566BB5270E8'},\n",
      "                                {'author': [{'id': '6e2b4917d74658949c7636ab43a87b39',\n",
      "                                             'otherNames': 'McLellan J',\n",
      "                                             'url': 'http://gtr.rcuk.ac.uk:80/person/6e2b4917d74658949c7636ab43a87b39'}],\n",
      "                                 'date': '2012-01-01',\n",
      "                                 'firstAuthorName': 'McLellan J',\n",
      "                                 'id': 'B4EDCF26-08D9-4192-9625-2C52633EA845',\n",
      "                                 'parentPublicationTitle': 'History '\n",
      "                                                           'Workshop '\n",
      "                                                           'Journal',\n",
      "                                 'title': 'Glad to be Gay Behind the '\n",
      "                                          'Wall: Gay and Lesbian Activism '\n",
      "                                          'in 1970s East Germany',\n",
      "                                 'url': 'http://gtr.rcuk.ac.uk:80/publication/B4EDCF26-08D9-4192-9625-2C52633EA845'},\n",
      "                                {'author': [{'id': '54e73c58eef449b5b7a1fc1f29ea9fe9',\n",
      "                                             'otherNames': 'McLellan, J',\n",
      "                                             'url': 'http://gtr.rcuk.ac.uk:80/person/54e73c58eef449b5b7a1fc1f29ea9fe9'}],\n",
      "                                 'firstAuthorName': 'McLellan, J',\n",
      "                                 'id': 'D7831683-0AE0-4989-85B8-1F6DBA021F7F',\n",
      "                                 'parentPublicationTitle': 'Cultural and '\n",
      "                                                           'Social History',\n",
      "                                 'title': 'Lesbians, gay men and the '\n",
      "                                          'production of scale in East '\n",
      "                                          'Germany',\n",
      "                                 'url': 'http://gtr.rcuk.ac.uk:80/publication/D7831683-0AE0-4989-85B8-1F6DBA021F7F'}]},\n",
      " 'projectOverview': {'projectComposition': {'collaborator': [{'id': 'E6BE1E2D-6D42-47FB-AB0A-A2FC1914A896',\n",
      "                                                              'name': 'Sciences '\n",
      "                                                                      'Po',\n",
      "                                                              'url': 'http://gtr.rcuk.ac.uk:80/organisation/E6BE1E2D-6D42-47FB-AB0A-A2FC1914A896'},\n",
      "                                                             {'address': {'country': 'United '\n",
      "                                                                                     'Kingdom',\n",
      "                                                                          'line1': 'University '\n",
      "                                                                                   'of '\n",
      "                                                                                   'Exeter',\n",
      "                                                                          'line2': 'Clydesdale '\n",
      "                                                                                   'House',\n",
      "                                                                          'line3': 'Clydesdale '\n",
      "                                                                                   'Road',\n",
      "                                                                          'line4': 'Exeter',\n",
      "                                                                          'postCode': 'EX4 '\n",
      "                                                                                      '4QX',\n",
      "                                                                          'region': 'South '\n",
      "                                                                                    'West'},\n",
      "                                                              'id': '961756BF-E31F-4A13-836F-0A09BA02385C',\n",
      "                                                              'name': 'University '\n",
      "                                                                      'of '\n",
      "                                                                      'Exeter',\n",
      "                                                              'url': 'http://gtr.rcuk.ac.uk:80/organisation/961756BF-E31F-4A13-836F-0A09BA02385C'}],\n",
      "                                            'leadResearchOrganisation': {'address': {'city': 'Bristol',\n",
      "                                                                                     'line1': 'University '\n",
      "                                                                                              'of '\n",
      "                                                                                              'Bristol\\r\\n'\n",
      "                                                                                              'Senate '\n",
      "                                                                                              'House\\r\\n'\n",
      "                                                                                              'Tyndall '\n",
      "                                                                                              'Avenue',\n",
      "                                                                                     'postCode': 'BS8 '\n",
      "                                                                                                 '1TH',\n",
      "                                                                                     'region': 'South '\n",
      "                                                                                               'West'},\n",
      "                                                                         'department': 'School '\n",
      "                                                                                       'of '\n",
      "                                                                                       'Humanities',\n",
      "                                                                         'id': 'FD94FDDE-5BBC-4E12-911F-0B70DBCFA743',\n",
      "                                                                         'name': 'University '\n",
      "                                                                                 'of '\n",
      "                                                                                 'Bristol',\n",
      "                                                                         'typeInd': 'RO',\n",
      "                                                                         'url': 'http://gtr.rcuk.ac.uk:80/organisation/FD94FDDE-5BBC-4E12-911F-0B70DBCFA743'},\n",
      "                                            'organisationRole': [{'address': {'city': 'Bristol',\n",
      "                                                                              'line1': 'University '\n",
      "                                                                                       'of '\n",
      "                                                                                       'Bristol\\r\\n'\n",
      "                                                                                       'Senate '\n",
      "                                                                                       'House\\r\\n'\n",
      "                                                                                       'Tyndall '\n",
      "                                                                                       'Avenue',\n",
      "                                                                              'postCode': 'BS8 '\n",
      "                                                                                          '1TH',\n",
      "                                                                              'region': 'South '\n",
      "                                                                                        'West'},\n",
      "                                                                  'id': 'FD94FDDE-5BBC-4E12-911F-0B70DBCFA743',\n",
      "                                                                  'name': 'University '\n",
      "                                                                          'of '\n",
      "                                                                          'Bristol',\n",
      "                                                                  'role': [{'name': 'LEAD_RO'}],\n",
      "                                                                  'url': 'http://gtr.rcuk.ac.uk:80/organisation/FD94FDDE-5BBC-4E12-911F-0B70DBCFA743'},\n",
      "                                                                 {'id': 'E6BE1E2D-6D42-47FB-AB0A-A2FC1914A896',\n",
      "                                                                  'name': 'Sciences '\n",
      "                                                                          'Po',\n",
      "                                                                  'role': [{'name': 'COLLABORATOR'}],\n",
      "                                                                  'url': 'http://gtr.rcuk.ac.uk:80/organisation/E6BE1E2D-6D42-47FB-AB0A-A2FC1914A896'},\n",
      "                                                                 {'address': {'country': 'United '\n",
      "                                                                                         'Kingdom',\n",
      "                                                                              'line1': 'University '\n",
      "                                                                                       'of '\n",
      "                                                                                       'Exeter',\n",
      "                                                                              'line2': 'Clydesdale '\n",
      "                                                                                       'House',\n",
      "                                                                              'line3': 'Clydesdale '\n",
      "                                                                                       'Road',\n",
      "                                                                              'line4': 'Exeter',\n",
      "                                                                              'postCode': 'EX4 '\n",
      "                                                                                          '4QX',\n",
      "                                                                              'region': 'South '\n",
      "                                                                                        'West'},\n",
      "                                                                  'id': '961756BF-E31F-4A13-836F-0A09BA02385C',\n",
      "                                                                  'name': 'University '\n",
      "                                                                          'of '\n",
      "                                                                          'Exeter',\n",
      "                                                                  'role': [{'name': 'COLLABORATOR'}],\n",
      "                                                                  'url': 'http://gtr.rcuk.ac.uk:80/organisation/961756BF-E31F-4A13-836F-0A09BA02385C'}],\n",
      "                                            'personRole': [{'firstName': 'Josie',\n",
      "                                                            'id': '7729A3BA-8B99-4DBA-A577-FF76802F2226',\n",
      "                                                            'role': [{'name': 'CO_INVESTIGATOR'}],\n",
      "                                                            'surname': 'McLellan',\n",
      "                                                            'url': 'http://gtr.rcuk.ac.uk:80/person/7729A3BA-8B99-4DBA-A577-FF76802F2226'},\n",
      "                                                           {'firstName': 'Juliane '\n",
      "                                                                         'Christiane '\n",
      "                                                                         'Angelika',\n",
      "                                                            'id': '2EE07735-86D6-485D-B530-DB03D951E316',\n",
      "                                                            'role': [{'name': 'PRINCIPAL_INVESTIGATOR'}],\n",
      "                                                            'surname': 'Furst',\n",
      "                                                            'url': 'http://gtr.rcuk.ac.uk:80/person/2EE07735-86D6-485D-B530-DB03D951E316'}],\n",
      "                                            'project': {'abstractText': 'The '\n",
      "                                                                        'project '\n",
      "                                                                        \"'Dropping \"\n",
      "                                                                        'out '\n",
      "                                                                        'of '\n",
      "                                                                        \"Socialism' \"\n",
      "                                                                        'is '\n",
      "                                                                        'a '\n",
      "                                                                        'study '\n",
      "                                                                        'of '\n",
      "                                                                        'the '\n",
      "                                                                        'hidden '\n",
      "                                                                        'side '\n",
      "                                                                        'of '\n",
      "                                                                        'life '\n",
      "                                                                        'in '\n",
      "                                                                        'the '\n",
      "                                                                        'former '\n",
      "                                                                        'Soviet '\n",
      "                                                                        'bloc. '\n",
      "                                                                        'It '\n",
      "                                                                        'investigates '\n",
      "                                                                        'those '\n",
      "                                                                        'cultures '\n",
      "                                                                        'and '\n",
      "                                                                        'life-styles '\n",
      "                                                                        'under '\n",
      "                                                                        'socialism '\n",
      "                                                                        'which '\n",
      "                                                                        'literally '\n",
      "                                                                        \"'dropped \"\n",
      "                                                                        \"out' \"\n",
      "                                                                        'of '\n",
      "                                                                        'the '\n",
      "                                                                        'picture '\n",
      "                                                                        '- '\n",
      "                                                                        'both '\n",
      "                                                                        'out '\n",
      "                                                                        'of '\n",
      "                                                                        'the '\n",
      "                                                                        'picture '\n",
      "                                                                        'that '\n",
      "                                                                        'was '\n",
      "                                                                        'portrayed '\n",
      "                                                                        'by '\n",
      "                                                                        'the '\n",
      "                                                                        'Eastern '\n",
      "                                                                        'European '\n",
      "                                                                        'communist '\n",
      "                                                                        'regimes '\n",
      "                                                                        'to '\n",
      "                                                                        'its '\n",
      "                                                                        'own '\n",
      "                                                                        'public '\n",
      "                                                                        'and '\n",
      "                                                                        'the '\n",
      "                                                                        'West '\n",
      "                                                                        'and '\n",
      "                                                                        'the '\n",
      "                                                                        'picture '\n",
      "                                                                        'that '\n",
      "                                                                        'has '\n",
      "                                                                        'since '\n",
      "                                                                        'been '\n",
      "                                                                        'created '\n",
      "                                                                        'by '\n",
      "                                                                        'historians '\n",
      "                                                                        'and '\n",
      "                                                                        'political '\n",
      "                                                                        'scientists '\n",
      "                                                                        'looking '\n",
      "                                                                        'at '\n",
      "                                                                        'the '\n",
      "                                                                        'last '\n",
      "                                                                        'decades '\n",
      "                                                                        'of '\n",
      "                                                                        'communism '\n",
      "                                                                        'in '\n",
      "                                                                        'Europe. '\n",
      "                                                                        \"'Dropping \"\n",
      "                                                                        'out '\n",
      "                                                                        'of '\n",
      "                                                                        \"Socialism' \"\n",
      "                                                                        'is '\n",
      "                                                                        'devoted '\n",
      "                                                                        'to '\n",
      "                                                                        'the '\n",
      "                                                                        'historical '\n",
      "                                                                        'documentation '\n",
      "                                                                        'and '\n",
      "                                                                        'interpretation '\n",
      "                                                                        'of '\n",
      "                                                                        'social '\n",
      "                                                                        'phenomena '\n",
      "                                                                        'on '\n",
      "                                                                        'the '\n",
      "                                                                        'margins '\n",
      "                                                                        'of '\n",
      "                                                                        'socialist '\n",
      "                                                                        'society: '\n",
      "                                                                        'beatniks, '\n",
      "                                                                        'hippies, '\n",
      "                                                                        'punks, '\n",
      "                                                                        'trampers, '\n",
      "                                                                        'new-agers, '\n",
      "                                                                        'hobos '\n",
      "                                                                        'and '\n",
      "                                                                        'any '\n",
      "                                                                        'other '\n",
      "                                                                        'group '\n",
      "                                                                        'of '\n",
      "                                                                        'people '\n",
      "                                                                        'who '\n",
      "                                                                        'had '\n",
      "                                                                        'decided '\n",
      "                                                                        'to '\n",
      "                                                                        'ignore '\n",
      "                                                                        'rather '\n",
      "                                                                        'than '\n",
      "                                                                        'comply '\n",
      "                                                                        'with '\n",
      "                                                                        'the '\n",
      "                                                                        'official '\n",
      "                                                                        'socialist '\n",
      "                                                                        'code '\n",
      "                                                                        'of '\n",
      "                                                                        'behaviour '\n",
      "                                                                        'and '\n",
      "                                                                        'participation.\\\\n\\\\nMost '\n",
      "                                                                        'people '\n",
      "                                                                        'express '\n",
      "                                                                        'surprise '\n",
      "                                                                        'when '\n",
      "                                                                        'told '\n",
      "                                                                        'that '\n",
      "                                                                        'such '\n",
      "                                                                        'cultures '\n",
      "                                                                        'existed '\n",
      "                                                                        'at '\n",
      "                                                                        'all '\n",
      "                                                                        'under '\n",
      "                                                                        'the '\n",
      "                                                                        'repressive '\n",
      "                                                                        'conditions '\n",
      "                                                                        'of '\n",
      "                                                                        'the '\n",
      "                                                                        'Eastern '\n",
      "                                                                        'European '\n",
      "                                                                        'communist '\n",
      "                                                                        'regimes. '\n",
      "                                                                        'Indeed, '\n",
      "                                                                        'even '\n",
      "                                                                        'in '\n",
      "                                                                        'Eastern '\n",
      "                                                                        'Europe '\n",
      "                                                                        'itself '\n",
      "                                                                        'little '\n",
      "                                                                        'is '\n",
      "                                                                        'known '\n",
      "                                                                        'about '\n",
      "                                                                        'alternative '\n",
      "                                                                        'forms '\n",
      "                                                                        'of '\n",
      "                                                                        'life-style '\n",
      "                                                                        'and '\n",
      "                                                                        'ideology '\n",
      "                                                                        'under '\n",
      "                                                                        'socialism '\n",
      "                                                                        'and '\n",
      "                                                                        'much '\n",
      "                                                                        'that '\n",
      "                                                                        'is '\n",
      "                                                                        'known '\n",
      "                                                                        'is '\n",
      "                                                                        'clouded '\n",
      "                                                                        'in '\n",
      "                                                                        'myth '\n",
      "                                                                        'and '\n",
      "                                                                        'prejudice. '\n",
      "                                                                        'Drop-out '\n",
      "                                                                        'cultures '\n",
      "                                                                        'suffered '\n",
      "                                                                        'not '\n",
      "                                                                        'only '\n",
      "                                                                        'from '\n",
      "                                                                        'repression '\n",
      "                                                                        'meted '\n",
      "                                                                        'out '\n",
      "                                                                        'by '\n",
      "                                                                        'the '\n",
      "                                                                        'regime '\n",
      "                                                                        'but '\n",
      "                                                                        'also '\n",
      "                                                                        'from '\n",
      "                                                                        'widespread '\n",
      "                                                                        'social '\n",
      "                                                                        'condemnation. '\n",
      "                                                                        'Denied '\n",
      "                                                                        'access '\n",
      "                                                                        'to '\n",
      "                                                                        'the '\n",
      "                                                                        'official '\n",
      "                                                                        'public '\n",
      "                                                                        'sphere, '\n",
      "                                                                        'persecuted '\n",
      "                                                                        'by '\n",
      "                                                                        'the '\n",
      "                                                                        'security '\n",
      "                                                                        'organs '\n",
      "                                                                        'and '\n",
      "                                                                        'eyed '\n",
      "                                                                        'with '\n",
      "                                                                        'mistrust '\n",
      "                                                                        'by '\n",
      "                                                                        'the '\n",
      "                                                                        'upright, '\n",
      "                                                                        'socialist '\n",
      "                                                                        'citizen, '\n",
      "                                                                        'drop-out '\n",
      "                                                                        'cultures '\n",
      "                                                                        'under '\n",
      "                                                                        'socialism '\n",
      "                                                                        'live '\n",
      "                                                                        'on '\n",
      "                                                                        'mostly '\n",
      "                                                                        'in '\n",
      "                                                                        'the '\n",
      "                                                                        'memory '\n",
      "                                                                        'of '\n",
      "                                                                        'its '\n",
      "                                                                        'participants '\n",
      "                                                                        'and '\n",
      "                                                                        'in '\n",
      "                                                                        'the '\n",
      "                                                                        'photographic '\n",
      "                                                                        'and '\n",
      "                                                                        'cinematic '\n",
      "                                                                        'evidence '\n",
      "                                                                        'of '\n",
      "                                                                        'their '\n",
      "                                                                        'heydays '\n",
      "                                                                        'in '\n",
      "                                                                        'the '\n",
      "                                                                        '1970s '\n",
      "                                                                        'and '\n",
      "                                                                        '80s. '\n",
      "                                                                        'Yet '\n",
      "                                                                        'this '\n",
      "                                                                        'memory '\n",
      "                                                                        'is '\n",
      "                                                                        'quickly '\n",
      "                                                                        'disappearing '\n",
      "                                                                        'with '\n",
      "                                                                        'its '\n",
      "                                                                        'participants '\n",
      "                                                                        '(many '\n",
      "                                                                        'of '\n",
      "                                                                        'whom '\n",
      "                                                                        'due '\n",
      "                                                                        'to '\n",
      "                                                                        'an '\n",
      "                                                                        'extraordinarily '\n",
      "                                                                        'unhealthy '\n",
      "                                                                        'life-style '\n",
      "                                                                        'do '\n",
      "                                                                        'not '\n",
      "                                                                        'live '\n",
      "                                                                        'into '\n",
      "                                                                        'old '\n",
      "                                                                        'age).\\\\n\\\\nThe '\n",
      "                                                                        'aim '\n",
      "                                                                        'of '\n",
      "                                                                        'our '\n",
      "                                                                        'project '\n",
      "                                                                        'is '\n",
      "                                                                        'thus '\n",
      "                                                                        'double-fold. '\n",
      "                                                                        'Firstly '\n",
      "                                                                        'we '\n",
      "                                                                        'intend '\n",
      "                                                                        'to '\n",
      "                                                                        'collect '\n",
      "                                                                        'valuable '\n",
      "                                                                        'evidence '\n",
      "                                                                        'of '\n",
      "                                                                        'and '\n",
      "                                                                        'about '\n",
      "                                                                        'countercultures '\n",
      "                                                                        'under '\n",
      "                                                                        'late '\n",
      "                                                                        'socialism '\n",
      "                                                                        'and '\n",
      "                                                                        'make '\n",
      "                                                                        'this '\n",
      "                                                                        'evidence '\n",
      "                                                                        'available '\n",
      "                                                                        'to '\n",
      "                                                                        'future '\n",
      "                                                                        'researchers '\n",
      "                                                                        'and '\n",
      "                                                                        'those '\n",
      "                                                                        'interested '\n",
      "                                                                        'in '\n",
      "                                                                        'the '\n",
      "                                                                        'study '\n",
      "                                                                        'of '\n",
      "                                                                        'youth- '\n",
      "                                                                        'and '\n",
      "                                                                        'countercultures. '\n",
      "                                                                        'The '\n",
      "                                                                        'project '\n",
      "                                                                        'will '\n",
      "                                                                        'rely '\n",
      "                                                                        'on '\n",
      "                                                                        'oral '\n",
      "                                                                        'history '\n",
      "                                                                        'as '\n",
      "                                                                        'well '\n",
      "                                                                        'as '\n",
      "                                                                        'on '\n",
      "                                                                        'sources '\n",
      "                                                                        'generated '\n",
      "                                                                        'by '\n",
      "                                                                        'the '\n",
      "                                                                        'secret '\n",
      "                                                                        'service '\n",
      "                                                                        'and '\n",
      "                                                                        'the '\n",
      "                                                                        'communist '\n",
      "                                                                        'parties. '\n",
      "                                                                        'It '\n",
      "                                                                        'aims '\n",
      "                                                                        'to '\n",
      "                                                                        'recover '\n",
      "                                                                        'the '\n",
      "                                                                        'multiple '\n",
      "                                                                        'pieces '\n",
      "                                                                        'of '\n",
      "                                                                        'art '\n",
      "                                                                        'and '\n",
      "                                                                        'writing '\n",
      "                                                                        'that '\n",
      "                                                                        'were '\n",
      "                                                                        'produced '\n",
      "                                                                        'in '\n",
      "                                                                        'private '\n",
      "                                                                        'by '\n",
      "                                                                        'drop-out '\n",
      "                                                                        'cultures '\n",
      "                                                                        'as '\n",
      "                                                                        'well '\n",
      "                                                                        'as '\n",
      "                                                                        'seek '\n",
      "                                                                        'out '\n",
      "                                                                        'films '\n",
      "                                                                        'and '\n",
      "                                                                        'photographs '\n",
      "                                                                        'produced '\n",
      "                                                                        'by '\n",
      "                                                                        'groups '\n",
      "                                                                        'who '\n",
      "                                                                        'often '\n",
      "                                                                        'consciously '\n",
      "                                                                        'fashioned '\n",
      "                                                                        'themselves '\n",
      "                                                                        'through '\n",
      "                                                                        'self-produced '\n",
      "                                                                        'artefacts. '\n",
      "                                                                        'Secondly '\n",
      "                                                                        'we '\n",
      "                                                                        'seek '\n",
      "                                                                        'to '\n",
      "                                                                        'explore '\n",
      "                                                                        'the '\n",
      "                                                                        'context '\n",
      "                                                                        'and '\n",
      "                                                                        'manifold '\n",
      "                                                                        'interpretations '\n",
      "                                                                        'of '\n",
      "                                                                        'drop-out '\n",
      "                                                                        'cultures '\n",
      "                                                                        'under '\n",
      "                                                                        'socialism '\n",
      "                                                                        'by '\n",
      "                                                                        'engaging '\n",
      "                                                                        'in '\n",
      "                                                                        'a '\n",
      "                                                                        'concentrated '\n",
      "                                                                        'dialogue '\n",
      "                                                                        'with '\n",
      "                                                                        'scholars '\n",
      "                                                                        'from '\n",
      "                                                                        'other '\n",
      "                                                                        'discipline '\n",
      "                                                                        'and '\n",
      "                                                                        'other '\n",
      "                                                                        'countries. '\n",
      "                                                                        'The '\n",
      "                                                                        'principal '\n",
      "                                                                        'grant '\n",
      "                                                                        'holders '\n",
      "                                                                        'will '\n",
      "                                                                        'engage '\n",
      "                                                                        'in '\n",
      "                                                                        'detailed '\n",
      "                                                                        'research '\n",
      "                                                                        'into '\n",
      "                                                                        'hitherto '\n",
      "                                                                        'under-documented '\n",
      "                                                                        'case '\n",
      "                                                                        'studies '\n",
      "                                                                        'of '\n",
      "                                                                        'drop-out '\n",
      "                                                                        'cultures '\n",
      "                                                                        'in '\n",
      "                                                                        'their '\n",
      "                                                                        'field '\n",
      "                                                                        'of '\n",
      "                                                                        'expertise, '\n",
      "                                                                        'which '\n",
      "                                                                        'will '\n",
      "                                                                        'put '\n",
      "                                                                        'much '\n",
      "                                                                        'new '\n",
      "                                                                        'knowledge '\n",
      "                                                                        'on '\n",
      "                                                                        'the '\n",
      "                                                                        'historical '\n",
      "                                                                        'map. '\n",
      "                                                                        'The '\n",
      "                                                                        'origins, '\n",
      "                                                                        'development '\n",
      "                                                                        'and '\n",
      "                                                                        'fate '\n",
      "                                                                        'of '\n",
      "                                                                        'the '\n",
      "                                                                        'Soviet '\n",
      "                                                                        'hippie '\n",
      "                                                                        'movement '\n",
      "                                                                        'is '\n",
      "                                                                        'so '\n",
      "                                                                        'far '\n",
      "                                                                        'only '\n",
      "                                                                        'known '\n",
      "                                                                        'in '\n",
      "                                                                        'sketches '\n",
      "                                                                        'and '\n",
      "                                                                        'shrouded '\n",
      "                                                                        'in '\n",
      "                                                                        'much '\n",
      "                                                                        'legend '\n",
      "                                                                        'and '\n",
      "                                                                        'misconceptions. '\n",
      "                                                                        'Nor '\n",
      "                                                                        'do '\n",
      "                                                                        'we '\n",
      "                                                                        'know '\n",
      "                                                                        'enough '\n",
      "                                                                        'about '\n",
      "                                                                        'the '\n",
      "                                                                        'cultural '\n",
      "                                                                        'and '\n",
      "                                                                        'political '\n",
      "                                                                        'impact '\n",
      "                                                                        'of '\n",
      "                                                                        'Western '\n",
      "                                                                        'countercultural '\n",
      "                                                                        'trends '\n",
      "                                                                        'in '\n",
      "                                                                        'East '\n",
      "                                                                        'Germany. '\n",
      "                                                                        'Yet '\n",
      "                                                                        'an '\n",
      "                                                                        'equally '\n",
      "                                                                        'important '\n",
      "                                                                        'part '\n",
      "                                                                        'of '\n",
      "                                                                        'the '\n",
      "                                                                        'project '\n",
      "                                                                        'is '\n",
      "                                                                        'the '\n",
      "                                                                        'contextualization '\n",
      "                                                                        'of '\n",
      "                                                                        'these '\n",
      "                                                                        'cultures '\n",
      "                                                                        'into '\n",
      "                                                                        'their '\n",
      "                                                                        'larger '\n",
      "                                                                        'setting: '\n",
      "                                                                        'late '\n",
      "                                                                        'socialist '\n",
      "                                                                        'societies '\n",
      "                                                                        'and '\n",
      "                                                                        'systems. '\n",
      "                                                                        'Co-operation '\n",
      "                                                                        'with '\n",
      "                                                                        'scholars '\n",
      "                                                                        'engaged '\n",
      "                                                                        'in '\n",
      "                                                                        'research '\n",
      "                                                                        'into '\n",
      "                                                                        'drop-out '\n",
      "                                                                        'cultures '\n",
      "                                                                        'in '\n",
      "                                                                        'the '\n",
      "                                                                        'former '\n",
      "                                                                        'Soviet '\n",
      "                                                                        'bloc, '\n",
      "                                                                        'representing '\n",
      "                                                                        'a '\n",
      "                                                                        'variety '\n",
      "                                                                        'of '\n",
      "                                                                        'disciplines '\n",
      "                                                                        'from '\n",
      "                                                                        'the '\n",
      "                                                                        'history '\n",
      "                                                                        'of '\n",
      "                                                                        'art '\n",
      "                                                                        'to '\n",
      "                                                                        'sociology, '\n",
      "                                                                        'will '\n",
      "                                                                        'provide '\n",
      "                                                                        'our '\n",
      "                                                                        'research '\n",
      "                                                                        'with '\n",
      "                                                                        'the '\n",
      "                                                                        'necessary '\n",
      "                                                                        'framework '\n",
      "                                                                        'to '\n",
      "                                                                        'ask '\n",
      "                                                                        'larger '\n",
      "                                                                        'questions: '\n",
      "                                                                        'To '\n",
      "                                                                        'what '\n",
      "                                                                        'extent '\n",
      "                                                                        'was '\n",
      "                                                                        'it '\n",
      "                                                                        'possible '\n",
      "                                                                        'to '\n",
      "                                                                        'drop '\n",
      "                                                                        'out '\n",
      "                                                                        'of '\n",
      "                                                                        'socialism? '\n",
      "                                                                        'What '\n",
      "                                                                        'can '\n",
      "                                                                        'countercultures '\n",
      "                                                                        'tell '\n",
      "                                                                        'us '\n",
      "                                                                        'about '\n",
      "                                                                        'the '\n",
      "                                                                        'state '\n",
      "                                                                        'of '\n",
      "                                                                        'mainstream '\n",
      "                                                                        'society? '\n",
      "                                                                        'How '\n",
      "                                                                        'did '\n",
      "                                                                        'countercultures '\n",
      "                                                                        'differ '\n",
      "                                                                        'in '\n",
      "                                                                        'East '\n",
      "                                                                        'and '\n",
      "                                                                        'West '\n",
      "                                                                        'or '\n",
      "                                                                        'between '\n",
      "                                                                        'the '\n",
      "                                                                        'different '\n",
      "                                                                        'Eastern '\n",
      "                                                                        'European '\n",
      "                                                                        'and '\n",
      "                                                                        'Soviet '\n",
      "                                                                        'societies? '\n",
      "                                                                        'Did '\n",
      "                                                                        'the '\n",
      "                                                                        'existence '\n",
      "                                                                        'of '\n",
      "                                                                        'alternative '\n",
      "                                                                        'life-styles '\n",
      "                                                                        'contribute '\n",
      "                                                                        'to '\n",
      "                                                                        'the '\n",
      "                                                                        'down-fall '\n",
      "                                                                        'of '\n",
      "                                                                        'communism?\\\\n',\n",
      "                                                        'fund': {'end': '2015-01-31',\n",
      "                                                                 'funder': {'id': '1291772D-DFCE-493A-AEE7-24F7EEAFE0E9',\n",
      "                                                                            'name': 'AHRC',\n",
      "                                                                            'url': 'http://gtr.rcuk.ac.uk:80/organisation/1291772D-DFCE-493A-AEE7-24F7EEAFE0E9'},\n",
      "                                                                 'start': '2011-07-01',\n",
      "                                                                 'type': 'INCOME_ACTUAL',\n",
      "                                                                 'valuePounds': 190375},\n",
      "                                                        'grantCategory': 'Research '\n",
      "                                                                         'Grant',\n",
      "                                                        'grantReference': 'AH/I002502/1',\n",
      "                                                        'healthCategory': [],\n",
      "                                                        'id': 'EB8275BC-FF3C-4A89-8A50-043C60520F29',\n",
      "                                                        'identifier': [{'type': 'RCUK',\n",
      "                                                                        'value': 'AH/I002502/1'}],\n",
      "                                                        'output': {'artisticAndCreativeProductOutput': [{'description': 'The '\n",
      "                                                                                                                        'Estonian '\n",
      "                                                                                                                        'film '\n",
      "                                                                                                                        'maker '\n",
      "                                                                                                                        'Terje '\n",
      "                                                                                                                        'Toomistu '\n",
      "                                                                                                                        'became '\n",
      "                                                                                                                        'interested '\n",
      "                                                                                                                        'in '\n",
      "                                                                                                                        'the '\n",
      "                                                                                                                        'former '\n",
      "                                                                                                                        'Soviet '\n",
      "                                                                                                                        'hippies '\n",
      "                                                                                                                        'in '\n",
      "                                                                                                                        'Tallinn. '\n",
      "                                                                                                                        'In '\n",
      "                                                                                                                        'the '\n",
      "                                                                                                                        'course '\n",
      "                                                                                                                        'of '\n",
      "                                                                                                                        'research '\n",
      "                                                                                                                        'she '\n",
      "                                                                                                                        'met '\n",
      "                                                                                                                        'the '\n",
      "                                                                                                                        'PI, '\n",
      "                                                                                                                        'Juliane '\n",
      "                                                                                                                        'F&uuml;rst, '\n",
      "                                                                                                                        'who '\n",
      "                                                                                                                        'became '\n",
      "                                                                                                                        'a '\n",
      "                                                                                                                        'consultant '\n",
      "                                                                                                                        'and '\n",
      "                                                                                                                        'co-producer '\n",
      "                                                                                                                        'on '\n",
      "                                                                                                                        'her '\n",
      "                                                                                                                        'documentary '\n",
      "                                                                                                                        'film '\n",
      "                                                                                                                        'of '\n",
      "                                                                                                                        'the '\n",
      "                                                                                                                        'Soviet '\n",
      "                                                                                                                        'hippie '\n",
      "                                                                                                                        'community. '\n",
      "                                                                                                                        'The '\n",
      "                                                                                                                        'documentary '\n",
      "                                                                                                                        'was '\n",
      "                                                                                                                        'filmed '\n",
      "                                                                                                                        'as '\n",
      "                                                                                                                        'a '\n",
      "                                                                                                                        'part '\n",
      "                                                                                                                        'road '\n",
      "                                                                                                                        'movie, '\n",
      "                                                                                                                        'part '\n",
      "                                                                                                                        'animation, '\n",
      "                                                                                                                        'part '\n",
      "                                                                                                                        'archival '\n",
      "                                                                                                                        'footage '\n",
      "                                                                                                                        'in '\n",
      "                                                                                                                        '2015 '\n",
      "                                                                                                                        'and '\n",
      "                                                                                                                        'relies '\n",
      "                                                                                                                        'in '\n",
      "                                                                                                                        'its '\n",
      "                                                                                                                        'historical '\n",
      "                                                                                                                        'narrative '\n",
      "                                                                                                                        'heavily '\n",
      "                                                                                                                        'on '\n",
      "                                                                                                                        \"F&uuml;rst's \"\n",
      "                                                                                                                        'work '\n",
      "                                                                                                                        'carried '\n",
      "                                                                                                                        'out '\n",
      "                                                                                                                        'under '\n",
      "                                                                                                                        'the '\n",
      "                                                                                                                        'aegis '\n",
      "                                                                                                                        'of '\n",
      "                                                                                                                        'the '\n",
      "                                                                                                                        'project '\n",
      "                                                                                                                        \"'Dropping \"\n",
      "                                                                                                                        'out '\n",
      "                                                                                                                        'of '\n",
      "                                                                                                                        'Socialism&quot;. '\n",
      "                                                                                                                        'It '\n",
      "                                                                                                                        'is '\n",
      "                                                                                                                        'due '\n",
      "                                                                                                                        'to '\n",
      "                                                                                                                        'be '\n",
      "                                                                                                                        'completed '\n",
      "                                                                                                                        'later '\n",
      "                                                                                                                        'this '\n",
      "                                                                                                                        'year.',\n",
      "                                                                                                         'id': '5F946473-52E8-4A06-A51A-056139D74EF6',\n",
      "                                                                                                         'impact': 'The '\n",
      "                                                                                                                   'film '\n",
      "                                                                                                                   'has '\n",
      "                                                                                                                   'already '\n",
      "                                                                                                                   'incurred '\n",
      "                                                                                                                   'great '\n",
      "                                                                                                                   'interest '\n",
      "                                                                                                                   'in '\n",
      "                                                                                                                   'the '\n",
      "                                                                                                                   'film-making '\n",
      "                                                                                                                   'community '\n",
      "                                                                                                                   'and '\n",
      "                                                                                                                   'been '\n",
      "                                                                                                                   'taken '\n",
      "                                                                                                                   'on '\n",
      "                                                                                                                   'by '\n",
      "                                                                                                                   'the '\n",
      "                                                                                                                   'television '\n",
      "                                                                                                                   'station '\n",
      "                                                                                                                   'Arte '\n",
      "                                                                                                                   'for '\n",
      "                                                                                                                   'future '\n",
      "                                                                                                                   'dissemination. '\n",
      "                                                                                                                   'The '\n",
      "                                                                                                                   'crowd-funding '\n",
      "                                                                                                                   'campaign '\n",
      "                                                                                                                   'as '\n",
      "                                                                                                                   'well '\n",
      "                                                                                                                   'as '\n",
      "                                                                                                                   'publicity '\n",
      "                                                                                                                   'for '\n",
      "                                                                                                                   'the '\n",
      "                                                                                                                   'film '\n",
      "                                                                                                                   'online '\n",
      "                                                                                                                   'has '\n",
      "                                                                                                                   'already '\n",
      "                                                                                                                   'raised '\n",
      "                                                                                                                   'awareness '\n",
      "                                                                                                                   'of '\n",
      "                                                                                                                   'the '\n",
      "                                                                                                                   'topic '\n",
      "                                                                                                                   'among '\n",
      "                                                                                                                   'an '\n",
      "                                                                                                                   'interested '\n",
      "                                                                                                                   'audience '\n",
      "                                                                                                                   'worldwide.',\n",
      "                                                                                                         'title': 'Documentary '\n",
      "                                                                                                                  \"'Soviet \"\n",
      "                                                                                                                  \"Hippies' \"\n",
      "                                                                                                                  'by '\n",
      "                                                                                                                  'Terje '\n",
      "                                                                                                                  'Toomistu',\n",
      "                                                                                                         'type': 'Film/Video/Animation',\n",
      "                                                                                                         'url': 'https://www.facebook.com/soviethippies/?fref=ts',\n",
      "                                                                                                         'yearFirstProvided': 2015}],\n",
      "                                                                   'collaborationOutput': [{'collaboratingOrganisation': 'University '\n",
      "                                                                                                                         'of '\n",
      "                                                                                                                         'Exeter',\n",
      "                                                                                            'country': 'United '\n",
      "                                                                                                       'Kingdom '\n",
      "                                                                                                       'of '\n",
      "                                                                                                       'Great '\n",
      "                                                                                                       'Britain '\n",
      "                                                                                                       '& '\n",
      "                                                                                                       'Northern '\n",
      "                                                                                                       'Ireland '\n",
      "                                                                                                       '(UK)',\n",
      "                                                                                            'description': 'Spaces '\n",
      "                                                                                                           'of '\n",
      "                                                                                                           'Late '\n",
      "                                                                                                           'Socialism',\n",
      "                                                                                            'id': '3236A8ED-B73F-4202-B8DE-61713FE5602D',\n",
      "                                                                                            'impact': 'Workshop '\n",
      "                                                                                                      'at '\n",
      "                                                                                                      'the '\n",
      "                                                                                                      'University '\n",
      "                                                                                                      'of '\n",
      "                                                                                                      'Exeter, '\n",
      "                                                                                                      'March '\n",
      "                                                                                                      '2013',\n",
      "                                                                                            'partnerContribution': 'Hosting '\n",
      "                                                                                                                   'research '\n",
      "                                                                                                                   'workshop',\n",
      "                                                                                            'piContribution': 'Organisation '\n",
      "                                                                                                              'of '\n",
      "                                                                                                              'workshop',\n",
      "                                                                                            'sector': 'Academic/University',\n",
      "                                                                                            'start': '2012-01-01'},\n",
      "                                                                                           {'collaboratingOrganisation': 'Sciences '\n",
      "                                                                                                                         'Po',\n",
      "                                                                                            'country': 'France, '\n",
      "                                                                                                       'French '\n",
      "                                                                                                       'Republic',\n",
      "                                                                                            'description': 'Visiting '\n",
      "                                                                                                           'Professorship '\n",
      "                                                                                                           'at '\n",
      "                                                                                                           'Sciences '\n",
      "                                                                                                           'Po, '\n",
      "                                                                                                           'Paris',\n",
      "                                                                                            'id': '6D33DF10-8EE5-4D1A-B2C1-951C29F2AC80',\n",
      "                                                                                            'impact': 'A '\n",
      "                                                                                                      'period '\n",
      "                                                                                                      'of '\n",
      "                                                                                                      'work '\n",
      "                                                                                                      'in '\n",
      "                                                                                                      'the '\n",
      "                                                                                                      'archives '\n",
      "                                                                                                      'of '\n",
      "                                                                                                      'the '\n",
      "                                                                                                      'International '\n",
      "                                                                                                      'Social '\n",
      "                                                                                                      'Science '\n",
      "                                                                                                      'Council.',\n",
      "                                                                                            'partnerContribution': 'Hosting '\n",
      "                                                                                                                   'me '\n",
      "                                                                                                                   'during '\n",
      "                                                                                                                   'my '\n",
      "                                                                                                                   'stay.',\n",
      "                                                                                            'piContribution': 'A '\n",
      "                                                                                                              'month '\n",
      "                                                                                                              'as '\n",
      "                                                                                                              'a '\n",
      "                                                                                                              'visiting '\n",
      "                                                                                                              'professor.',\n",
      "                                                                                            'sector': 'Academic/University',\n",
      "                                                                                            'start': '2014-01-01'},\n",
      "                                                                                           {'collaboratingOrganisation': 'University '\n",
      "                                                                                                                         'of '\n",
      "                                                                                                                         'Exeter',\n",
      "                                                                                            'country': 'United '\n",
      "                                                                                                       'Kingdom '\n",
      "                                                                                                       'of '\n",
      "                                                                                                       'Great '\n",
      "                                                                                                       'Britain '\n",
      "                                                                                                       '& '\n",
      "                                                                                                       'Northern '\n",
      "                                                                                                       'Ireland '\n",
      "                                                                                                       '(UK)',\n",
      "                                                                                            'description': 'Socialist '\n",
      "                                                                                                           'Spaces',\n",
      "                                                                                            'id': 'F504843E-DE23-44D1-9772-71B4D6721425',\n",
      "                                                                                            'piContribution': 'Collaboration, '\n",
      "                                                                                                              'including '\n",
      "                                                                                                              'joint '\n",
      "                                                                                                              'workshop, '\n",
      "                                                                                                              'with '\n",
      "                                                                                                              'scholars '\n",
      "                                                                                                              'and '\n",
      "                                                                                                              'PhD '\n",
      "                                                                                                              'students '\n",
      "                                                                                                              'at '\n",
      "                                                                                                              'Exeter '\n",
      "                                                                                                              'University',\n",
      "                                                                                            'sector': 'Academic/University',\n",
      "                                                                                            'start': '2013-01-01'}],\n",
      "                                                                   'disseminationOutput': [],\n",
      "                                                                   'exploitationOutput': [],\n",
      "                                                                   'furtherFundingOutput': [],\n",
      "                                                                   'impactSummaryOutput': [{'description': 'The '\n",
      "                                                                                                           'Wende '\n",
      "                                                                                                           'Museum '\n",
      "                                                                                                           'in '\n",
      "                                                                                                           'Los '\n",
      "                                                                                                           'Angeles '\n",
      "                                                                                                           'has '\n",
      "                                                                                                           'acquired '\n",
      "                                                                                                           'some '\n",
      "                                                                                                           'of '\n",
      "                                                                                                           'the '\n",
      "                                                                                                           'primary '\n",
      "                                                                                                           'material '\n",
      "                                                                                                           'unearthed '\n",
      "                                                                                                           'by '\n",
      "                                                                                                           'the '\n",
      "                                                                                                           'researchers '\n",
      "                                                                                                           'on '\n",
      "                                                                                                           'this '\n",
      "                                                                                                           'project '\n",
      "                                                                                                           'and '\n",
      "                                                                                                           'is, '\n",
      "                                                                                                           'in '\n",
      "                                                                                                           'collaboration '\n",
      "                                                                                                           'with '\n",
      "                                                                                                           'the '\n",
      "                                                                                                           'PI, '\n",
      "                                                                                                           'planning '\n",
      "                                                                                                           'an '\n",
      "                                                                                                           'exhibition '\n",
      "                                                                                                           'on '\n",
      "                                                                                                           'the '\n",
      "                                                                                                           'Soviet '\n",
      "                                                                                                           'Hippies '\n",
      "                                                                                                           'in '\n",
      "                                                                                                           '2017.\\n'\n",
      "                                                                                                           '\\n'\n",
      "                                                                                                           'The '\n",
      "                                                                                                           'documentary '\n",
      "                                                                                                           'maker '\n",
      "                                                                                                           'Terje '\n",
      "                                                                                                           'Toomistu '\n",
      "                                                                                                           'has '\n",
      "                                                                                                           'become '\n",
      "                                                                                                           'interested '\n",
      "                                                                                                           'in '\n",
      "                                                                                                           'the '\n",
      "                                                                                                           'Soviet '\n",
      "                                                                                                           'hippies '\n",
      "                                                                                                           'and '\n",
      "                                                                                                           'the '\n",
      "                                                                                                           'PI, '\n",
      "                                                                                                           'Juliane '\n",
      "                                                                                                           'F&uuml;rst, '\n",
      "                                                                                                           'is '\n",
      "                                                                                                           'serving '\n",
      "                                                                                                           'as '\n",
      "                                                                                                           'a '\n",
      "                                                                                                           'consultant '\n",
      "                                                                                                           'and '\n",
      "                                                                                                           'co-producer '\n",
      "                                                                                                           'on '\n",
      "                                                                                                           'her '\n",
      "                                                                                                           'almost '\n",
      "                                                                                                           'completed '\n",
      "                                                                                                           'documentary '\n",
      "                                                                                                           'on '\n",
      "                                                                                                           'the '\n",
      "                                                                                                           'movement.',\n",
      "                                                                                            'firstYearOfImpact': 2015,\n",
      "                                                                                            'id': '2ADD3907-1964-4211-A75B-6CE72F3E06D8',\n",
      "                                                                                            'impactType': ['Cultural'],\n",
      "                                                                                            'sector': 'Creative '\n",
      "                                                                                                      'Economy,Education,Culture, '\n",
      "                                                                                                      'Heritage, '\n",
      "                                                                                                      'Museums '\n",
      "                                                                                                      'and '\n",
      "                                                                                                      'Collections'}],\n",
      "                                                                   'intellectualPropertyOutput': [],\n",
      "                                                                   'keyFindingsOutput': {'description': 'The '\n",
      "                                                                                                        'research '\n",
      "                                                                                                        'carried '\n",
      "                                                                                                        'out '\n",
      "                                                                                                        'under '\n",
      "                                                                                                        'the '\n",
      "                                                                                                        'aegis '\n",
      "                                                                                                        'of '\n",
      "                                                                                                        'the '\n",
      "                                                                                                        'project '\n",
      "                                                                                                        \"'Dropping \"\n",
      "                                                                                                        'out '\n",
      "                                                                                                        'of '\n",
      "                                                                                                        \"Socialism' \"\n",
      "                                                                                                        'has '\n",
      "                                                                                                        'contributed '\n",
      "                                                                                                        'in '\n",
      "                                                                                                        'major '\n",
      "                                                                                                        'ways '\n",
      "                                                                                                        'to '\n",
      "                                                                                                        'how '\n",
      "                                                                                                        'historians '\n",
      "                                                                                                        'currently '\n",
      "                                                                                                        'view '\n",
      "                                                                                                        'the '\n",
      "                                                                                                        'period '\n",
      "                                                                                                        'of '\n",
      "                                                                                                        'late '\n",
      "                                                                                                        'socialism. '\n",
      "                                                                                                        'The '\n",
      "                                                                                                        'image '\n",
      "                                                                                                        'of '\n",
      "                                                                                                        'the '\n",
      "                                                                                                        'grey '\n",
      "                                                                                                        'and '\n",
      "                                                                                                        'stagnating '\n",
      "                                                                                                        'Eastern '\n",
      "                                                                                                        'bloc, '\n",
      "                                                                                                        'which '\n",
      "                                                                                                        'dominated '\n",
      "                                                                                                        'historial '\n",
      "                                                                                                        'narratives '\n",
      "                                                                                                        'in '\n",
      "                                                                                                        'the '\n",
      "                                                                                                        'Cold '\n",
      "                                                                                                        'War '\n",
      "                                                                                                        'and '\n",
      "                                                                                                        'beyond, '\n",
      "                                                                                                        'has '\n",
      "                                                                                                        'been '\n",
      "                                                                                                        'replaced '\n",
      "                                                                                                        'with '\n",
      "                                                                                                        'acknowledgment '\n",
      "                                                                                                        'that '\n",
      "                                                                                                        'it '\n",
      "                                                                                                        'was '\n",
      "                                                                                                        'this '\n",
      "                                                                                                        'time '\n",
      "                                                                                                        'which '\n",
      "                                                                                                        'produced '\n",
      "                                                                                                        'a '\n",
      "                                                                                                        'plethora '\n",
      "                                                                                                        'of '\n",
      "                                                                                                        'parallel '\n",
      "                                                                                                        'and '\n",
      "                                                                                                        'subcultures, '\n",
      "                                                                                                        'which '\n",
      "                                                                                                        'interacted, '\n",
      "                                                                                                        'permeated '\n",
      "                                                                                                        'and '\n",
      "                                                                                                        'influenced '\n",
      "                                                                                                        'the '\n",
      "                                                                                                        'mainstream. '\n",
      "                                                                                                        'The '\n",
      "                                                                                                        'period '\n",
      "                                                                                                        'of '\n",
      "                                                                                                        'late '\n",
      "                                                                                                        'socialism '\n",
      "                                                                                                        'is '\n",
      "                                                                                                        'now '\n",
      "                                                                                                        'seen '\n",
      "                                                                                                        'as '\n",
      "                                                                                                        'a '\n",
      "                                                                                                        'time '\n",
      "                                                                                                        'of '\n",
      "                                                                                                        'highly '\n",
      "                                                                                                        'complex '\n",
      "                                                                                                        'interplay '\n",
      "                                                                                                        'between '\n",
      "                                                                                                        'the '\n",
      "                                                                                                        \"'official' \"\n",
      "                                                                                                        'and '\n",
      "                                                                                                        \"'non-official' \"\n",
      "                                                                                                        'and '\n",
      "                                                                                                        'as '\n",
      "                                                                                                        'key '\n",
      "                                                                                                        'to '\n",
      "                                                                                                        'understanding '\n",
      "                                                                                                        'the '\n",
      "                                                                                                        'intellectual '\n",
      "                                                                                                        'and '\n",
      "                                                                                                        'political '\n",
      "                                                                                                        'culture '\n",
      "                                                                                                        'in '\n",
      "                                                                                                        'Eastern '\n",
      "                                                                                                        'Europe '\n",
      "                                                                                                        'and '\n",
      "                                                                                                        'Russia '\n",
      "                                                                                                        'today.\\n'\n",
      "                                                                                                        '\\n'\n",
      "                                                                                                        'Our '\n",
      "                                                                                                        'project '\n",
      "                                                                                                        'has '\n",
      "                                                                                                        'significantly '\n",
      "                                                                                                        'contributed '\n",
      "                                                                                                        'to '\n",
      "                                                                                                        'and '\n",
      "                                                                                                        'developed '\n",
      "                                                                                                        'this '\n",
      "                                                                                                        'new '\n",
      "                                                                                                        'view '\n",
      "                                                                                                        'on '\n",
      "                                                                                                        'late '\n",
      "                                                                                                        'socialism '\n",
      "                                                                                                        'by '\n",
      "                                                                                                        'carrying '\n",
      "                                                                                                        'out '\n",
      "                                                                                                        'detailed '\n",
      "                                                                                                        'case '\n",
      "                                                                                                        'studies '\n",
      "                                                                                                        'in '\n",
      "                                                                                                        'underground '\n",
      "                                                                                                        'cultures '\n",
      "                                                                                                        '(Hippies, '\n",
      "                                                                                                        'gay '\n",
      "                                                                                                        'and '\n",
      "                                                                                                        'lesbian '\n",
      "                                                                                                        'communitues, '\n",
      "                                                                                                        'rock '\n",
      "                                                                                                        'musicians) '\n",
      "                                                                                                        'and '\n",
      "                                                                                                        'running '\n",
      "                                                                                                        'a '\n",
      "                                                                                                        'much '\n",
      "                                                                                                        'noted '\n",
      "                                                                                                        'workshop '\n",
      "                                                                                                        'on '\n",
      "                                                                                                        'alternative '\n",
      "                                                                                                        'spheres '\n",
      "                                                                                                        'in '\n",
      "                                                                                                        'the '\n",
      "                                                                                                        'Soviet '\n",
      "                                                                                                        'bloc, '\n",
      "                                                                                                        'which '\n",
      "                                                                                                        'involved '\n",
      "                                                                                                        'scholars '\n",
      "                                                                                                        'from '\n",
      "                                                                                                        'twelve '\n",
      "                                                                                                        'different '\n",
      "                                                                                                        'countries. '\n",
      "                                                                                                        'The '\n",
      "                                                                                                        'workshop '\n",
      "                                                                                                        'papers '\n",
      "                                                                                                        'will '\n",
      "                                                                                                        'be '\n",
      "                                                                                                        'published '\n",
      "                                                                                                        'later '\n",
      "                                                                                                        'this '\n",
      "                                                                                                        'year '\n",
      "                                                                                                        'by '\n",
      "                                                                                                        'Lexington '\n",
      "                                                                                                        'books. '\n",
      "                                                                                                        'They '\n",
      "                                                                                                        'will '\n",
      "                                                                                                        'undoubtedly '\n",
      "                                                                                                        'draw '\n",
      "                                                                                                        'attention '\n",
      "                                                                                                        'to '\n",
      "                                                                                                        'the '\n",
      "                                                                                                        'wide '\n",
      "                                                                                                        'diversity '\n",
      "                                                                                                        'of '\n",
      "                                                                                                        'cultural '\n",
      "                                                                                                        'phenomena '\n",
      "                                                                                                        'that '\n",
      "                                                                                                        'existed '\n",
      "                                                                                                        'in '\n",
      "                                                                                                        'this '\n",
      "                                                                                                        'time '\n",
      "                                                                                                        'behind '\n",
      "                                                                                                        'the '\n",
      "                                                                                                        'Iron '\n",
      "                                                                                                        'Curtain '\n",
      "                                                                                                        'and '\n",
      "                                                                                                        'showcase '\n",
      "                                                                                                        'that '\n",
      "                                                                                                        'much '\n",
      "                                                                                                        'that '\n",
      "                                                                                                        'characterized '\n",
      "                                                                                                        'cultural '\n",
      "                                                                                                        'life '\n",
      "                                                                                                        'in '\n",
      "                                                                                                        'Eastern '\n",
      "                                                                                                        'Europe '\n",
      "                                                                                                        'in '\n",
      "                                                                                                        'the '\n",
      "                                                                                                        '1990s '\n",
      "                                                                                                        'has '\n",
      "                                                                                                        'its '\n",
      "                                                                                                        'roots '\n",
      "                                                                                                        'in '\n",
      "                                                                                                        'the '\n",
      "                                                                                                        'socialist '\n",
      "                                                                                                        'period.',\n",
      "                                                                                         'exploitationPathways': 'The '\n",
      "                                                                                                                 'project '\n",
      "                                                                                                                 'has '\n",
      "                                                                                                                 'already '\n",
      "                                                                                                                 'produced '\n",
      "                                                                                                                 'three '\n",
      "                                                                                                                 'published '\n",
      "                                                                                                                 'articles. '\n",
      "                                                                                                                 'Two '\n",
      "                                                                                                                 'more, '\n",
      "                                                                                                                 'one '\n",
      "                                                                                                                 'monograph, '\n",
      "                                                                                                                 'one '\n",
      "                                                                                                                 'collected '\n",
      "                                                                                                                 'volume, '\n",
      "                                                                                                                 'one '\n",
      "                                                                                                                 'documentary '\n",
      "                                                                                                                 'film '\n",
      "                                                                                                                 'and '\n",
      "                                                                                                                 'one '\n",
      "                                                                                                                 'digital '\n",
      "                                                                                                                 'archive '\n",
      "                                                                                                                 'are '\n",
      "                                                                                                                 'still '\n",
      "                                                                                                                 'in '\n",
      "                                                                                                                 'the '\n",
      "                                                                                                                 'making. '\n",
      "                                                                                                                 'Taken '\n",
      "                                                                                                                 'together '\n",
      "                                                                                                                 'this '\n",
      "                                                                                                                 'represents '\n",
      "                                                                                                                 'a '\n",
      "                                                                                                                 'formidable '\n",
      "                                                                                                                 'amount '\n",
      "                                                                                                                 'of '\n",
      "                                                                                                                 'literature '\n",
      "                                                                                                                 'and '\n",
      "                                                                                                                 'visual '\n",
      "                                                                                                                 'material '\n",
      "                                                                                                                 'on '\n",
      "                                                                                                                 'a '\n",
      "                                                                                                                 'topic '\n",
      "                                                                                                                 'that '\n",
      "                                                                                                                 'has '\n",
      "                                                                                                                 'long '\n",
      "                                                                                                                 'been '\n",
      "                                                                                                                 'neglected '\n",
      "                                                                                                                 'and '\n",
      "                                                                                                                 'which '\n",
      "                                                                                                                 'has '\n",
      "                                                                                                                 'entered '\n",
      "                                                                                                                 'the '\n",
      "                                                                                                                 'horizon '\n",
      "                                                                                                                 'of '\n",
      "                                                                                                                 'fellow '\n",
      "                                                                                                                 'historians '\n",
      "                                                                                                                 'not '\n",
      "                                                                                                                 'least '\n",
      "                                                                                                                 'through '\n",
      "                                                                                                                 'the '\n",
      "                                                                                                                 'work '\n",
      "                                                                                                                 'carried '\n",
      "                                                                                                                 'out '\n",
      "                                                                                                                 'under '\n",
      "                                                                                                                 'the '\n",
      "                                                                                                                 'aegis '\n",
      "                                                                                                                 'of '\n",
      "                                                                                                                 'the '\n",
      "                                                                                                                 'project. \\n'\n",
      "                                                                                                                 '\\n'\n",
      "                                                                                                                 'The '\n",
      "                                                                                                                 'digital '\n",
      "                                                                                                                 'archive '\n",
      "                                                                                                                 'is '\n",
      "                                                                                                                 'going '\n",
      "                                                                                                                 'to '\n",
      "                                                                                                                 'be '\n",
      "                                                                                                                 'open '\n",
      "                                                                                                                 'source '\n",
      "                                                                                                                 'and '\n",
      "                                                                                                                 'accessible '\n",
      "                                                                                                                 'freely '\n",
      "                                                                                                                 'on '\n",
      "                                                                                                                 'the '\n",
      "                                                                                                                 'internet. '\n",
      "                                                                                                                 'All '\n",
      "                                                                                                                 'articles '\n",
      "                                                                                                                 'and '\n",
      "                                                                                                                 'books '\n",
      "                                                                                                                 'are '\n",
      "                                                                                                                 'published '\n",
      "                                                                                                                 'by '\n",
      "                                                                                                                 'reputable '\n",
      "                                                                                                                 'publishing '\n",
      "                                                                                                                 'houses '\n",
      "                                                                                                                 '(OUP, '\n",
      "                                                                                                                 'Lexington, '\n",
      "                                                                                                                 'Sage '\n",
      "                                                                                                                 'journals) '\n",
      "                                                                                                                 'and '\n",
      "                                                                                                                 'hence '\n",
      "                                                                                                                 'accessible '\n",
      "                                                                                                                 'to '\n",
      "                                                                                                                 'fellow '\n",
      "                                                                                                                 'academics. \\n'\n",
      "                                                                                                                 '\\n'\n",
      "                                                                                                                 'In '\n",
      "                                                                                                                 'addition '\n",
      "                                                                                                                 'we '\n",
      "                                                                                                                 'expect '\n",
      "                                                                                                                 'that '\n",
      "                                                                                                                 'the '\n",
      "                                                                                                                 'forthcoming '\n",
      "                                                                                                                 'exhibition '\n",
      "                                                                                                                 'and '\n",
      "                                                                                                                 'the '\n",
      "                                                                                                                 'documentary '\n",
      "                                                                                                                 'film '\n",
      "                                                                                                                 'on '\n",
      "                                                                                                                 'Soviet '\n",
      "                                                                                                                 'hippies '\n",
      "                                                                                                                 'is '\n",
      "                                                                                                                 'going '\n",
      "                                                                                                                 'to '\n",
      "                                                                                                                 'draw '\n",
      "                                                                                                                 'attention '\n",
      "                                                                                                                 'to '\n",
      "                                                                                                                 'the '\n",
      "                                                                                                                 'wider '\n",
      "                                                                                                                 'project '\n",
      "                                                                                                                 'and '\n",
      "                                                                                                                 'place '\n",
      "                                                                                                                 'our '\n",
      "                                                                                                                 'work '\n",
      "                                                                                                                 'firmly '\n",
      "                                                                                                                 'on '\n",
      "                                                                                                                 'not '\n",
      "                                                                                                                 'only '\n",
      "                                                                                                                 'the '\n",
      "                                                                                                                 'academic '\n",
      "                                                                                                                 'map '\n",
      "                                                                                                                 'but '\n",
      "                                                                                                                 'wider '\n",
      "                                                                                                                 'public '\n",
      "                                                                                                                 'consciousness. \\n'\n",
      "                                                                                                                 '\\n'\n",
      "                                                                                                                 'We '\n",
      "                                                                                                                 'intend '\n",
      "                                                                                                                 'to '\n",
      "                                                                                                                 'continue '\n",
      "                                                                                                                 'publishing '\n",
      "                                                                                                                 'our '\n",
      "                                                                                                                 'findings '\n",
      "                                                                                                                 '(especially '\n",
      "                                                                                                                 'our '\n",
      "                                                                                                                 'PhD '\n",
      "                                                                                                                 'student '\n",
      "                                                                                                                 'Anna '\n",
      "                                                                                                                 'Kan '\n",
      "                                                                                                                 'is '\n",
      "                                                                                                                 'expected '\n",
      "                                                                                                                 'to '\n",
      "                                                                                                                 'finish '\n",
      "                                                                                                                 'this '\n",
      "                                                                                                                 'year '\n",
      "                                                                                                                 'and '\n",
      "                                                                                                                 'publish '\n",
      "                                                                                                                 'her '\n",
      "                                                                                                                 'first '\n",
      "                                                                                                                 'article) '\n",
      "                                                                                                                 'and '\n",
      "                                                                                                                 'to '\n",
      "                                                                                                                 'make '\n",
      "                                                                                                                 'use '\n",
      "                                                                                                                 'of '\n",
      "                                                                                                                 'further '\n",
      "                                                                                                                 'opportunities '\n",
      "                                                                                                                 'arising '\n",
      "                                                                                                                 'from '\n",
      "                                                                                                                 'our '\n",
      "                                                                                                                 'collaboration '\n",
      "                                                                                                                 'with '\n",
      "                                                                                                                 'the '\n",
      "                                                                                                                 'Wende '\n",
      "                                                                                                                 'Museum '\n",
      "                                                                                                                 'in '\n",
      "                                                                                                                 'LA. '\n",
      "                                                                                                                 'We '\n",
      "                                                                                                                 'have '\n",
      "                                                                                                                 'applied '\n",
      "                                                                                                                 'for '\n",
      "                                                                                                                 'a '\n",
      "                                                                                                                 'follow-on '\n",
      "                                                                                                                 'and '\n",
      "                                                                                                                 'impact '\n",
      "                                                                                                                 'grant '\n",
      "                                                                                                                 'to '\n",
      "                                                                                                                 'realize '\n",
      "                                                                                                                 'the '\n",
      "                                                                                                                 'exhibition '\n",
      "                                                                                                                 'and '\n",
      "                                                                                                                 'cement '\n",
      "                                                                                                                 'this '\n",
      "                                                                                                                 'museum-academic '\n",
      "                                                                                                                 'partnership, '\n",
      "                                                                                                                 'which '\n",
      "                                                                                                                 'has '\n",
      "                                                                                                                 'been '\n",
      "                                                                                                                 'very '\n",
      "                                                                                                                 'fruitful '\n",
      "                                                                                                                 'to '\n",
      "                                                                                                                 'both '\n",
      "                                                                                                                 'sides.',\n",
      "                                                                                         'id': '22A20B87-1FF5-4036-A5A6-C397C74BCA15',\n",
      "                                                                                         'sector': ['Creative '\n",
      "                                                                                                    'Economy,Education,Culture, '\n",
      "                                                                                                    'Heritage, '\n",
      "                                                                                                    'Museums '\n",
      "                                                                                                    'and '\n",
      "                                                                                                    'Collections']},\n",
      "                                                                   'otherResearchOutput': [],\n",
      "                                                                   'policyInfluenceOutput': [],\n",
      "                                                                   'productOutput': [],\n",
      "                                                                   'researchDatabaseAndModelOutput': [{'description': 'This '\n",
      "                                                                                                                      'data '\n",
      "                                                                                                                      'base '\n",
      "                                                                                                                      'contains '\n",
      "                                                                                                                      'a '\n",
      "                                                                                                                      'large '\n",
      "                                                                                                                      'collection '\n",
      "                                                                                                                      'of '\n",
      "                                                                                                                      'photos '\n",
      "                                                                                                                      'relating '\n",
      "                                                                                                                      'to '\n",
      "                                                                                                                      'the '\n",
      "                                                                                                                      'research '\n",
      "                                                                                                                      'project '\n",
      "                                                                                                                      \"'Dropping \"\n",
      "                                                                                                                      'out '\n",
      "                                                                                                                      'of '\n",
      "                                                                                                                      \"Socialism', \"\n",
      "                                                                                                                      'which '\n",
      "                                                                                                                      'have '\n",
      "                                                                                                                      'been '\n",
      "                                                                                                                      'acquired '\n",
      "                                                                                                                      'and '\n",
      "                                                                                                                      'scanned '\n",
      "                                                                                                                      'by '\n",
      "                                                                                                                      'the '\n",
      "                                                                                                                      'Wende '\n",
      "                                                                                                                      'Museum. '\n",
      "                                                                                                                      'The '\n",
      "                                                                                                                      'database '\n",
      "                                                                                                                      'is '\n",
      "                                                                                                                      'designed '\n",
      "                                                                                                                      'to '\n",
      "                                                                                                                      'be '\n",
      "                                                                                                                      'open '\n",
      "                                                                                                                      'to '\n",
      "                                                                                                                      'further '\n",
      "                                                                                                                      'additions '\n",
      "                                                                                                                      'and '\n",
      "                                                                                                                      'will '\n",
      "                                                                                                                      'support '\n",
      "                                                                                                                      'the '\n",
      "                                                                                                                      'Wende '\n",
      "                                                                                                                      'Museum '\n",
      "                                                                                                                      'LA '\n",
      "                                                                                                                      'in '\n",
      "                                                                                                                      'its '\n",
      "                                                                                                                      'educational '\n",
      "                                                                                                                      'work.',\n",
      "                                                                                                       'id': '9F1EE7D6-E5EB-4486-95CE-422CE6A20EDC',\n",
      "                                                                                                       'impact': 'This '\n",
      "                                                                                                                 'is '\n",
      "                                                                                                                 'the '\n",
      "                                                                                                                 'first '\n",
      "                                                                                                                 'time '\n",
      "                                                                                                                 'that '\n",
      "                                                                                                                 'a '\n",
      "                                                                                                                 'large '\n",
      "                                                                                                                 'number '\n",
      "                                                                                                                 'of '\n",
      "                                                                                                                 'hitherto '\n",
      "                                                                                                                 'inaccessible '\n",
      "                                                                                                                 'and '\n",
      "                                                                                                                 'unknown '\n",
      "                                                                                                                 'photographic '\n",
      "                                                                                                                 'material '\n",
      "                                                                                                                 'of '\n",
      "                                                                                                                 'little '\n",
      "                                                                                                                 'known '\n",
      "                                                                                                                 'aspects '\n",
      "                                                                                                                 'of '\n",
      "                                                                                                                 'Soviet '\n",
      "                                                                                                                 'life '\n",
      "                                                                                                                 'will '\n",
      "                                                                                                                 'be '\n",
      "                                                                                                                 'made '\n",
      "                                                                                                                 'available '\n",
      "                                                                                                                 'to '\n",
      "                                                                                                                 'the '\n",
      "                                                                                                                 'wider '\n",
      "                                                                                                                 'public '\n",
      "                                                                                                                 'and '\n",
      "                                                                                                                 'in '\n",
      "                                                                                                                 'an '\n",
      "                                                                                                                 'easily '\n",
      "                                                                                                                 'navigable '\n",
      "                                                                                                                 'format '\n",
      "                                                                                                                 'with '\n",
      "                                                                                                                 'English '\n",
      "                                                                                                                 'titles '\n",
      "                                                                                                                 'and '\n",
      "                                                                                                                 'explanations.',\n",
      "                                                                                                       'title': 'Digital '\n",
      "                                                                                                                'Photo '\n",
      "                                                                                                                'Archive '\n",
      "                                                                                                                \"'Dropping \"\n",
      "                                                                                                                'out '\n",
      "                                                                                                                'of '\n",
      "                                                                                                                \"Socialism'\",\n",
      "                                                                                                       'type': 'Database/Collection '\n",
      "                                                                                                               'of '\n",
      "                                                                                                               'data'}],\n",
      "                                                                   'researchMaterialOutput': [],\n",
      "                                                                   'softwareAndTechnicalProductOutput': [],\n",
      "                                                                   'spinOutOutput': []},\n",
      "                                                        'potentialImpactText': 'Youth '\n",
      "                                                                               'policy '\n",
      "                                                                               'makers\\\\nThis '\n",
      "                                                                               'project '\n",
      "                                                                               'is '\n",
      "                                                                               'all '\n",
      "                                                                               'about '\n",
      "                                                                               'dealing '\n",
      "                                                                               'with '\n",
      "                                                                               'societal '\n",
      "                                                                               'drop-outs '\n",
      "                                                                               'and '\n",
      "                                                                               'their '\n",
      "                                                                               'culture. '\n",
      "                                                                               'Most '\n",
      "                                                                               'of '\n",
      "                                                                               'our '\n",
      "                                                                               'subjects '\n",
      "                                                                               'will '\n",
      "                                                                               'have '\n",
      "                                                                               'been '\n",
      "                                                                               'young '\n",
      "                                                                               'or '\n",
      "                                                                               'youngish '\n",
      "                                                                               'when '\n",
      "                                                                               'they '\n",
      "                                                                               'decided '\n",
      "                                                                               'to '\n",
      "                                                                               'leave '\n",
      "                                                                               'mainstream '\n",
      "                                                                               'society '\n",
      "                                                                               'and '\n",
      "                                                                               'culture. '\n",
      "                                                                               'Their '\n",
      "                                                                               'study '\n",
      "                                                                               'and '\n",
      "                                                                               'evaluation '\n",
      "                                                                               'necessarily '\n",
      "                                                                               'involves '\n",
      "                                                                               'understanding '\n",
      "                                                                               'their '\n",
      "                                                                               'motivations '\n",
      "                                                                               'and '\n",
      "                                                                               'actions. '\n",
      "                                                                               'While '\n",
      "                                                                               'the '\n",
      "                                                                               'project '\n",
      "                                                                               'examines '\n",
      "                                                                               'socialist '\n",
      "                                                                               'societies, '\n",
      "                                                                               'which '\n",
      "                                                                               'demanded '\n",
      "                                                                               'a '\n",
      "                                                                               'large '\n",
      "                                                                               'degree '\n",
      "                                                                               'of '\n",
      "                                                                               'conformity, '\n",
      "                                                                               'and '\n",
      "                                                                               'explores '\n",
      "                                                                               'a '\n",
      "                                                                               'time '\n",
      "                                                                               'that '\n",
      "                                                                               'is '\n",
      "                                                                               'thirty '\n",
      "                                                                               'years '\n",
      "                                                                               'in '\n",
      "                                                                               'the '\n",
      "                                                                               'past, '\n",
      "                                                                               'many '\n",
      "                                                                               'of '\n",
      "                                                                               'its '\n",
      "                                                                               'findings '\n",
      "                                                                               'will '\n",
      "                                                                               'be '\n",
      "                                                                               'of '\n",
      "                                                                               'value '\n",
      "                                                                               'to '\n",
      "                                                                               'modern-day '\n",
      "                                                                               'policy '\n",
      "                                                                               'makers '\n",
      "                                                                               'and '\n",
      "                                                                               'youth '\n",
      "                                                                               'specialists. '\n",
      "                                                                               'Generational '\n",
      "                                                                               'conflict, '\n",
      "                                                                               'rebellion '\n",
      "                                                                               'against '\n",
      "                                                                               'mainstream '\n",
      "                                                                               'culture, '\n",
      "                                                                               'rejection '\n",
      "                                                                               'of '\n",
      "                                                                               'commercialism, '\n",
      "                                                                               'the '\n",
      "                                                                               'search '\n",
      "                                                                               'for '\n",
      "                                                                               'higher '\n",
      "                                                                               'meaning '\n",
      "                                                                               'in '\n",
      "                                                                               'communitarian '\n",
      "                                                                               'movements, '\n",
      "                                                                               'itinerant '\n",
      "                                                                               'life-styles '\n",
      "                                                                               'etc. '\n",
      "                                                                               'still '\n",
      "                                                                               'provide '\n",
      "                                                                               'the '\n",
      "                                                                               'hallmarks '\n",
      "                                                                               'of '\n",
      "                                                                               'many '\n",
      "                                                                               'non-conformist '\n",
      "                                                                               'youth '\n",
      "                                                                               'cultures '\n",
      "                                                                               'today.\\\\n\\\\nTeachers '\n",
      "                                                                               'and '\n",
      "                                                                               'Youth '\n",
      "                                                                               'Workers\\\\nA '\n",
      "                                                                               'project '\n",
      "                                                                               'whose '\n",
      "                                                                               'primary '\n",
      "                                                                               'goal '\n",
      "                                                                               'is '\n",
      "                                                                               'not '\n",
      "                                                                               'to '\n",
      "                                                                               \"'solve' \"\n",
      "                                                                               'the '\n",
      "                                                                               'youth '\n",
      "                                                                               'problem, '\n",
      "                                                                               'but '\n",
      "                                                                               'understand '\n",
      "                                                                               'young '\n",
      "                                                                               'drop-outs '\n",
      "                                                                               'and '\n",
      "                                                                               'alternatives '\n",
      "                                                                               'can '\n",
      "                                                                               'have '\n",
      "                                                                               'great '\n",
      "                                                                               'educational '\n",
      "                                                                               'and '\n",
      "                                                                               'socially '\n",
      "                                                                               'integrative '\n",
      "                                                                               'benefits. '\n",
      "                                                                               'Learning '\n",
      "                                                                               'about '\n",
      "                                                                               'the '\n",
      "                                                                               'history '\n",
      "                                                                               'of '\n",
      "                                                                               'alternative '\n",
      "                                                                               'youth '\n",
      "                                                                               'cultures '\n",
      "                                                                               'can '\n",
      "                                                                               'bestow '\n",
      "                                                                               'a '\n",
      "                                                                               'sense '\n",
      "                                                                               'of '\n",
      "                                                                               'value '\n",
      "                                                                               'to '\n",
      "                                                                               'young '\n",
      "                                                                               'people, '\n",
      "                                                                               'who '\n",
      "                                                                               'consider '\n",
      "                                                                               'themselves '\n",
      "                                                                               'outside '\n",
      "                                                                               'the '\n",
      "                                                                               'norms '\n",
      "                                                                               'and '\n",
      "                                                                               'structures '\n",
      "                                                                               'of '\n",
      "                                                                               'normal '\n",
      "                                                                               'British '\n",
      "                                                                               'society, '\n",
      "                                                                               'e.g.gang '\n",
      "                                                                               'members, '\n",
      "                                                                               'politically '\n",
      "                                                                               'or '\n",
      "                                                                               'culturally '\n",
      "                                                                               'radicalised '\n",
      "                                                                               'youth '\n",
      "                                                                               'etc. '\n",
      "                                                                               'The '\n",
      "                                                                               'material '\n",
      "                                                                               'and '\n",
      "                                                                               'output '\n",
      "                                                                               'of '\n",
      "                                                                               'the '\n",
      "                                                                               'project '\n",
      "                                                                               'could '\n",
      "                                                                               'thus '\n",
      "                                                                               'be '\n",
      "                                                                               'of '\n",
      "                                                                               'great '\n",
      "                                                                               'benefit '\n",
      "                                                                               'to '\n",
      "                                                                               'teachers '\n",
      "                                                                               'and '\n",
      "                                                                               'youth '\n",
      "                                                                               'workers, '\n",
      "                                                                               'especially, '\n",
      "                                                                               'but '\n",
      "                                                                               'not '\n",
      "                                                                               'only, '\n",
      "                                                                               'those '\n",
      "                                                                               'who '\n",
      "                                                                               'work '\n",
      "                                                                               'with '\n",
      "                                                                               'youth '\n",
      "                                                                               'at '\n",
      "                                                                               'the '\n",
      "                                                                               'margins '\n",
      "                                                                               'of '\n",
      "                                                                               'society. '\n",
      "                                                                               'Hopefully, '\n",
      "                                                                               'via '\n",
      "                                                                               'the '\n",
      "                                                                               'digital '\n",
      "                                                                               'archive '\n",
      "                                                                               'and '\n",
      "                                                                               'its '\n",
      "                                                                               'usage '\n",
      "                                                                               'in '\n",
      "                                                                               'school '\n",
      "                                                                               'and '\n",
      "                                                                               'universities, '\n",
      "                                                                               'young '\n",
      "                                                                               'people '\n",
      "                                                                               'will '\n",
      "                                                                               'realize '\n",
      "                                                                               'that '\n",
      "                                                                               'established '\n",
      "                                                                               'history '\n",
      "                                                                               'is '\n",
      "                                                                               'not '\n",
      "                                                                               'just '\n",
      "                                                                               'about '\n",
      "                                                                               'important '\n",
      "                                                                               'leaders '\n",
      "                                                                               'and '\n",
      "                                                                               'great '\n",
      "                                                                               'events, '\n",
      "                                                                               'but '\n",
      "                                                                               'that '\n",
      "                                                                               'their '\n",
      "                                                                               'very '\n",
      "                                                                               'own '\n",
      "                                                                               'culture '\n",
      "                                                                               'and '\n",
      "                                                                               'existence '\n",
      "                                                                               'is '\n",
      "                                                                               'as '\n",
      "                                                                               'worthy '\n",
      "                                                                               'of '\n",
      "                                                                               'recording '\n",
      "                                                                               'and '\n",
      "                                                                               'safe-keeping '\n",
      "                                                                               'as '\n",
      "                                                                               'that '\n",
      "                                                                               'of '\n",
      "                                                                               'politicians '\n",
      "                                                                               'and '\n",
      "                                                                               'economic '\n",
      "                                                                               'moguls. '\n",
      "                                                                               '\\\\n\\\\nMuseums '\n",
      "                                                                               'and '\n",
      "                                                                               'Media\\\\nThe '\n",
      "                                                                               'collection '\n",
      "                                                                               'of '\n",
      "                                                                               'artefacts '\n",
      "                                                                               'and '\n",
      "                                                                               'their '\n",
      "                                                                               'presentation '\n",
      "                                                                               'in '\n",
      "                                                                               'a '\n",
      "                                                                               'digital '\n",
      "                                                                               'archive '\n",
      "                                                                               'will '\n",
      "                                                                               'also '\n",
      "                                                                               'be '\n",
      "                                                                               'of '\n",
      "                                                                               'interest '\n",
      "                                                                               'to '\n",
      "                                                                               'museums '\n",
      "                                                                               'of '\n",
      "                                                                               'contemporary '\n",
      "                                                                               'art, '\n",
      "                                                                               'many '\n",
      "                                                                               'of '\n",
      "                                                                               'which '\n",
      "                                                                               'such '\n",
      "                                                                               'as '\n",
      "                                                                               'the '\n",
      "                                                                               'Tate '\n",
      "                                                                               'Modern '\n",
      "                                                                               'and '\n",
      "                                                                               \"London's \"\n",
      "                                                                               'Hayward '\n",
      "                                                                               'Gallery '\n",
      "                                                                               'have '\n",
      "                                                                               'in '\n",
      "                                                                               'the '\n",
      "                                                                               'past '\n",
      "                                                                               'showcased '\n",
      "                                                                               'the '\n",
      "                                                                               'unofficial '\n",
      "                                                                               'art '\n",
      "                                                                               'of '\n",
      "                                                                               'socialist '\n",
      "                                                                               'societies. '\n",
      "                                                                               'Often '\n",
      "                                                                               'historians '\n",
      "                                                                               'collect '\n",
      "                                                                               'non-mainstream '\n",
      "                                                                               'art '\n",
      "                                                                               'long '\n",
      "                                                                               'before '\n",
      "                                                                               'museum '\n",
      "                                                                               'and '\n",
      "                                                                               'galleries '\n",
      "                                                                               'realize '\n",
      "                                                                               'their '\n",
      "                                                                               'importance. '\n",
      "                                                                               'The '\n",
      "                                                                               'paintings, '\n",
      "                                                                               'writings, '\n",
      "                                                                               'photos '\n",
      "                                                                               'and '\n",
      "                                                                               'films '\n",
      "                                                                               'of '\n",
      "                                                                               'drop-out '\n",
      "                                                                               'cultures '\n",
      "                                                                               'will '\n",
      "                                                                               'broaden '\n",
      "                                                                               'our '\n",
      "                                                                               'understanding '\n",
      "                                                                               'of '\n",
      "                                                                               \"'socialist' \"\n",
      "                                                                               'art '\n",
      "                                                                               'and '\n",
      "                                                                               'at '\n",
      "                                                                               'the '\n",
      "                                                                               'same '\n",
      "                                                                               'time '\n",
      "                                                                               'widen '\n",
      "                                                                               'our '\n",
      "                                                                               'general '\n",
      "                                                                               'sense '\n",
      "                                                                               'of '\n",
      "                                                                               'who '\n",
      "                                                                               'creates '\n",
      "                                                                               'art '\n",
      "                                                                               'and '\n",
      "                                                                               'when. '\n",
      "                                                                               '\\\\n\\\\nLocal '\n",
      "                                                                               'Communities\\\\nA '\n",
      "                                                                               'better '\n",
      "                                                                               'and '\n",
      "                                                                               'more '\n",
      "                                                                               'differentiated '\n",
      "                                                                               'understanding '\n",
      "                                                                               'of '\n",
      "                                                                               'Eastern '\n",
      "                                                                               'European '\n",
      "                                                                               'history '\n",
      "                                                                               'is '\n",
      "                                                                               'also '\n",
      "                                                                               'very '\n",
      "                                                                               'important '\n",
      "                                                                               'in '\n",
      "                                                                               'the '\n",
      "                                                                               'light '\n",
      "                                                                               'of '\n",
      "                                                                               'the '\n",
      "                                                                               'many '\n",
      "                                                                               'new '\n",
      "                                                                               'British '\n",
      "                                                                               'residents '\n",
      "                                                                               'from '\n",
      "                                                                               'these '\n",
      "                                                                               'countries, '\n",
      "                                                                               'who '\n",
      "                                                                               'have '\n",
      "                                                                               'started '\n",
      "                                                                               'to '\n",
      "                                                                               'form '\n",
      "                                                                               'substantial '\n",
      "                                                                               'communities '\n",
      "                                                                               'in '\n",
      "                                                                               'British '\n",
      "                                                                               'towns '\n",
      "                                                                               'and '\n",
      "                                                                               'cities. '\n",
      "                                                                               'It '\n",
      "                                                                               'is '\n",
      "                                                                               'crucial '\n",
      "                                                                               'that '\n",
      "                                                                               'people '\n",
      "                                                                               'understand '\n",
      "                                                                               'these '\n",
      "                                                                               'communities '\n",
      "                                                                               'not '\n",
      "                                                                               'simply '\n",
      "                                                                               'as '\n",
      "                                                                               'a '\n",
      "                                                                               'supply '\n",
      "                                                                               'of '\n",
      "                                                                               'cheap '\n",
      "                                                                               'labour '\n",
      "                                                                               'and '\n",
      "                                                                               'potential '\n",
      "                                                                               'competitors '\n",
      "                                                                               'for '\n",
      "                                                                               'benefits, '\n",
      "                                                                               'but '\n",
      "                                                                               'as '\n",
      "                                                                               'people '\n",
      "                                                                               'whose '\n",
      "                                                                               'history '\n",
      "                                                                               'has '\n",
      "                                                                               'much '\n",
      "                                                                               'in '\n",
      "                                                                               'common '\n",
      "                                                                               'with '\n",
      "                                                                               'their '\n",
      "                                                                               'own, '\n",
      "                                                                               'and '\n",
      "                                                                               'is '\n",
      "                                                                               'as '\n",
      "                                                                               'multi-faceted '\n",
      "                                                                               'as '\n",
      "                                                                               'that '\n",
      "                                                                               'of '\n",
      "                                                                               'Britain '\n",
      "                                                                               'in '\n",
      "                                                                               'the '\n",
      "                                                                               'same '\n",
      "                                                                               'period.\\\\n\\\\nThere '\n",
      "                                                                               'is '\n",
      "                                                                               'a '\n",
      "                                                                               'wide '\n",
      "                                                                               'and '\n",
      "                                                                               'varied '\n",
      "                                                                               'potential '\n",
      "                                                                               'audience '\n",
      "                                                                               'for '\n",
      "                                                                               'the '\n",
      "                                                                               'output '\n",
      "                                                                               'of '\n",
      "                                                                               'our '\n",
      "                                                                               'research '\n",
      "                                                                               'project. '\n",
      "                                                                               'We '\n",
      "                                                                               'are '\n",
      "                                                                               'thus '\n",
      "                                                                               'committed '\n",
      "                                                                               'to '\n",
      "                                                                               'ensure '\n",
      "                                                                               'as '\n",
      "                                                                               'wide '\n",
      "                                                                               'as '\n",
      "                                                                               'possible '\n",
      "                                                                               'a '\n",
      "                                                                               'dissemination '\n",
      "                                                                               'of '\n",
      "                                                                               'its '\n",
      "                                                                               'material '\n",
      "                                                                               'This '\n",
      "                                                                               'will '\n",
      "                                                                               'be '\n",
      "                                                                               'achieved '\n",
      "                                                                               'through '\n",
      "                                                                               'the '\n",
      "                                                                               'proposed '\n",
      "                                                                               'digital '\n",
      "                                                                               'archive, '\n",
      "                                                                               'which '\n",
      "                                                                               'aims '\n",
      "                                                                               'to '\n",
      "                                                                               'present '\n",
      "                                                                               'the '\n",
      "                                                                               'primary '\n",
      "                                                                               'material '\n",
      "                                                                               'collected '\n",
      "                                                                               'in '\n",
      "                                                                               'a '\n",
      "                                                                               'well-ordered '\n",
      "                                                                               'and '\n",
      "                                                                               'easy-to-understand '\n",
      "                                                                               'manner, '\n",
      "                                                                               'e.g. '\n",
      "                                                                               'providing '\n",
      "                                                                               'translation, '\n",
      "                                                                               'short '\n",
      "                                                                               'explanatory '\n",
      "                                                                               'sections '\n",
      "                                                                               'and '\n",
      "                                                                               'suitable '\n",
      "                                                                               'visual '\n",
      "                                                                               'presentation. '\n",
      "                                                                               'We '\n",
      "                                                                               'aim '\n",
      "                                                                               'to '\n",
      "                                                                               'organize '\n",
      "                                                                               'the '\n",
      "                                                                               'archive '\n",
      "                                                                               'in '\n",
      "                                                                               'such '\n",
      "                                                                               'a '\n",
      "                                                                               'way '\n",
      "                                                                               'that '\n",
      "                                                                               'it '\n",
      "                                                                               'is '\n",
      "                                                                               'of '\n",
      "                                                                               'use '\n",
      "                                                                               'both '\n",
      "                                                                               'to '\n",
      "                                                                               'the '\n",
      "                                                                               'academic '\n",
      "                                                                               'scholar '\n",
      "                                                                               'and '\n",
      "                                                                               'the '\n",
      "                                                                               'wider '\n",
      "                                                                               'public. '\n",
      "                                                                               '\\\\n\\\\n',\n",
      "                                                        'publication': [{'author': [{'id': '6e2b4917d74658949c7636ab43a87b39',\n",
      "                                                                                     'otherNames': 'McLellan '\n",
      "                                                                                                   'J',\n",
      "                                                                                     'url': 'http://gtr.rcuk.ac.uk:80/person/6e2b4917d74658949c7636ab43a87b39'}],\n",
      "                                                                         'date': '2012-01-01',\n",
      "                                                                         'firstAuthorName': 'McLellan '\n",
      "                                                                                            'J',\n",
      "                                                                         'id': 'B4EDCF26-08D9-4192-9625-2C52633EA845',\n",
      "                                                                         'parentPublicationTitle': 'History '\n",
      "                                                                                                   'Workshop '\n",
      "                                                                                                   'Journal',\n",
      "                                                                         'title': 'Glad '\n",
      "                                                                                  'to '\n",
      "                                                                                  'be '\n",
      "                                                                                  'Gay '\n",
      "                                                                                  'Behind '\n",
      "                                                                                  'the '\n",
      "                                                                                  'Wall: '\n",
      "                                                                                  'Gay '\n",
      "                                                                                  'and '\n",
      "                                                                                  'Lesbian '\n",
      "                                                                                  'Activism '\n",
      "                                                                                  'in '\n",
      "                                                                                  '1970s '\n",
      "                                                                                  'East '\n",
      "                                                                                  'Germany',\n",
      "                                                                         'url': 'http://gtr.rcuk.ac.uk:80/publication/B4EDCF26-08D9-4192-9625-2C52633EA845'},\n",
      "                                                                        {'author': [{'id': '7135b2b3b18c98e2306058bde50ce08d',\n",
      "                                                                                     'otherNames': 'Fürst '\n",
      "                                                                                                   'J.',\n",
      "                                                                                     'url': 'http://gtr.rcuk.ac.uk:80/person/7135b2b3b18c98e2306058bde50ce08d'}],\n",
      "                                                                         'date': '2014-01-01',\n",
      "                                                                         'firstAuthorName': 'Fürst '\n",
      "                                                                                            'J.',\n",
      "                                                                         'id': 'D687F1A6-ED35-4F61-B976-1566BB5270E8',\n",
      "                                                                         'parentPublicationTitle': 'Contemporary '\n",
      "                                                                                                   'European '\n",
      "                                                                                                   'History',\n",
      "                                                                         'title': 'Love, '\n",
      "                                                                                  'Peace '\n",
      "                                                                                  'and '\n",
      "                                                                                  \"Rock'n \"\n",
      "                                                                                  'Roll '\n",
      "                                                                                  'on '\n",
      "                                                                                  'Gorky '\n",
      "                                                                                  'Street: '\n",
      "                                                                                  'The '\n",
      "                                                                                  \"'Emotional \"\n",
      "                                                                                  \"Style' \"\n",
      "                                                                                  'of '\n",
      "                                                                                  'the '\n",
      "                                                                                  'Soviet '\n",
      "                                                                                  'Hippie '\n",
      "                                                                                  'Community',\n",
      "                                                                         'url': 'http://gtr.rcuk.ac.uk:80/publication/D687F1A6-ED35-4F61-B976-1566BB5270E8'},\n",
      "                                                                        {'author': [{'id': '14f219700de6ba0cf22951ceafa277b8',\n",
      "                                                                                     'otherNames': 'Fürst '\n",
      "                                                                                                   'J',\n",
      "                                                                                     'url': 'http://gtr.rcuk.ac.uk:80/person/14f219700de6ba0cf22951ceafa277b8'}],\n",
      "                                                                         'firstAuthorName': 'Fürst '\n",
      "                                                                                            'J',\n",
      "                                                                         'id': 'A1FA8C0E-7A06-4D7B-994B-B65454DDD2D5',\n",
      "                                                                         'title': 'Flowers '\n",
      "                                                                                  'through '\n",
      "                                                                                  'Concrete: '\n",
      "                                                                                  'The '\n",
      "                                                                                  'World '\n",
      "                                                                                  'of '\n",
      "                                                                                  'the '\n",
      "                                                                                  'Soviet '\n",
      "                                                                                  'Hippies',\n",
      "                                                                         'url': 'http://gtr.rcuk.ac.uk:80/publication/A1FA8C0E-7A06-4D7B-994B-B65454DDD2D5'},\n",
      "                                                                        {'author': [{'id': '14f219700de6ba0cf22951ceafa277b8',\n",
      "                                                                                     'otherNames': 'Fürst '\n",
      "                                                                                                   'J',\n",
      "                                                                                     'url': 'http://gtr.rcuk.ac.uk:80/person/14f219700de6ba0cf22951ceafa277b8'}],\n",
      "                                                                         'firstAuthorName': 'Fürst '\n",
      "                                                                                            'J',\n",
      "                                                                         'id': 'C2A9EDA6-20E3-450A-918D-21BE7E7F6B2B',\n",
      "                                                                         'title': 'Dropping '\n",
      "                                                                                  'out '\n",
      "                                                                                  'of '\n",
      "                                                                                  'Socialism: '\n",
      "                                                                                  'Alternative '\n",
      "                                                                                  'Spheres '\n",
      "                                                                                  'in '\n",
      "                                                                                  'the '\n",
      "                                                                                  'Soviet '\n",
      "                                                                                  'Bloc',\n",
      "                                                                         'url': 'http://gtr.rcuk.ac.uk:80/publication/C2A9EDA6-20E3-450A-918D-21BE7E7F6B2B'},\n",
      "                                                                        {'author': [{'id': '54e73c58eef449b5b7a1fc1f29ea9fe9',\n",
      "                                                                                     'otherNames': 'McLellan, '\n",
      "                                                                                                   'J',\n",
      "                                                                                     'url': 'http://gtr.rcuk.ac.uk:80/person/54e73c58eef449b5b7a1fc1f29ea9fe9'}],\n",
      "                                                                         'firstAuthorName': 'McLellan, '\n",
      "                                                                                            'J',\n",
      "                                                                         'id': 'D7831683-0AE0-4989-85B8-1F6DBA021F7F',\n",
      "                                                                         'parentPublicationTitle': 'Cultural '\n",
      "                                                                                                   'and '\n",
      "                                                                                                   'Social '\n",
      "                                                                                                   'History',\n",
      "                                                                         'title': 'Lesbians, '\n",
      "                                                                                  'gay '\n",
      "                                                                                  'men '\n",
      "                                                                                  'and '\n",
      "                                                                                  'the '\n",
      "                                                                                  'production '\n",
      "                                                                                  'of '\n",
      "                                                                                  'scale '\n",
      "                                                                                  'in '\n",
      "                                                                                  'East '\n",
      "                                                                                  'Germany',\n",
      "                                                                         'url': 'http://gtr.rcuk.ac.uk:80/publication/D7831683-0AE0-4989-85B8-1F6DBA021F7F'}],\n",
      "                                                        'researchActivity': [],\n",
      "                                                        'researchSubject': [{'id': '127553',\n",
      "                                                                             'percentage': 0,\n",
      "                                                                             'text': 'History'}],\n",
      "                                                        'researchTopic': [{'id': '78037',\n",
      "                                                                           'percentage': 0,\n",
      "                                                                           'text': 'Cultural '\n",
      "                                                                                   'History'}],\n",
      "                                                        'status': 'Closed',\n",
      "                                                        'title': 'Dropping-Out '\n",
      "                                                                 'of '\n",
      "                                                                 'Socialism: '\n",
      "                                                                 'Alternative '\n",
      "                                                                 'Life-Styles '\n",
      "                                                                 'in the '\n",
      "                                                                 'Socialist '\n",
      "                                                                 'Bloc '\n",
      "                                                                 '1960-1990',\n",
      "                                                        'url': 'http://gtr.rcuk.ac.uk:80/projects?ref=AH%2FI002502%2F1'}}}}\n"
     ]
    }
   ],
   "source": [
    "import safeJSON\n",
    "from pprint import pprint\n",
    "\n",
    "with open('json_files/file19.json') as data_file:    \n",
    "    data = safeJSON.load(data_file)\n",
    "\n",
    "pprint(data)"
   ]
  },
  {
   "cell_type": "markdown",
   "metadata": {},
   "source": [
    "###Project URI"
   ]
  },
  {
   "cell_type": "markdown",
   "metadata": {},
   "source": [
    "Identify the element for the project's ID (projectOverview.projectComposition.project.id), assign it to the variable project_id and print the value:"
   ]
  },
  {
   "cell_type": "code",
   "execution_count": 458,
   "metadata": {
    "collapsed": false
   },
   "outputs": [
    {
     "data": {
      "text/plain": [
       "'EB8275BC-FF3C-4A89-8A50-043C60520F29'"
      ]
     },
     "execution_count": 458,
     "metadata": {},
     "output_type": "execute_result"
    }
   ],
   "source": [
    "project_id = data['projectOverview']['projectComposition']['project']['id']\n",
    "project_id"
   ]
  },
  {
   "cell_type": "markdown",
   "metadata": {},
   "source": [
    "Construct the project's URI:"
   ]
  },
  {
   "cell_type": "code",
   "execution_count": 459,
   "metadata": {
    "collapsed": false
   },
   "outputs": [
    {
     "data": {
      "text/plain": [
       "'http://data.open.ac.uk/meta/ontology/ahproject/project/EB8275BC-FF3C-4A89-8A50-043C60520F29'"
      ]
     },
     "execution_count": 459,
     "metadata": {},
     "output_type": "execute_result"
    }
   ],
   "source": [
    "ahproject_base_uri = 'http://data.open.ac.uk/meta/ontology/ahproject/'\n",
    "project_uri = ahproject_base_uri + 'project/' + project_id\n",
    "project_uri"
   ]
  },
  {
   "cell_type": "markdown",
   "metadata": {},
   "source": [
    "###Terms directly linked to Project"
   ]
  },
  {
   "cell_type": "markdown",
   "metadata": {},
   "source": [
    "####Title"
   ]
  },
  {
   "cell_type": "markdown",
   "metadata": {},
   "source": [
    "Identify the element for the project's title (projectOverview.projectComposition.project.title), assign it to the variable project_title and print the value:"
   ]
  },
  {
   "cell_type": "code",
   "execution_count": 460,
   "metadata": {
    "collapsed": false
   },
   "outputs": [
    {
     "data": {
      "text/plain": [
       "'Dropping-Out of Socialism: Alternative Life-Styles in the Socialist Bloc 1960-1990'"
      ]
     },
     "execution_count": 460,
     "metadata": {},
     "output_type": "execute_result"
    }
   ],
   "source": [
    "project_title = data['projectOverview']['projectComposition']['project']['title']\n",
    "project_title"
   ]
  },
  {
   "cell_type": "markdown",
   "metadata": {},
   "source": [
    "####Status"
   ]
  },
  {
   "cell_type": "markdown",
   "metadata": {},
   "source": [
    "Identify the element for the project's status (projectOverview.projectComposition.project.status), assign it to the variable project_status and print the value:"
   ]
  },
  {
   "cell_type": "code",
   "execution_count": 461,
   "metadata": {
    "collapsed": false
   },
   "outputs": [
    {
     "data": {
      "text/plain": [
       "'Closed'"
      ]
     },
     "execution_count": 461,
     "metadata": {},
     "output_type": "execute_result"
    }
   ],
   "source": [
    "project_status = data['projectOverview']['projectComposition']['project']['status']\n",
    "project_status"
   ]
  },
  {
   "cell_type": "markdown",
   "metadata": {},
   "source": [
    "####Abstract"
   ]
  },
  {
   "cell_type": "markdown",
   "metadata": {},
   "source": [
    "Identify the element for the project's abstract (projectOverview.projectComposition.project.abstract), assign it to the variable project_abstract and print the value:"
   ]
  },
  {
   "cell_type": "code",
   "execution_count": 462,
   "metadata": {
    "collapsed": false
   },
   "outputs": [
    {
     "data": {
      "text/plain": [
       "\"The project 'Dropping out of Socialism' is a study of the hidden side of life in the former Soviet bloc. It investigates those cultures and life-styles under socialism which literally 'dropped out' of the picture - both out of the picture that was portrayed by the Eastern European communist regimes to its own public and the West and the picture that has since been created by historians and political scientists looking at the last decades of communism in Europe. 'Dropping out of Socialism' is devoted to the historical documentation and interpretation of social phenomena on the margins of socialist society: beatniks, hippies, punks, trampers, new-agers, hobos and any other group of people who had decided to ignore rather than comply with the official socialist code of behaviour and participation.\\\\n\\\\nMost people express surprise when told that such cultures existed at all under the repressive conditions of the Eastern European communist regimes. Indeed, even in Eastern Europe itself little is known about alternative forms of life-style and ideology under socialism and much that is known is clouded in myth and prejudice. Drop-out cultures suffered not only from repression meted out by the regime but also from widespread social condemnation. Denied access to the official public sphere, persecuted by the security organs and eyed with mistrust by the upright, socialist citizen, drop-out cultures under socialism live on mostly in the memory of its participants and in the photographic and cinematic evidence of their heydays in the 1970s and 80s. Yet this memory is quickly disappearing with its participants (many of whom due to an extraordinarily unhealthy life-style do not live into old age).\\\\n\\\\nThe aim of our project is thus double-fold. Firstly we intend to collect valuable evidence of and about countercultures under late socialism and make this evidence available to future researchers and those interested in the study of youth- and countercultures. The project will rely on oral history as well as on sources generated by the secret service and the communist parties. It aims to recover the multiple pieces of art and writing that were produced in private by drop-out cultures as well as seek out films and photographs produced by groups who often consciously fashioned themselves through self-produced artefacts. Secondly we seek to explore the context and manifold interpretations of drop-out cultures under socialism by engaging in a concentrated dialogue with scholars from other discipline and other countries. The principal grant holders will engage in detailed research into hitherto under-documented case studies of drop-out cultures in their field of expertise, which will put much new knowledge on the historical map. The origins, development and fate of the Soviet hippie movement is so far only known in sketches and shrouded in much legend and misconceptions. Nor do we know enough about the cultural and political impact of Western countercultural trends in East Germany. Yet an equally important part of the project is the contextualization of these cultures into their larger setting: late socialist societies and systems. Co-operation with scholars engaged in research into drop-out cultures in the former Soviet bloc, representing a variety of disciplines from the history of art to sociology, will provide our research with the necessary framework to ask larger questions: To what extent was it possible to drop out of socialism? What can countercultures tell us about the state of mainstream society? How did countercultures differ in East and West or between the different Eastern European and Soviet societies? Did the existence of alternative life-styles contribute to the down-fall of communism?\\\\n\""
      ]
     },
     "execution_count": 462,
     "metadata": {},
     "output_type": "execute_result"
    }
   ],
   "source": [
    "project_abstract = data['projectOverview']['projectComposition']['project']['abstractText']\n",
    "project_abstract"
   ]
  },
  {
   "cell_type": "markdown",
   "metadata": {},
   "source": [
    "####URL"
   ]
  },
  {
   "cell_type": "markdown",
   "metadata": {},
   "source": [
    "Identify the element for the project's URL (projectOverview.projectComposition.project.url), assign it to the variable project_url and print the value:"
   ]
  },
  {
   "cell_type": "code",
   "execution_count": 463,
   "metadata": {
    "collapsed": false
   },
   "outputs": [
    {
     "data": {
      "text/plain": [
       "'http://gtr.rcuk.ac.uk:80/projects?ref=AH%2FI002502%2F1'"
      ]
     },
     "execution_count": 463,
     "metadata": {},
     "output_type": "execute_result"
    }
   ],
   "source": [
    "project_url = data['projectOverview']['projectComposition']['project']['url']\n",
    "project_url"
   ]
  },
  {
   "cell_type": "markdown",
   "metadata": {},
   "source": [
    "####Potential impact"
   ]
  },
  {
   "cell_type": "markdown",
   "metadata": {},
   "source": [
    "Identify the element for the project's potential impact (projectOverview.projectComposition.project.potentialImpactText), assign it to the variable project_potential_impact and print the value:"
   ]
  },
  {
   "cell_type": "code",
   "execution_count": 464,
   "metadata": {
    "collapsed": false
   },
   "outputs": [
    {
     "data": {
      "text/plain": [
       "\"Youth policy makers\\\\nThis project is all about dealing with societal drop-outs and their culture. Most of our subjects will have been young or youngish when they decided to leave mainstream society and culture. Their study and evaluation necessarily involves understanding their motivations and actions. While the project examines socialist societies, which demanded a large degree of conformity, and explores a time that is thirty years in the past, many of its findings will be of value to modern-day policy makers and youth specialists. Generational conflict, rebellion against mainstream culture, rejection of commercialism, the search for higher meaning in communitarian movements, itinerant life-styles etc. still provide the hallmarks of many non-conformist youth cultures today.\\\\n\\\\nTeachers and Youth Workers\\\\nA project whose primary goal is not to 'solve' the youth problem, but understand young drop-outs and alternatives can have great educational and socially integrative benefits. Learning about the history of alternative youth cultures can bestow a sense of value to young people, who consider themselves outside the norms and structures of normal British society, e.g.gang members, politically or culturally radicalised youth etc. The material and output of the project could thus be of great benefit to teachers and youth workers, especially, but not only, those who work with youth at the margins of society. Hopefully, via the digital archive and its usage in school and universities, young people will realize that established history is not just about important leaders and great events, but that their very own culture and existence is as worthy of recording and safe-keeping as that of politicians and economic moguls. \\\\n\\\\nMuseums and Media\\\\nThe collection of artefacts and their presentation in a digital archive will also be of interest to museums of contemporary art, many of which such as the Tate Modern and London's Hayward Gallery have in the past showcased the unofficial art of socialist societies. Often historians collect non-mainstream art long before museum and galleries realize their importance. The paintings, writings, photos and films of drop-out cultures will broaden our understanding of 'socialist' art and at the same time widen our general sense of who creates art and when. \\\\n\\\\nLocal Communities\\\\nA better and more differentiated understanding of Eastern European history is also very important in the light of the many new British residents from these countries, who have started to form substantial communities in British towns and cities. It is crucial that people understand these communities not simply as a supply of cheap labour and potential competitors for benefits, but as people whose history has much in common with their own, and is as multi-faceted as that of Britain in the same period.\\\\n\\\\nThere is a wide and varied potential audience for the output of our research project. We are thus committed to ensure as wide as possible a dissemination of its material This will be achieved through the proposed digital archive, which aims to present the primary material collected in a well-ordered and easy-to-understand manner, e.g. providing translation, short explanatory sections and suitable visual presentation. We aim to organize the archive in such a way that it is of use both to the academic scholar and the wider public. \\\\n\\\\n\""
      ]
     },
     "execution_count": 464,
     "metadata": {},
     "output_type": "execute_result"
    }
   ],
   "source": [
    "project_potential_impact = data['projectOverview']['projectComposition']['project']['potentialImpactText']\n",
    "project_potential_impact"
   ]
  },
  {
   "cell_type": "markdown",
   "metadata": {},
   "source": [
    "###Subject and Topic Keywords"
   ]
  },
  {
   "cell_type": "markdown",
   "metadata": {},
   "source": [
    "Define the list variables 'research_topics' and 'research_subjects':"
   ]
  },
  {
   "cell_type": "code",
   "execution_count": 465,
   "metadata": {
    "collapsed": false
   },
   "outputs": [
    {
     "data": {
      "text/plain": [
       "[{'id': '78037', 'percentage': 0, 'text': 'Cultural History'}]"
      ]
     },
     "execution_count": 465,
     "metadata": {},
     "output_type": "execute_result"
    }
   ],
   "source": [
    "research_topics = data['projectOverview']['projectComposition']['project']['researchTopic']\n",
    "research_topics"
   ]
  },
  {
   "cell_type": "code",
   "execution_count": 466,
   "metadata": {
    "collapsed": false
   },
   "outputs": [
    {
     "data": {
      "text/plain": [
       "[{'id': '127553', 'percentage': 0, 'text': 'History'}]"
      ]
     },
     "execution_count": 466,
     "metadata": {},
     "output_type": "execute_result"
    }
   ],
   "source": [
    "research_subjects = data['projectOverview']['projectComposition']['project']['researchSubject']\n",
    "research_subjects\n"
   ]
  },
  {
   "cell_type": "markdown",
   "metadata": {},
   "source": [
    "We can then iterate through these lists in a for loop and convert the results to RDF, as shown in section 2, below."
   ]
  },
  {
   "cell_type": "markdown",
   "metadata": {},
   "source": [
    "###Fund and related terms"
   ]
  },
  {
   "cell_type": "markdown",
   "metadata": {},
   "source": [
    "####Fund"
   ]
  },
  {
   "cell_type": "markdown",
   "metadata": {},
   "source": [
    "Construct a URI for 'fund':"
   ]
  },
  {
   "cell_type": "code",
   "execution_count": 467,
   "metadata": {
    "collapsed": false
   },
   "outputs": [
    {
     "data": {
      "text/plain": [
       "'http://data.open.ac.uk/meta/ontology/ahproject/project/EB8275BC-FF3C-4A89-8A50-043C60520F29#fund'"
      ]
     },
     "execution_count": 467,
     "metadata": {},
     "output_type": "execute_result"
    }
   ],
   "source": [
    "fund_uri = project_uri + '#fund'\n",
    "fund_uri"
   ]
  },
  {
   "cell_type": "markdown",
   "metadata": {},
   "source": [
    "Identify the element for the fund type (projectOverview.projectComposition.project.fund.type), assign it to the variable fund_type and print the value:"
   ]
  },
  {
   "cell_type": "code",
   "execution_count": 468,
   "metadata": {
    "collapsed": false
   },
   "outputs": [
    {
     "data": {
      "text/plain": [
       "'INCOME_ACTUAL'"
      ]
     },
     "execution_count": 468,
     "metadata": {},
     "output_type": "execute_result"
    }
   ],
   "source": [
    "fund_type = data['projectOverview']['projectComposition']['project']['fund']['type']\n",
    "fund_type"
   ]
  },
  {
   "cell_type": "markdown",
   "metadata": {},
   "source": [
    "####Grant reference"
   ]
  },
  {
   "cell_type": "markdown",
   "metadata": {},
   "source": [
    "Identify the element for the project's grant reference (projectOverview.projectComposition.project.grantReference), assign it to the variable grant_reference and print the value:"
   ]
  },
  {
   "cell_type": "code",
   "execution_count": 469,
   "metadata": {
    "collapsed": false
   },
   "outputs": [
    {
     "data": {
      "text/plain": [
       "'AH/I002502/1'"
      ]
     },
     "execution_count": 469,
     "metadata": {},
     "output_type": "execute_result"
    }
   ],
   "source": [
    "grant_reference = data['projectOverview']['projectComposition']['project']['grantReference']\n",
    "grant_reference"
   ]
  },
  {
   "cell_type": "markdown",
   "metadata": {},
   "source": [
    "####Grant category"
   ]
  },
  {
   "cell_type": "markdown",
   "metadata": {},
   "source": [
    "Identify the element for the project's grant reference (projectOverview.projectComposition.project.grantCategory), assign it to the variable grant_category and print the value:"
   ]
  },
  {
   "cell_type": "code",
   "execution_count": 470,
   "metadata": {
    "collapsed": false
   },
   "outputs": [
    {
     "data": {
      "text/plain": [
       "'Research Grant'"
      ]
     },
     "execution_count": 470,
     "metadata": {},
     "output_type": "execute_result"
    }
   ],
   "source": [
    "grant_category = data['projectOverview']['projectComposition']['project']['grantCategory']\n",
    "grant_category"
   ]
  },
  {
   "cell_type": "markdown",
   "metadata": {},
   "source": [
    "####Start date"
   ]
  },
  {
   "cell_type": "markdown",
   "metadata": {},
   "source": [
    "Identify the element for the project's start date (projectOverview.projectComposition.project.fund.start), assign it to the variable fund_start and print the value:"
   ]
  },
  {
   "cell_type": "code",
   "execution_count": 471,
   "metadata": {
    "collapsed": false
   },
   "outputs": [
    {
     "data": {
      "text/plain": [
       "'2011-07-01'"
      ]
     },
     "execution_count": 471,
     "metadata": {},
     "output_type": "execute_result"
    }
   ],
   "source": [
    "fund_start = data['projectOverview']['projectComposition']['project']['fund']['start']\n",
    "fund_start"
   ]
  },
  {
   "cell_type": "code",
   "execution_count": 472,
   "metadata": {
    "collapsed": false
   },
   "outputs": [
    {
     "data": {
      "text/plain": [
       "str"
      ]
     },
     "execution_count": 472,
     "metadata": {},
     "output_type": "execute_result"
    }
   ],
   "source": [
    "type(fund_start)"
   ]
  },
  {
   "cell_type": "markdown",
   "metadata": {},
   "source": [
    "Convert from string to datetime object:"
   ]
  },
  {
   "cell_type": "code",
   "execution_count": 473,
   "metadata": {
    "collapsed": false
   },
   "outputs": [
    {
     "data": {
      "text/plain": [
       "datetime.datetime(2011, 7, 1, 0, 0)"
      ]
     },
     "execution_count": 473,
     "metadata": {},
     "output_type": "execute_result"
    }
   ],
   "source": [
    "from datetime import datetime\n",
    "fund_start_datetime = datetime.strptime(fund_start,'%Y-%m-%d')\n",
    "fund_start_datetime"
   ]
  },
  {
   "cell_type": "markdown",
   "metadata": {},
   "source": [
    "####End date"
   ]
  },
  {
   "cell_type": "markdown",
   "metadata": {},
   "source": [
    "Identify the element for the project's end date (projectOverview.projectComposition.project.fund.end), assign it to the variable fund_end and print the value:"
   ]
  },
  {
   "cell_type": "code",
   "execution_count": 474,
   "metadata": {
    "collapsed": false
   },
   "outputs": [
    {
     "data": {
      "text/plain": [
       "'2015-01-31'"
      ]
     },
     "execution_count": 474,
     "metadata": {},
     "output_type": "execute_result"
    }
   ],
   "source": [
    "fund_end = data['projectOverview']['projectComposition']['project']['fund']['end']\n",
    "fund_end\n"
   ]
  },
  {
   "cell_type": "code",
   "execution_count": 475,
   "metadata": {
    "collapsed": false
   },
   "outputs": [
    {
     "data": {
      "text/plain": [
       "str"
      ]
     },
     "execution_count": 475,
     "metadata": {},
     "output_type": "execute_result"
    }
   ],
   "source": [
    "type(fund_end)"
   ]
  },
  {
   "cell_type": "markdown",
   "metadata": {},
   "source": [
    "Convert from string to datetime object:"
   ]
  },
  {
   "cell_type": "code",
   "execution_count": 476,
   "metadata": {
    "collapsed": false
   },
   "outputs": [
    {
     "data": {
      "text/plain": [
       "datetime.datetime(2015, 1, 31, 0, 0)"
      ]
     },
     "execution_count": 476,
     "metadata": {},
     "output_type": "execute_result"
    }
   ],
   "source": [
    "from datetime import datetime\n",
    "fund_end_datetime = datetime.strptime(fund_end,'%Y-%m-%d')\n",
    "fund_end_datetime"
   ]
  },
  {
   "cell_type": "markdown",
   "metadata": {},
   "source": [
    "###Funder and related terms"
   ]
  },
  {
   "cell_type": "markdown",
   "metadata": {},
   "source": [
    "####Funder"
   ]
  },
  {
   "cell_type": "markdown",
   "metadata": {},
   "source": [
    "Construct a URI for 'funder':"
   ]
  },
  {
   "cell_type": "markdown",
   "metadata": {},
   "source": [
    "Identify the element for the project's funder ID (projectOverview.projectComposition.project.fund.funder.id), assign it to the variable funder_id and print the value:"
   ]
  },
  {
   "cell_type": "code",
   "execution_count": 477,
   "metadata": {
    "collapsed": false
   },
   "outputs": [
    {
     "data": {
      "text/plain": [
       "'1291772D-DFCE-493A-AEE7-24F7EEAFE0E9'"
      ]
     },
     "execution_count": 477,
     "metadata": {},
     "output_type": "execute_result"
    }
   ],
   "source": [
    "funder_id = data['projectOverview']['projectComposition']['project']['fund']['funder']['id']\n",
    "funder_id"
   ]
  },
  {
   "cell_type": "code",
   "execution_count": 478,
   "metadata": {
    "collapsed": false
   },
   "outputs": [
    {
     "data": {
      "text/plain": [
       "'http://data.open.ac.uk/meta/ontology/ahproject/organisation/1291772D-DFCE-493A-AEE7-24F7EEAFE0E9'"
      ]
     },
     "execution_count": 478,
     "metadata": {},
     "output_type": "execute_result"
    }
   ],
   "source": [
    "funder_uri = ahproject_base_uri + 'organisation/' + funder_id\n",
    "funder_uri"
   ]
  },
  {
   "cell_type": "markdown",
   "metadata": {},
   "source": [
    "####Funder name"
   ]
  },
  {
   "cell_type": "markdown",
   "metadata": {},
   "source": [
    "Identify the element for the project's funder name (projectOverview.projectComposition.project.fund.funder.name), assign it to the variable funder_name and print the value:"
   ]
  },
  {
   "cell_type": "code",
   "execution_count": 479,
   "metadata": {
    "collapsed": false
   },
   "outputs": [
    {
     "data": {
      "text/plain": [
       "'AHRC'"
      ]
     },
     "execution_count": 479,
     "metadata": {},
     "output_type": "execute_result"
    }
   ],
   "source": [
    "funder_name = data['projectOverview']['projectComposition']['project']['fund']['funder']['name']\n",
    "funder_name"
   ]
  },
  {
   "cell_type": "markdown",
   "metadata": {},
   "source": [
    "####Funder URL"
   ]
  },
  {
   "cell_type": "markdown",
   "metadata": {},
   "source": [
    "Identify the element for the project's funder URL (projectOverview.projectComposition.project.fund.funder.url), assign it to the variable funder_url and print the value:"
   ]
  },
  {
   "cell_type": "code",
   "execution_count": 480,
   "metadata": {
    "collapsed": false
   },
   "outputs": [
    {
     "data": {
      "text/plain": [
       "'http://gtr.rcuk.ac.uk:80/organisation/1291772D-DFCE-493A-AEE7-24F7EEAFE0E9'"
      ]
     },
     "execution_count": 480,
     "metadata": {},
     "output_type": "execute_result"
    }
   ],
   "source": [
    "funder_url = data['projectOverview']['projectComposition']['project']['fund']['funder']['url']\n",
    "funder_url"
   ]
  },
  {
   "cell_type": "markdown",
   "metadata": {},
   "source": [
    "###Lead Research Organisation and related terms"
   ]
  },
  {
   "cell_type": "markdown",
   "metadata": {},
   "source": [
    "####Lead Research Organisation"
   ]
  },
  {
   "cell_type": "markdown",
   "metadata": {},
   "source": [
    "Construct a URI for 'Lead Research Organisation':"
   ]
  },
  {
   "cell_type": "code",
   "execution_count": 481,
   "metadata": {
    "collapsed": false
   },
   "outputs": [
    {
     "data": {
      "text/plain": [
       "'FD94FDDE-5BBC-4E12-911F-0B70DBCFA743'"
      ]
     },
     "execution_count": 481,
     "metadata": {},
     "output_type": "execute_result"
    }
   ],
   "source": [
    "lead_research_org_id = data['projectOverview']['projectComposition']['leadResearchOrganisation']['id']\n",
    "lead_research_org_id"
   ]
  },
  {
   "cell_type": "code",
   "execution_count": 482,
   "metadata": {
    "collapsed": false
   },
   "outputs": [
    {
     "data": {
      "text/plain": [
       "'http://data.open.ac.uk/meta/ontology/ahproject/organisation/FD94FDDE-5BBC-4E12-911F-0B70DBCFA743'"
      ]
     },
     "execution_count": 482,
     "metadata": {},
     "output_type": "execute_result"
    }
   ],
   "source": [
    "lead_research_org_uri = ahproject_base_uri + 'organisation/' + lead_research_org_id\n",
    "lead_research_org_uri"
   ]
  },
  {
   "cell_type": "markdown",
   "metadata": {},
   "source": [
    "####Lead Research Organisation Name"
   ]
  },
  {
   "cell_type": "markdown",
   "metadata": {},
   "source": [
    "Identify the element for the lead research organisation's name (projectOverview.projectComposition.leadResearchOrganization.name), assign it to the variable lead_research_org_name and print the value:"
   ]
  },
  {
   "cell_type": "code",
   "execution_count": 483,
   "metadata": {
    "collapsed": false
   },
   "outputs": [
    {
     "data": {
      "text/plain": [
       "'University of Bristol'"
      ]
     },
     "execution_count": 483,
     "metadata": {},
     "output_type": "execute_result"
    }
   ],
   "source": [
    "lead_research_org_name = data['projectOverview']['projectComposition']['leadResearchOrganisation']['name']\n",
    "lead_research_org_name"
   ]
  },
  {
   "cell_type": "markdown",
   "metadata": {},
   "source": [
    "####Department"
   ]
  },
  {
   "cell_type": "markdown",
   "metadata": {},
   "source": [
    "Identify the element for the department (projectOverview.projectComposition.leadResearchOrganization.department), assign it to the variable lead_research_org_dept and print the value:"
   ]
  },
  {
   "cell_type": "code",
   "execution_count": 484,
   "metadata": {
    "collapsed": false
   },
   "outputs": [
    {
     "data": {
      "text/plain": [
       "'School of Humanities'"
      ]
     },
     "execution_count": 484,
     "metadata": {},
     "output_type": "execute_result"
    }
   ],
   "source": [
    "lead_research_org_dept = data['projectOverview']['projectComposition']['leadResearchOrganisation']['department']\n",
    "lead_research_org_dept"
   ]
  },
  {
   "cell_type": "markdown",
   "metadata": {},
   "source": [
    "####Lead Research Organisation Type"
   ]
  },
  {
   "cell_type": "markdown",
   "metadata": {},
   "source": [
    "Identify the element for the type of lead research organisation (projectOverview.projectComposition.leadResearchOrganization.typeInd), assign it to the variable lead_research_org_type and print the value:"
   ]
  },
  {
   "cell_type": "code",
   "execution_count": 485,
   "metadata": {
    "collapsed": false
   },
   "outputs": [
    {
     "data": {
      "text/plain": [
       "'RO'"
      ]
     },
     "execution_count": 485,
     "metadata": {},
     "output_type": "execute_result"
    }
   ],
   "source": [
    "lead_research_org_type = data['projectOverview']['projectComposition']['leadResearchOrganisation']['typeInd']\n",
    "lead_research_org_type"
   ]
  },
  {
   "cell_type": "markdown",
   "metadata": {},
   "source": [
    "####Lead Research Organisation URL"
   ]
  },
  {
   "cell_type": "markdown",
   "metadata": {},
   "source": [
    "Identify the element for the lead research organisation's URL (projectOverview.projectComposition.leadResearchOrganization.url), assign it to the variable lead_research_org_url and print the value:"
   ]
  },
  {
   "cell_type": "code",
   "execution_count": 486,
   "metadata": {
    "collapsed": false
   },
   "outputs": [
    {
     "data": {
      "text/plain": [
       "'http://gtr.rcuk.ac.uk:80/organisation/FD94FDDE-5BBC-4E12-911F-0B70DBCFA743'"
      ]
     },
     "execution_count": 486,
     "metadata": {},
     "output_type": "execute_result"
    }
   ],
   "source": [
    "lead_research_org_url = data['projectOverview']['projectComposition']['leadResearchOrganisation']['url']\n",
    "lead_research_org_url"
   ]
  },
  {
   "cell_type": "markdown",
   "metadata": {},
   "source": [
    "####Lead Research Organisation Address"
   ]
  },
  {
   "cell_type": "markdown",
   "metadata": {},
   "source": [
    "Construct the URI for the lead research organisation's address:"
   ]
  },
  {
   "cell_type": "code",
   "execution_count": 487,
   "metadata": {
    "collapsed": false
   },
   "outputs": [
    {
     "data": {
      "text/plain": [
       "'http://data.open.ac.uk/meta/ontology/ahproject/organisation/FD94FDDE-5BBC-4E12-911F-0B70DBCFA743#address'"
      ]
     },
     "execution_count": 487,
     "metadata": {},
     "output_type": "execute_result"
    }
   ],
   "source": [
    "lead_research_org_address_uri = lead_research_org_uri + '#address'\n",
    "lead_research_org_address_uri"
   ]
  },
  {
   "cell_type": "markdown",
   "metadata": {},
   "source": [
    "#####Address Lines 1-5"
   ]
  },
  {
   "cell_type": "markdown",
   "metadata": {},
   "source": [
    "Identify the elements for lines 1-5 of the lead research organisation's address (projectOverview.projectComposition.leadResearchOrganization.address.line1-projectOverview.projectComposition.leadResearchOrganization.address.line5), assigning them to the variables lead_research_org_address_line1-lead_research_org_address_line5 and printing the values:"
   ]
  },
  {
   "cell_type": "code",
   "execution_count": 488,
   "metadata": {
    "collapsed": false
   },
   "outputs": [
    {
     "name": "stdout",
     "output_type": "stream",
     "text": [
      "Line 1: University of Bristol\r\n",
      "Senate House\r\n",
      "Tyndall Avenue\n",
      "Line 2: SafeNone\n",
      "Line 3: SafeNone\n",
      "Line 4: SafeNone\n",
      "Line 5: SafeNone\n"
     ]
    }
   ],
   "source": [
    "lead_research_org_address_line1 = data['projectOverview']['projectComposition']['leadResearchOrganisation']['address']['line1']\n",
    "lead_research_org_address_line2 = data['projectOverview']['projectComposition']['leadResearchOrganisation']['address']['line2']\n",
    "lead_research_org_address_line3 = data['projectOverview']['projectComposition']['leadResearchOrganisation']['address']['line3']\n",
    "lead_research_org_address_line4 = data['projectOverview']['projectComposition']['leadResearchOrganisation']['address']['line4']\n",
    "lead_research_org_address_line5 = data['projectOverview']['projectComposition']['leadResearchOrganisation']['address']['line5']\n",
    "\n",
    "print('Line 1: %s' % lead_research_org_address_line1)\n",
    "print('Line 2: %s' % lead_research_org_address_line2)\n",
    "print('Line 3: %s' % lead_research_org_address_line3)\n",
    "print('Line 4: %s' % lead_research_org_address_line4)\n",
    "print('Line 5: %s' % lead_research_org_address_line5)"
   ]
  },
  {
   "cell_type": "code",
   "execution_count": 489,
   "metadata": {
    "collapsed": false
   },
   "outputs": [
    {
     "data": {
      "text/plain": [
       "safeJSON.SafeNoneClass"
      ]
     },
     "execution_count": 489,
     "metadata": {},
     "output_type": "execute_result"
    }
   ],
   "source": [
    "type(lead_research_org_address_line2)"
   ]
  },
  {
   "cell_type": "markdown",
   "metadata": {},
   "source": [
    "Construct a string that concatenates all existing values:"
   ]
  },
  {
   "cell_type": "code",
   "execution_count": 490,
   "metadata": {
    "collapsed": false
   },
   "outputs": [
    {
     "data": {
      "text/plain": [
       "'University of Bristol\\r\\nSenate House\\r\\nTyndall Avenue'"
      ]
     },
     "execution_count": 490,
     "metadata": {},
     "output_type": "execute_result"
    }
   ],
   "source": [
    "lead_research_org_address_lines = ''\n",
    "if (type(lead_research_org_address_line1) != safeJSON.SafeNoneClass):\n",
    "    lead_research_org_address_lines = lead_research_org_address_lines + lead_research_org_address_line1\n",
    "    if ((type(lead_research_org_address_line2) != safeJSON.SafeNoneClass) or (type(lead_research_org_address_line3) != safeJSON.SafeNoneClass) or (type(lead_research_org_address_line4) != safeJSON.SafeNoneClass) or (type(lead_research_org_address_line5) != safeJSON.SafeNoneClass)):\n",
    "        lead_research_org_address_lines = lead_research_org_address_lines + ', '\n",
    "if (type(lead_research_org_address_line2) != safeJSON.SafeNoneClass):\n",
    "    lead_research_org_address_lines = lead_research_org_address_lines + lead_research_org_address_line2\n",
    "    if ((type(lead_research_org_address_line3) != safeJSON.SafeNoneClass) or (type(lead_research_org_address_line4) != safeJSON.SafeNoneClass) or (type(lead_research_org_address_line5) != safeJSON.SafeNoneClass)):\n",
    "        lead_research_org_address_lines = lead_research_org_address_lines + ', '\n",
    "if (type(lead_research_org_address_line3) != safeJSON.SafeNoneClass):\n",
    "    lead_research_org_address_lines = lead_research_org_address_lines + lead_research_org_address_line3\n",
    "    if ((type(lead_research_org_address_line4) != safeJSON.SafeNoneClass) or (type(lead_research_org_address_line5) != safeJSON.SafeNoneClass)):\n",
    "        lead_research_org_address_lines = lead_research_org_address_lines + ', '\n",
    "if (type(lead_research_org_address_line4) != safeJSON.SafeNoneClass):\n",
    "    lead_research_org_address_lines = lead_research_org_address_lines + lead_research_org_address_line4\n",
    "    if (type(lead_research_org_address_line5) != safeJSON.SafeNoneClass):\n",
    "        lead_research_org_address_lines = lead_research_org_address_lines + ', '\n",
    "if (type(lead_research_org_address_line5) != safeJSON.SafeNoneClass):\n",
    "    lead_research_org_address_lines = lead_research_org_address_lines + lead_research_org_address_line5\n",
    "lead_research_org_address_lines"
   ]
  },
  {
   "cell_type": "code",
   "execution_count": 491,
   "metadata": {
    "collapsed": false
   },
   "outputs": [
    {
     "data": {
      "text/plain": [
       "'University of Bristol, Senate House, Tyndall Avenue'"
      ]
     },
     "execution_count": 491,
     "metadata": {},
     "output_type": "execute_result"
    }
   ],
   "source": [
    "lead_research_org_address_lines = lead_research_org_address_lines.replace(\"\\r\\n\", \", \")\n",
    "lead_research_org_address_lines"
   ]
  },
  {
   "cell_type": "markdown",
   "metadata": {},
   "source": [
    "#####Postcode"
   ]
  },
  {
   "cell_type": "markdown",
   "metadata": {},
   "source": [
    "Identify the element for the lead research organisation's postcode (projectOverview.projectComposition.leadResearchOrganization.address.postCode), assign it to the variable lead_research_org_postcode and print the value:"
   ]
  },
  {
   "cell_type": "code",
   "execution_count": 492,
   "metadata": {
    "collapsed": false
   },
   "outputs": [
    {
     "data": {
      "text/plain": [
       "'BS8 1TH'"
      ]
     },
     "execution_count": 492,
     "metadata": {},
     "output_type": "execute_result"
    }
   ],
   "source": [
    "lead_research_org_postcode = data['projectOverview']['projectComposition']['leadResearchOrganisation']['address']['postCode']\n",
    "lead_research_org_postcode"
   ]
  },
  {
   "cell_type": "markdown",
   "metadata": {},
   "source": [
    "#####Region"
   ]
  },
  {
   "cell_type": "markdown",
   "metadata": {},
   "source": [
    "Identify the element for the lead research organisation's region (projectOverview.projectComposition.leadResearchOrganization.address.region), assign it to the variable lead_research_org_region and print the value:"
   ]
  },
  {
   "cell_type": "code",
   "execution_count": 493,
   "metadata": {
    "collapsed": false
   },
   "outputs": [
    {
     "data": {
      "text/plain": [
       "'South West'"
      ]
     },
     "execution_count": 493,
     "metadata": {},
     "output_type": "execute_result"
    }
   ],
   "source": [
    "lead_research_org_region = data['projectOverview']['projectComposition']['leadResearchOrganisation']['address']['region']\n",
    "lead_research_org_region"
   ]
  },
  {
   "cell_type": "markdown",
   "metadata": {},
   "source": [
    "#####Country"
   ]
  },
  {
   "cell_type": "markdown",
   "metadata": {},
   "source": [
    "Identify the element for the lead research organisation's country (projectOverview.projectComposition.leadResearchOrganization.address.country), assign it to the variable lead_research_org_country and print the value:"
   ]
  },
  {
   "cell_type": "code",
   "execution_count": 494,
   "metadata": {
    "collapsed": false
   },
   "outputs": [
    {
     "data": {
      "text/plain": [
       "SafeNone"
      ]
     },
     "execution_count": 494,
     "metadata": {},
     "output_type": "execute_result"
    }
   ],
   "source": [
    "lead_research_org_country = data['projectOverview']['projectComposition']['leadResearchOrganisation']['address']['country']\n",
    "lead_research_org_country"
   ]
  },
  {
   "cell_type": "markdown",
   "metadata": {},
   "source": [
    "###Person and related terms"
   ]
  },
  {
   "cell_type": "markdown",
   "metadata": {},
   "source": [
    "Define the 'people' object:"
   ]
  },
  {
   "cell_type": "code",
   "execution_count": 495,
   "metadata": {
    "collapsed": false
   },
   "outputs": [
    {
     "data": {
      "text/plain": [
       "[{'firstName': 'Josie',\n",
       "  'id': '7729A3BA-8B99-4DBA-A577-FF76802F2226',\n",
       "  'role': [{'name': 'CO_INVESTIGATOR'}],\n",
       "  'surname': 'McLellan',\n",
       "  'url': 'http://gtr.rcuk.ac.uk:80/person/7729A3BA-8B99-4DBA-A577-FF76802F2226'},\n",
       " {'firstName': 'Juliane Christiane Angelika',\n",
       "  'id': '2EE07735-86D6-485D-B530-DB03D951E316',\n",
       "  'role': [{'name': 'PRINCIPAL_INVESTIGATOR'}],\n",
       "  'surname': 'Furst',\n",
       "  'url': 'http://gtr.rcuk.ac.uk:80/person/2EE07735-86D6-485D-B530-DB03D951E316'}]"
      ]
     },
     "execution_count": 495,
     "metadata": {},
     "output_type": "execute_result"
    }
   ],
   "source": [
    "people = data['projectOverview']['projectComposition']['personRole']\n",
    "people"
   ]
  },
  {
   "cell_type": "code",
   "execution_count": 496,
   "metadata": {
    "collapsed": false
   },
   "outputs": [
    {
     "data": {
      "text/plain": [
       "[{'name': 'PRINCIPAL_INVESTIGATOR'}]"
      ]
     },
     "execution_count": 496,
     "metadata": {},
     "output_type": "execute_result"
    }
   ],
   "source": [
    "for person in people:\n",
    "    person_role = person['role']\n",
    "person_role"
   ]
  },
  {
   "cell_type": "code",
   "execution_count": 497,
   "metadata": {
    "collapsed": false
   },
   "outputs": [
    {
     "data": {
      "text/plain": [
       "'PRINCIPAL_INVESTIGATOR'"
      ]
     },
     "execution_count": 497,
     "metadata": {},
     "output_type": "execute_result"
    }
   ],
   "source": [
    "for role in person_role:\n",
    "    person_role_name = role['name']\n",
    "person_role_name"
   ]
  },
  {
   "cell_type": "markdown",
   "metadata": {},
   "source": [
    "We can then iterate through this object in a for loop and convert the results to RDF, as shown in section 2, below."
   ]
  },
  {
   "cell_type": "markdown",
   "metadata": {},
   "source": [
    "###Publication and related terms"
   ]
  },
  {
   "cell_type": "markdown",
   "metadata": {},
   "source": [
    "Define the 'publications' object:"
   ]
  },
  {
   "cell_type": "code",
   "execution_count": 498,
   "metadata": {
    "collapsed": false
   },
   "outputs": [
    {
     "data": {
      "text/plain": [
       "[{'author': [{'id': '6e2b4917d74658949c7636ab43a87b39',\n",
       "    'otherNames': 'McLellan J',\n",
       "    'url': 'http://gtr.rcuk.ac.uk:80/person/6e2b4917d74658949c7636ab43a87b39'}],\n",
       "  'date': '2012-01-01',\n",
       "  'firstAuthorName': 'McLellan J',\n",
       "  'id': 'B4EDCF26-08D9-4192-9625-2C52633EA845',\n",
       "  'parentPublicationTitle': 'History Workshop Journal',\n",
       "  'title': 'Glad to be Gay Behind the Wall: Gay and Lesbian Activism in 1970s East Germany',\n",
       "  'url': 'http://gtr.rcuk.ac.uk:80/publication/B4EDCF26-08D9-4192-9625-2C52633EA845'},\n",
       " {'author': [{'id': '7135b2b3b18c98e2306058bde50ce08d',\n",
       "    'otherNames': 'Fürst J.',\n",
       "    'url': 'http://gtr.rcuk.ac.uk:80/person/7135b2b3b18c98e2306058bde50ce08d'}],\n",
       "  'date': '2014-01-01',\n",
       "  'firstAuthorName': 'Fürst J.',\n",
       "  'id': 'D687F1A6-ED35-4F61-B976-1566BB5270E8',\n",
       "  'parentPublicationTitle': 'Contemporary European History',\n",
       "  'title': \"Love, Peace and Rock'n Roll on Gorky Street: The 'Emotional Style' of the Soviet Hippie Community\",\n",
       "  'url': 'http://gtr.rcuk.ac.uk:80/publication/D687F1A6-ED35-4F61-B976-1566BB5270E8'},\n",
       " {'author': [{'id': '14f219700de6ba0cf22951ceafa277b8',\n",
       "    'otherNames': 'Fürst J',\n",
       "    'url': 'http://gtr.rcuk.ac.uk:80/person/14f219700de6ba0cf22951ceafa277b8'}],\n",
       "  'firstAuthorName': 'Fürst J',\n",
       "  'id': 'A1FA8C0E-7A06-4D7B-994B-B65454DDD2D5',\n",
       "  'title': 'Flowers through Concrete: The World of the Soviet Hippies',\n",
       "  'url': 'http://gtr.rcuk.ac.uk:80/publication/A1FA8C0E-7A06-4D7B-994B-B65454DDD2D5'},\n",
       " {'author': [{'id': '14f219700de6ba0cf22951ceafa277b8',\n",
       "    'otherNames': 'Fürst J',\n",
       "    'url': 'http://gtr.rcuk.ac.uk:80/person/14f219700de6ba0cf22951ceafa277b8'}],\n",
       "  'firstAuthorName': 'Fürst J',\n",
       "  'id': 'C2A9EDA6-20E3-450A-918D-21BE7E7F6B2B',\n",
       "  'title': 'Dropping out of Socialism: Alternative Spheres in the Soviet Bloc',\n",
       "  'url': 'http://gtr.rcuk.ac.uk:80/publication/C2A9EDA6-20E3-450A-918D-21BE7E7F6B2B'},\n",
       " {'author': [{'id': '54e73c58eef449b5b7a1fc1f29ea9fe9',\n",
       "    'otherNames': 'McLellan, J',\n",
       "    'url': 'http://gtr.rcuk.ac.uk:80/person/54e73c58eef449b5b7a1fc1f29ea9fe9'}],\n",
       "  'firstAuthorName': 'McLellan, J',\n",
       "  'id': 'D7831683-0AE0-4989-85B8-1F6DBA021F7F',\n",
       "  'parentPublicationTitle': 'Cultural and Social History',\n",
       "  'title': 'Lesbians, gay men and the production of scale in East Germany',\n",
       "  'url': 'http://gtr.rcuk.ac.uk:80/publication/D7831683-0AE0-4989-85B8-1F6DBA021F7F'}]"
      ]
     },
     "execution_count": 498,
     "metadata": {},
     "output_type": "execute_result"
    }
   ],
   "source": [
    "publications = data['projectOverview']['projectComposition']['project']['publication']\n",
    "publications"
   ]
  },
  {
   "cell_type": "code",
   "execution_count": 499,
   "metadata": {
    "collapsed": false
   },
   "outputs": [
    {
     "data": {
      "text/plain": [
       "safeJSON.SafeList"
      ]
     },
     "execution_count": 499,
     "metadata": {},
     "output_type": "execute_result"
    }
   ],
   "source": [
    "type(publications)"
   ]
  },
  {
   "cell_type": "markdown",
   "metadata": {},
   "source": [
    "Where there are no publications, the value of publications is '[]'. The type of this object is always safeJSON.SafeList."
   ]
  },
  {
   "cell_type": "markdown",
   "metadata": {},
   "source": [
    "We can then iterate through this object in a for loop and convert the results to RDF, as shown in section 2, below."
   ]
  },
  {
   "cell_type": "markdown",
   "metadata": {},
   "source": [
    "###Collaborating Organisations and related terms"
   ]
  },
  {
   "cell_type": "markdown",
   "metadata": {},
   "source": [
    "Define the 'collaborators' object"
   ]
  },
  {
   "cell_type": "code",
   "execution_count": 500,
   "metadata": {
    "collapsed": false
   },
   "outputs": [
    {
     "data": {
      "text/plain": [
       "[{'id': 'E6BE1E2D-6D42-47FB-AB0A-A2FC1914A896',\n",
       "  'name': 'Sciences Po',\n",
       "  'url': 'http://gtr.rcuk.ac.uk:80/organisation/E6BE1E2D-6D42-47FB-AB0A-A2FC1914A896'},\n",
       " {'address': {'country': 'United Kingdom',\n",
       "   'line1': 'University of Exeter',\n",
       "   'line2': 'Clydesdale House',\n",
       "   'line3': 'Clydesdale Road',\n",
       "   'line4': 'Exeter',\n",
       "   'postCode': 'EX4 4QX',\n",
       "   'region': 'South West'},\n",
       "  'id': '961756BF-E31F-4A13-836F-0A09BA02385C',\n",
       "  'name': 'University of Exeter',\n",
       "  'url': 'http://gtr.rcuk.ac.uk:80/organisation/961756BF-E31F-4A13-836F-0A09BA02385C'}]"
      ]
     },
     "execution_count": 500,
     "metadata": {},
     "output_type": "execute_result"
    }
   ],
   "source": [
    "collaborators = data['projectOverview']['projectComposition']['collaborator']\n",
    "collaborators"
   ]
  },
  {
   "cell_type": "markdown",
   "metadata": {},
   "source": [
    "We can then iterate through this object in a for loop and convert the results to RDF, as shown in section 2, below."
   ]
  },
  {
   "cell_type": "markdown",
   "metadata": {},
   "source": [
    "###Outputs"
   ]
  },
  {
   "cell_type": "markdown",
   "metadata": {},
   "source": [
    "Define the 'outputs' object:"
   ]
  },
  {
   "cell_type": "code",
   "execution_count": 508,
   "metadata": {
    "collapsed": false
   },
   "outputs": [
    {
     "data": {
      "text/plain": [
       "{'artisticAndCreativeProductOutput': [{'description': \"The Estonian film maker Terje Toomistu became interested in the former Soviet hippies in Tallinn. In the course of research she met the PI, Juliane F&uuml;rst, who became a consultant and co-producer on her documentary film of the Soviet hippie community. The documentary was filmed as a part road movie, part animation, part archival footage in 2015 and relies in its historical narrative heavily on F&uuml;rst's work carried out under the aegis of the project 'Dropping out of Socialism&quot;. It is due to be completed later this year.\",\n",
       "   'id': '5F946473-52E8-4A06-A51A-056139D74EF6',\n",
       "   'impact': 'The film has already incurred great interest in the film-making community and been taken on by the television station Arte for future dissemination. The crowd-funding campaign as well as publicity for the film online has already raised awareness of the topic among an interested audience worldwide.',\n",
       "   'title': \"Documentary 'Soviet Hippies' by Terje Toomistu\",\n",
       "   'type': 'Film/Video/Animation',\n",
       "   'url': 'https://www.facebook.com/soviethippies/?fref=ts',\n",
       "   'yearFirstProvided': 2015}],\n",
       " 'collaborationOutput': [{'collaboratingOrganisation': 'University of Exeter',\n",
       "   'country': 'United Kingdom of Great Britain & Northern Ireland (UK)',\n",
       "   'description': 'Spaces of Late Socialism',\n",
       "   'id': '3236A8ED-B73F-4202-B8DE-61713FE5602D',\n",
       "   'impact': 'Workshop at the University of Exeter, March 2013',\n",
       "   'partnerContribution': 'Hosting research workshop',\n",
       "   'piContribution': 'Organisation of workshop',\n",
       "   'sector': 'Academic/University',\n",
       "   'start': '2012-01-01'},\n",
       "  {'collaboratingOrganisation': 'Sciences Po',\n",
       "   'country': 'France, French Republic',\n",
       "   'description': 'Visiting Professorship at Sciences Po, Paris',\n",
       "   'id': '6D33DF10-8EE5-4D1A-B2C1-951C29F2AC80',\n",
       "   'impact': 'A period of work in the archives of the International Social Science Council.',\n",
       "   'partnerContribution': 'Hosting me during my stay.',\n",
       "   'piContribution': 'A month as a visiting professor.',\n",
       "   'sector': 'Academic/University',\n",
       "   'start': '2014-01-01'},\n",
       "  {'collaboratingOrganisation': 'University of Exeter',\n",
       "   'country': 'United Kingdom of Great Britain & Northern Ireland (UK)',\n",
       "   'description': 'Socialist Spaces',\n",
       "   'id': 'F504843E-DE23-44D1-9772-71B4D6721425',\n",
       "   'piContribution': 'Collaboration, including joint workshop, with scholars and PhD students at Exeter University',\n",
       "   'sector': 'Academic/University',\n",
       "   'start': '2013-01-01'}],\n",
       " 'disseminationOutput': [],\n",
       " 'exploitationOutput': [],\n",
       " 'furtherFundingOutput': [],\n",
       " 'impactSummaryOutput': [{'description': 'The Wende Museum in Los Angeles has acquired some of the primary material unearthed by the researchers on this project and is, in collaboration with the PI, planning an exhibition on the Soviet Hippies in 2017.\\n\\nThe documentary maker Terje Toomistu has become interested in the Soviet hippies and the PI, Juliane F&uuml;rst, is serving as a consultant and co-producer on her almost completed documentary on the movement.',\n",
       "   'firstYearOfImpact': 2015,\n",
       "   'id': '2ADD3907-1964-4211-A75B-6CE72F3E06D8',\n",
       "   'impactType': ['Cultural'],\n",
       "   'sector': 'Creative Economy,Education,Culture, Heritage, Museums and Collections'}],\n",
       " 'intellectualPropertyOutput': [],\n",
       " 'keyFindingsOutput': {'description': \"The research carried out under the aegis of the project 'Dropping out of Socialism' has contributed in major ways to how historians currently view the period of late socialism. The image of the grey and stagnating Eastern bloc, which dominated historial narratives in the Cold War and beyond, has been replaced with acknowledgment that it was this time which produced a plethora of parallel and subcultures, which interacted, permeated and influenced the mainstream. The period of late socialism is now seen as a time of highly complex interplay between the 'official' and 'non-official' and as key to understanding the intellectual and political culture in Eastern Europe and Russia today.\\n\\nOur project has significantly contributed to and developed this new view on late socialism by carrying out detailed case studies in underground cultures (Hippies, gay and lesbian communitues, rock musicians) and running a much noted workshop on alternative spheres in the Soviet bloc, which involved scholars from twelve different countries. The workshop papers will be published later this year by Lexington books. They will undoubtedly draw attention to the wide diversity of cultural phenomena that existed in this time behind the Iron Curtain and showcase that much that characterized cultural life in Eastern Europe in the 1990s has its roots in the socialist period.\",\n",
       "  'exploitationPathways': 'The project has already produced three published articles. Two more, one monograph, one collected volume, one documentary film and one digital archive are still in the making. Taken together this represents a formidable amount of literature and visual material on a topic that has long been neglected and which has entered the horizon of fellow historians not least through the work carried out under the aegis of the project. \\n\\nThe digital archive is going to be open source and accessible freely on the internet. All articles and books are published by reputable publishing houses (OUP, Lexington, Sage journals) and hence accessible to fellow academics. \\n\\nIn addition we expect that the forthcoming exhibition and the documentary film on Soviet hippies is going to draw attention to the wider project and place our work firmly on not only the academic map but wider public consciousness. \\n\\nWe intend to continue publishing our findings (especially our PhD student Anna Kan is expected to finish this year and publish her first article) and to make use of further opportunities arising from our collaboration with the Wende Museum in LA. We have applied for a follow-on and impact grant to realize the exhibition and cement this museum-academic partnership, which has been very fruitful to both sides.',\n",
       "  'id': '22A20B87-1FF5-4036-A5A6-C397C74BCA15',\n",
       "  'sector': ['Creative Economy,Education,Culture, Heritage, Museums and Collections']},\n",
       " 'otherResearchOutput': [],\n",
       " 'policyInfluenceOutput': [],\n",
       " 'productOutput': [],\n",
       " 'researchDatabaseAndModelOutput': [{'description': \"This data base contains a large collection of photos relating to the research project 'Dropping out of Socialism', which have been acquired and scanned by the Wende Museum. The database is designed to be open to further additions and will support the Wende Museum LA in its educational work.\",\n",
       "   'id': '9F1EE7D6-E5EB-4486-95CE-422CE6A20EDC',\n",
       "   'impact': 'This is the first time that a large number of hitherto inaccessible and unknown photographic material of little known aspects of Soviet life will be made available to the wider public and in an easily navigable format with English titles and explanations.',\n",
       "   'title': \"Digital Photo Archive 'Dropping out of Socialism'\",\n",
       "   'type': 'Database/Collection of data'}],\n",
       " 'researchMaterialOutput': [],\n",
       " 'softwareAndTechnicalProductOutput': [],\n",
       " 'spinOutOutput': []}"
      ]
     },
     "execution_count": 508,
     "metadata": {},
     "output_type": "execute_result"
    }
   ],
   "source": [
    "outputs = data['projectOverview']['projectComposition']['project']['output']\n",
    "outputs"
   ]
  },
  {
   "cell_type": "code",
   "execution_count": 509,
   "metadata": {
    "collapsed": false
   },
   "outputs": [
    {
     "data": {
      "text/plain": [
       "[{'description': \"This data base contains a large collection of photos relating to the research project 'Dropping out of Socialism', which have been acquired and scanned by the Wende Museum. The database is designed to be open to further additions and will support the Wende Museum LA in its educational work.\",\n",
       "  'id': '9F1EE7D6-E5EB-4486-95CE-422CE6A20EDC',\n",
       "  'impact': 'This is the first time that a large number of hitherto inaccessible and unknown photographic material of little known aspects of Soviet life will be made available to the wider public and in an easily navigable format with English titles and explanations.',\n",
       "  'title': \"Digital Photo Archive 'Dropping out of Socialism'\",\n",
       "  'type': 'Database/Collection of data'}]"
      ]
     },
     "execution_count": 509,
     "metadata": {},
     "output_type": "execute_result"
    }
   ],
   "source": [
    "research_database_model = data['projectOverview']['projectComposition']['project']['output']['researchDatabaseAndModelOutput']\n",
    "research_database_model"
   ]
  },
  {
   "cell_type": "code",
   "execution_count": 521,
   "metadata": {
    "collapsed": false
   },
   "outputs": [
    {
     "name": "stdout",
     "output_type": "stream",
     "text": [
      "[]\n",
      "<class 'safeJSON.SafeList'>\n",
      "[]\n",
      "<class 'safeJSON.SafeList'>\n",
      "[{'title': \"Digital Photo Archive 'Dropping out of Socialism'\", 'description': \"This data base contains a large collection of photos relating to the research project 'Dropping out of Socialism', which have been acquired and scanned by the Wende Museum. The database is designed to be open to further additions and will support the Wende Museum LA in its educational work.\", 'type': 'Database/Collection of data', 'impact': 'This is the first time that a large number of hitherto inaccessible and unknown photographic material of little known aspects of Soviet life will be made available to the wider public and in an easily navigable format with English titles and explanations.', 'id': '9F1EE7D6-E5EB-4486-95CE-422CE6A20EDC'}]\n",
      "<class 'safeJSON.SafeList'>\n",
      "[]\n",
      "<class 'safeJSON.SafeList'>\n",
      "[{'title': \"Documentary 'Soviet Hippies' by Terje Toomistu\", 'description': \"The Estonian film maker Terje Toomistu became interested in the former Soviet hippies in Tallinn. In the course of research she met the PI, Juliane F&uuml;rst, who became a consultant and co-producer on her documentary film of the Soviet hippie community. The documentary was filmed as a part road movie, part animation, part archival footage in 2015 and relies in its historical narrative heavily on F&uuml;rst's work carried out under the aegis of the project 'Dropping out of Socialism&quot;. It is due to be completed later this year.\", 'type': 'Film/Video/Animation', 'id': '5F946473-52E8-4A06-A51A-056139D74EF6', 'url': 'https://www.facebook.com/soviethippies/?fref=ts', 'impact': 'The film has already incurred great interest in the film-making community and been taken on by the television station Arte for future dissemination. The crowd-funding campaign as well as publicity for the film online has already raised awareness of the topic among an interested audience worldwide.', 'yearFirstProvided': 2015}]\n",
      "<class 'safeJSON.SafeList'>\n",
      "[]\n",
      "<class 'safeJSON.SafeList'>\n",
      "[]\n",
      "<class 'safeJSON.SafeList'>\n",
      "[]\n",
      "<class 'safeJSON.SafeList'>\n",
      "{'description': \"The research carried out under the aegis of the project 'Dropping out of Socialism' has contributed in major ways to how historians currently view the period of late socialism. The image of the grey and stagnating Eastern bloc, which dominated historial narratives in the Cold War and beyond, has been replaced with acknowledgment that it was this time which produced a plethora of parallel and subcultures, which interacted, permeated and influenced the mainstream. The period of late socialism is now seen as a time of highly complex interplay between the 'official' and 'non-official' and as key to understanding the intellectual and political culture in Eastern Europe and Russia today.\\n\\nOur project has significantly contributed to and developed this new view on late socialism by carrying out detailed case studies in underground cultures (Hippies, gay and lesbian communitues, rock musicians) and running a much noted workshop on alternative spheres in the Soviet bloc, which involved scholars from twelve different countries. The workshop papers will be published later this year by Lexington books. They will undoubtedly draw attention to the wide diversity of cultural phenomena that existed in this time behind the Iron Curtain and showcase that much that characterized cultural life in Eastern Europe in the 1990s has its roots in the socialist period.\", 'sector': ['Creative Economy,Education,Culture, Heritage, Museums and Collections'], 'id': '22A20B87-1FF5-4036-A5A6-C397C74BCA15', 'exploitationPathways': 'The project has already produced three published articles. Two more, one monograph, one collected volume, one documentary film and one digital archive are still in the making. Taken together this represents a formidable amount of literature and visual material on a topic that has long been neglected and which has entered the horizon of fellow historians not least through the work carried out under the aegis of the project. \\n\\nThe digital archive is going to be open source and accessible freely on the internet. All articles and books are published by reputable publishing houses (OUP, Lexington, Sage journals) and hence accessible to fellow academics. \\n\\nIn addition we expect that the forthcoming exhibition and the documentary film on Soviet hippies is going to draw attention to the wider project and place our work firmly on not only the academic map but wider public consciousness. \\n\\nWe intend to continue publishing our findings (especially our PhD student Anna Kan is expected to finish this year and publish her first article) and to make use of further opportunities arising from our collaboration with the Wende Museum in LA. We have applied for a follow-on and impact grant to realize the exhibition and cement this museum-academic partnership, which has been very fruitful to both sides.'}\n",
      "<class 'safeJSON.SafeDict'>\n",
      "[]\n",
      "<class 'safeJSON.SafeList'>\n",
      "[]\n",
      "<class 'safeJSON.SafeList'>\n",
      "[]\n",
      "<class 'safeJSON.SafeList'>\n",
      "[{'start': '2012-01-01', 'description': 'Spaces of Late Socialism', 'piContribution': 'Organisation of workshop', 'sector': 'Academic/University', 'country': 'United Kingdom of Great Britain & Northern Ireland (UK)', 'id': '3236A8ED-B73F-4202-B8DE-61713FE5602D', 'collaboratingOrganisation': 'University of Exeter', 'impact': 'Workshop at the University of Exeter, March 2013', 'partnerContribution': 'Hosting research workshop'}, {'start': '2014-01-01', 'description': 'Visiting Professorship at Sciences Po, Paris', 'piContribution': 'A month as a visiting professor.', 'sector': 'Academic/University', 'country': 'France, French Republic', 'id': '6D33DF10-8EE5-4D1A-B2C1-951C29F2AC80', 'collaboratingOrganisation': 'Sciences Po', 'impact': 'A period of work in the archives of the International Social Science Council.', 'partnerContribution': 'Hosting me during my stay.'}, {'start': '2013-01-01', 'description': 'Socialist Spaces', 'piContribution': 'Collaboration, including joint workshop, with scholars and PhD students at Exeter University', 'sector': 'Academic/University', 'country': 'United Kingdom of Great Britain & Northern Ireland (UK)', 'id': 'F504843E-DE23-44D1-9772-71B4D6721425', 'collaboratingOrganisation': 'University of Exeter'}]\n",
      "<class 'safeJSON.SafeList'>\n",
      "[{'description': 'The Wende Museum in Los Angeles has acquired some of the primary material unearthed by the researchers on this project and is, in collaboration with the PI, planning an exhibition on the Soviet Hippies in 2017.\\n\\nThe documentary maker Terje Toomistu has become interested in the Soviet hippies and the PI, Juliane F&uuml;rst, is serving as a consultant and co-producer on her almost completed documentary on the movement.', 'impactType': ['Cultural'], 'sector': 'Creative Economy,Education,Culture, Heritage, Museums and Collections', 'id': '2ADD3907-1964-4211-A75B-6CE72F3E06D8', 'firstYearOfImpact': 2015}]\n",
      "<class 'safeJSON.SafeList'>\n",
      "[]\n",
      "<class 'safeJSON.SafeList'>\n"
     ]
    }
   ],
   "source": [
    "for output_category in outputs:\n",
    "    print(outputs[output_category])\n",
    "    print(type(outputs[output_category]))\n",
    "    #output_id = outputs[output_category]['id']\n",
    "    #if (type(output_id) != safeJSON.SafeNoneClass):\n",
    "        #print(output_id)"
   ]
  },
  {
   "cell_type": "markdown",
   "metadata": {},
   "source": [
    "As the above shows, the JSON syntax for keyFindingsOutput renders it as a dictionary rather than a list, presumably because only one key findings output is permitted. This means it needs to be treated differently from the other output categories."
   ]
  },
  {
   "cell_type": "code",
   "execution_count": 542,
   "metadata": {
    "collapsed": false
   },
   "outputs": [
    {
     "name": "stdout",
     "output_type": "stream",
     "text": [
      "Digital Photo Archive 'Dropping out of Socialism'\n",
      "Documentary 'Soviet Hippies' by Terje Toomistu\n",
      "SafeNone\n",
      "SafeNone\n",
      "SafeNone\n",
      "SafeNone\n"
     ]
    }
   ],
   "source": [
    "for output_category in outputs:\n",
    "    if (output_category != 'keyFindingsOutput'):\n",
    "        output_list = outputs[output_category]\n",
    "        for output in output_list:\n",
    "            output_class = output_category[0].upper() + output_category[1:]\n",
    "            output_class_uri_string = ahproject_base_uri + output_class\n",
    "            output_id = output['id']\n",
    "            output_uri_string = ahproject_base_uri + 'output/' + output_id\n",
    "            output_description = output['description']\n",
    "            output_title = output['title']\n",
    "            output_impact = output['impact']\n",
    "            output_url = output['url']\n",
    "            output_type = output['type']\n",
    "            output_sector = output['sector']\n",
    "            output_geographic_reach = output['geographicReach']\n",
    "            output_year_first_provided = output['yearFirstProvided']\n",
    "            if (type(output_id) != safeJSON.SafeNoneClass):\n",
    "                print(output_title)"
   ]
  },
  {
   "cell_type": "markdown",
   "metadata": {},
   "source": [
    "We can then iterate through these objects in a for loop and convert the results to RDF, as shown in section 2, below."
   ]
  },
  {
   "cell_type": "markdown",
   "metadata": {},
   "source": [
    "##2. Use RDFLib to construct relationships between variables from the JSON file and external ontologies"
   ]
  },
  {
   "cell_type": "code",
   "execution_count": 502,
   "metadata": {
    "collapsed": true
   },
   "outputs": [],
   "source": [
    "import rdflib"
   ]
  },
  {
   "cell_type": "code",
   "execution_count": 549,
   "metadata": {
    "collapsed": false
   },
   "outputs": [
    {
     "name": "stdout",
     "output_type": "stream",
     "text": [
      "--- printing raw triples ---\n",
      "(rdflib.term.URIRef('http://data.open.ac.uk/meta/ontology/ahproject/project/EB8275BC-FF3C-4A89-8A50-043C60520F29'), rdflib.term.URIRef('http://xmlns.com/foaf/0.1/homepage'), rdflib.term.Literal('http://gtr.rcuk.ac.uk:80/projects?ref=AH%2FI002502%2F1', datatype=rdflib.term.URIRef('http://www.w3.org/2001/XMLSchema#string')))\n",
      "(rdflib.term.URIRef('http://data.open.ac.uk/meta/ontology/ahproject/project/EB8275BC-FF3C-4A89-8A50-043C60520F29'), rdflib.term.URIRef('http://purl.org/cerif/frapo/hasOutput'), rdflib.term.URIRef('http://data.open.ac.uk/meta/ontology/ahproject/publication/D687F1A6-ED35-4F61-B976-1566BB5270E8'))\n",
      "(rdflib.term.URIRef('http://data.open.ac.uk/meta/ontology/ahproject/organisation/1291772D-DFCE-493A-AEE7-24F7EEAFE0E9'), rdflib.term.URIRef('http://xmlns.com/foaf/0.1/homepage'), rdflib.term.Literal('http://gtr.rcuk.ac.uk:80/organisation/1291772D-DFCE-493A-AEE7-24F7EEAFE0E9', datatype=rdflib.term.URIRef('http://www.w3.org/2001/XMLSchema#string')))\n",
      "(rdflib.term.URIRef('http://data.open.ac.uk/meta/ontology/ahproject/publication/B4EDCF26-08D9-4192-9625-2C52633EA845'), rdflib.term.URIRef('http://purl.org/dc/elements/1.1/title'), rdflib.term.Literal('Glad to be Gay Behind the Wall: Gay and Lesbian Activism in 1970s East Germany', datatype=rdflib.term.URIRef('http://www.w3.org/2001/XMLSchema#string')))\n",
      "(rdflib.term.URIRef('http://data.open.ac.uk/meta/ontology/ahproject/publication/D687F1A6-ED35-4F61-B976-1566BB5270E8'), rdflib.term.URIRef('http://purl.org/spar/fabio/hasURL'), rdflib.term.Literal('http://gtr.rcuk.ac.uk:80/publication/D687F1A6-ED35-4F61-B976-1566BB5270E8', datatype=rdflib.term.URIRef('http://www.w3.org/2001/XMLSchema#string')))\n",
      "(rdflib.term.URIRef('http://data.open.ac.uk/meta/ontology/ahproject/organisation/1291772D-DFCE-493A-AEE7-24F7EEAFE0E9'), rdflib.term.URIRef('http://vocab.ox.ac.uk/projectfunding#provides'), rdflib.term.URIRef('http://data.open.ac.uk/meta/ontology/ahproject/project/EB8275BC-FF3C-4A89-8A50-043C60520F29#fund'))\n",
      "(rdflib.term.URIRef('http://data.open.ac.uk/meta/ontology/ahproject/project/EB8275BC-FF3C-4A89-8A50-043C60520F29'), rdflib.term.URIRef('http://purl.org/cerif/frapo/hasOutput'), rdflib.term.URIRef('http://data.open.ac.uk/meta/ontology/ahproject/output/3236A8ED-B73F-4202-B8DE-61713FE5602D'))\n",
      "(rdflib.term.URIRef('http://data.open.ac.uk/meta/ontology/ahproject/organisation/FD94FDDE-5BBC-4E12-911F-0B70DBCFA743'), rdflib.term.URIRef('http://www.w3.org/2006/vcard/ns#hasOrganizationUnit'), rdflib.term.Literal('School of Humanities', datatype=rdflib.term.URIRef('http://www.w3.org/2001/XMLSchema#string')))\n",
      "(rdflib.term.URIRef('http://data.open.ac.uk/meta/ontology/ahproject/organisation/961756BF-E31F-4A13-836F-0A09BA02385C#address'), rdflib.term.URIRef('http://www.w3.org/2006/vcard/ns#hasPostalCode'), rdflib.term.Literal('EX4 4QX', datatype=rdflib.term.URIRef('http://www.w3.org/2001/XMLSchema#string')))\n",
      "(rdflib.term.URIRef('http://data.open.ac.uk/meta/ontology/ahproject/publication/C2A9EDA6-20E3-450A-918D-21BE7E7F6B2B'), rdflib.term.URIRef('http://purl.org/dc/elements/1.1/title'), rdflib.term.Literal('Dropping out of Socialism: Alternative Spheres in the Soviet Bloc', datatype=rdflib.term.URIRef('http://www.w3.org/2001/XMLSchema#string')))\n",
      "(rdflib.term.URIRef('http://data.open.ac.uk/meta/ontology/ahproject/output/5F946473-52E8-4A06-A51A-056139D74EF6'), rdflib.term.URIRef('http://purl.org/dc/elements/1.1/description'), rdflib.term.Literal(\"The Estonian film maker Terje Toomistu became interested in the former Soviet hippies in Tallinn. In the course of research she met the PI, Juliane F&uuml;rst, who became a consultant and co-producer on her documentary film of the Soviet hippie community. The documentary was filmed as a part road movie, part animation, part archival footage in 2015 and relies in its historical narrative heavily on F&uuml;rst's work carried out under the aegis of the project 'Dropping out of Socialism&quot;. It is due to be completed later this year.\", datatype=rdflib.term.URIRef('http://www.w3.org/2001/XMLSchema#string')))\n",
      "(rdflib.term.URIRef('http://data.open.ac.uk/meta/ontology/ahproject/publication/B4EDCF26-08D9-4192-9625-2C52633EA845'), rdflib.term.URIRef('http://purl.org/dc/elements/1.1/issued'), rdflib.term.Literal('2012-01-01T00:00:00', datatype=rdflib.term.URIRef('http://www.w3.org/2001/XMLSchema#dateTime')))\n",
      "(rdflib.term.URIRef('http://data.open.ac.uk/meta/ontology/ahproject/output/3236A8ED-B73F-4202-B8DE-61713FE5602D'), rdflib.term.URIRef('http://data.open.ac.uk/meta/ontology/ahproject#Impact'), rdflib.term.Literal('Workshop at the University of Exeter, March 2013', datatype=rdflib.term.URIRef('http://www.w3.org/2001/XMLSchema#string')))\n",
      "(rdflib.term.URIRef('http://data.open.ac.uk/meta/ontology/ahproject/project/EB8275BC-FF3C-4A89-8A50-043C60520F29#fund'), rdflib.term.URIRef('http://vocab.ox.ac.uk/projectfunding#endDate'), rdflib.term.Literal('2015-01-31T00:00:00', datatype=rdflib.term.URIRef('http://www.w3.org/2001/XMLSchema#dateTime')))\n",
      "(rdflib.term.URIRef('http://data.open.ac.uk/meta/ontology/ahproject/project/EB8275BC-FF3C-4A89-8A50-043C60520F29'), rdflib.term.URIRef('http://purl.org/cerif/frapo/hasOutput'), rdflib.term.URIRef('http://data.open.ac.uk/meta/ontology/ahproject/publication/C2A9EDA6-20E3-450A-918D-21BE7E7F6B2B'))\n",
      "(rdflib.term.URIRef('http://data.open.ac.uk/meta/ontology/ahproject/output/5F946473-52E8-4A06-A51A-056139D74EF6'), rdflib.term.URIRef('http://www.w3.org/1999/02/22-rdf-syntax-ns#type'), rdflib.term.URIRef('http://data.open.ac.uk/meta/ontology/ahproject/ArtisticAndCreativeProductOutput'))\n",
      "(rdflib.term.URIRef('http://data.open.ac.uk/meta/ontology/ahproject/person/7729A3BA-8B99-4DBA-A577-FF76802F2226'), rdflib.term.URIRef('http://xmlns.com/foaf/0.1/givenName'), rdflib.term.Literal('Josie', datatype=rdflib.term.URIRef('http://www.w3.org/2001/XMLSchema#string')))\n",
      "(rdflib.term.URIRef('http://data.open.ac.uk/meta/ontology/ahproject/project/EB8275BC-FF3C-4A89-8A50-043C60520F29'), rdflib.term.URIRef('http://vivoweb.org/ontology/core#hasCollaborator'), rdflib.term.URIRef('http://data.open.ac.uk/meta/ontology/ahproject/organisation/961756BF-E31F-4A13-836F-0A09BA02385C'))\n",
      "(rdflib.term.URIRef('http://data.open.ac.uk/meta/ontology/ahproject/output/5F946473-52E8-4A06-A51A-056139D74EF6'), rdflib.term.URIRef('http://purl.org/dc/elements/1.1/type'), rdflib.term.Literal('Film/Video/Animation', datatype=rdflib.term.URIRef('http://www.w3.org/2001/XMLSchema#string')))\n",
      "(rdflib.term.URIRef('http://data.open.ac.uk/meta/ontology/ahproject/person/7729A3BA-8B99-4DBA-A577-FF76802F2226'), rdflib.term.URIRef('http://xmlns.com/foaf/0.1/homepage'), rdflib.term.Literal('http://gtr.rcuk.ac.uk:80/person/7729A3BA-8B99-4DBA-A577-FF76802F2226', datatype=rdflib.term.URIRef('http://www.w3.org/2001/XMLSchema#string')))\n",
      "(rdflib.term.URIRef('http://data.open.ac.uk/meta/ontology/ahproject/project/EB8275BC-FF3C-4A89-8A50-043C60520F29'), rdflib.term.URIRef('http://vocab.ox.ac.uk/projectfunding#hasPrincipalInvestigator'), rdflib.term.URIRef('http://data.open.ac.uk/meta/ontology/ahproject/person/2EE07735-86D6-485D-B530-DB03D951E316'))\n",
      "(rdflib.term.URIRef('http://data.open.ac.uk/meta/ontology/ahproject/publication/C2A9EDA6-20E3-450A-918D-21BE7E7F6B2B'), rdflib.term.URIRef('http://www.w3.org/1999/02/22-rdf-syntax-ns#type'), rdflib.term.URIRef('http://purl.org/dc/elements/1.1/BibliographicResource'))\n",
      "(rdflib.term.URIRef('http://data.open.ac.uk/meta/ontology/ahproject/publication/D687F1A6-ED35-4F61-B976-1566BB5270E8'), rdflib.term.URIRef('http://www.w3.org/1999/02/22-rdf-syntax-ns#type'), rdflib.term.URIRef('http://purl.org/dc/elements/1.1/BibliographicResource'))\n",
      "(rdflib.term.URIRef('http://data.open.ac.uk/meta/ontology/ahproject/publication/C2A9EDA6-20E3-450A-918D-21BE7E7F6B2B'), rdflib.term.URIRef('http://purl.org/spar/fabio/hasURL'), rdflib.term.Literal('http://gtr.rcuk.ac.uk:80/publication/C2A9EDA6-20E3-450A-918D-21BE7E7F6B2B', datatype=rdflib.term.URIRef('http://www.w3.org/2001/XMLSchema#string')))\n",
      "(rdflib.term.URIRef('http://data.open.ac.uk/meta/ontology/ahproject/publication/D7831683-0AE0-4989-85B8-1F6DBA021F7F'), rdflib.term.URIRef('http://purl.org/dc/elements/1.1/isPartOf'), rdflib.term.Literal('Cultural and Social History', datatype=rdflib.term.URIRef('http://www.w3.org/2001/XMLSchema#string')))\n",
      "(rdflib.term.URIRef('http://data.open.ac.uk/meta/ontology/ahproject/output/9F1EE7D6-E5EB-4486-95CE-422CE6A20EDC'), rdflib.term.URIRef('http://purl.org/dc/elements/1.1/title'), rdflib.term.Literal(\"Digital Photo Archive 'Dropping out of Socialism'\", datatype=rdflib.term.URIRef('http://www.w3.org/2001/XMLSchema#string')))\n",
      "(rdflib.term.URIRef('http://data.open.ac.uk/meta/ontology/ahproject/organisation/961756BF-E31F-4A13-836F-0A09BA02385C#address'), rdflib.term.URIRef('http://www.w3.org/2006/vcard/ns#region'), rdflib.term.Literal('South West', datatype=rdflib.term.URIRef('http://www.w3.org/2001/XMLSchema#string')))\n",
      "(rdflib.term.URIRef('http://data.open.ac.uk/meta/ontology/ahproject/organisation/E6BE1E2D-6D42-47FB-AB0A-A2FC1914A896'), rdflib.term.URIRef('http://xmlns.com/foaf/0.1/homepage'), rdflib.term.Literal('http://gtr.rcuk.ac.uk:80/organisation/E6BE1E2D-6D42-47FB-AB0A-A2FC1914A896', datatype=rdflib.term.URIRef('http://www.w3.org/2001/XMLSchema#string')))\n",
      "(rdflib.term.URIRef('http://data.open.ac.uk/meta/ontology/ahproject/publication/B4EDCF26-08D9-4192-9625-2C52633EA845'), rdflib.term.URIRef('http://purl.org/dc/elements/1.1/isPartOf'), rdflib.term.Literal('History Workshop Journal', datatype=rdflib.term.URIRef('http://www.w3.org/2001/XMLSchema#string')))\n",
      "(rdflib.term.URIRef('http://data.open.ac.uk/meta/ontology/ahproject/organisation/961756BF-E31F-4A13-836F-0A09BA02385C#address'), rdflib.term.URIRef('http://www.w3.org/1999/02/22-rdf-syntax-ns#type'), rdflib.term.URIRef('http://www.w3.org/2006/vcard/ns#Address'))\n",
      "(rdflib.term.URIRef('http://data.open.ac.uk/meta/ontology/ahproject/project/EB8275BC-FF3C-4A89-8A50-043C60520F29'), rdflib.term.URIRef('http://purl.org/cerif/frapo/hasOutput'), rdflib.term.URIRef('http://data.open.ac.uk/meta/ontology/ahproject/output/5F946473-52E8-4A06-A51A-056139D74EF6'))\n",
      "(rdflib.term.URIRef('http://data.open.ac.uk/meta/ontology/ahproject/output/F504843E-DE23-44D1-9772-71B4D6721425'), rdflib.term.URIRef('http://data.open.ac.uk/meta/ontology/ahproject#sector'), rdflib.term.Literal('Academic/University', datatype=rdflib.term.URIRef('http://www.w3.org/2001/XMLSchema#string')))\n",
      "(rdflib.term.URIRef('http://data.open.ac.uk/meta/ontology/ahproject/organisation/1291772D-DFCE-493A-AEE7-24F7EEAFE0E9'), rdflib.term.URIRef('http://www.w3.org/2006/vcard/ns#hasOrganizationName'), rdflib.term.Literal('AHRC', datatype=rdflib.term.URIRef('http://www.w3.org/2001/XMLSchema#string')))\n",
      "(rdflib.term.URIRef('http://data.open.ac.uk/meta/ontology/ahproject/organisation/FD94FDDE-5BBC-4E12-911F-0B70DBCFA743#address'), rdflib.term.URIRef('http://www.w3.org/2006/vcard/ns#hasPostalCode'), rdflib.term.Literal('BS8 1TH', datatype=rdflib.term.URIRef('http://www.w3.org/2001/XMLSchema#string')))\n",
      "(rdflib.term.URIRef('http://data.open.ac.uk/meta/ontology/ahproject/project/EB8275BC-FF3C-4A89-8A50-043C60520F29#fund'), rdflib.term.URIRef('http://www.w3.org/1999/02/22-rdf-syntax-ns#type'), rdflib.term.URIRef('http://vocab.ox.ac.uk/projectfunding#Funding'))\n",
      "(rdflib.term.URIRef('http://data.open.ac.uk/meta/ontology/ahproject/project/EB8275BC-FF3C-4A89-8A50-043C60520F29'), rdflib.term.URIRef('http://purl.org/cerif/frapo/hasOutput'), rdflib.term.URIRef('http://data.open.ac.uk/meta/ontology/ahproject/output/9F1EE7D6-E5EB-4486-95CE-422CE6A20EDC'))\n",
      "(rdflib.term.URIRef('http://data.open.ac.uk/meta/ontology/ahproject/project/EB8275BC-FF3C-4A89-8A50-043C60520F29'), rdflib.term.URIRef('http://purl.org/dc/elements/1.1/subject'), rdflib.term.URIRef('http://data.open.ac.uk/meta/ontology/ahproject/subject/127553'))\n",
      "(rdflib.term.URIRef('http://data.open.ac.uk/meta/ontology/ahproject/output/3236A8ED-B73F-4202-B8DE-61713FE5602D'), rdflib.term.URIRef('http://purl.org/dc/elements/1.1/description'), rdflib.term.Literal('Spaces of Late Socialism', datatype=rdflib.term.URIRef('http://www.w3.org/2001/XMLSchema#string')))\n",
      "(rdflib.term.URIRef('http://data.open.ac.uk/meta/ontology/ahproject/publication/A1FA8C0E-7A06-4D7B-994B-B65454DDD2D5'), rdflib.term.URIRef('http://purl.org/spar/fabio/hasURL'), rdflib.term.Literal('http://gtr.rcuk.ac.uk:80/publication/A1FA8C0E-7A06-4D7B-994B-B65454DDD2D5', datatype=rdflib.term.URIRef('http://www.w3.org/2001/XMLSchema#string')))\n",
      "(rdflib.term.URIRef('http://data.open.ac.uk/meta/ontology/ahproject/project/EB8275BC-FF3C-4A89-8A50-043C60520F29'), rdflib.term.URIRef('http://vivoweb.org/ontology/core#hasCollaborator'), rdflib.term.URIRef('http://data.open.ac.uk/meta/ontology/ahproject/organisation/E6BE1E2D-6D42-47FB-AB0A-A2FC1914A896'))\n",
      "(rdflib.term.URIRef('http://data.open.ac.uk/meta/ontology/ahproject/organisation/FD94FDDE-5BBC-4E12-911F-0B70DBCFA743'), rdflib.term.URIRef('http://www.w3.org/2006/vcard/ns#hasOrganizationName'), rdflib.term.Literal('University of Bristol', datatype=rdflib.term.URIRef('http://www.w3.org/2001/XMLSchema#string')))\n",
      "(rdflib.term.URIRef('http://data.open.ac.uk/meta/ontology/ahproject/project/EB8275BC-FF3C-4A89-8A50-043C60520F29'), rdflib.term.URIRef('http://data.open.ac.uk/meta/ontology/ahproject#potentialImpact'), rdflib.term.Literal(\"Youth policy makers\\\\nThis project is all about dealing with societal drop-outs and their culture. Most of our subjects will have been young or youngish when they decided to leave mainstream society and culture. Their study and evaluation necessarily involves understanding their motivations and actions. While the project examines socialist societies, which demanded a large degree of conformity, and explores a time that is thirty years in the past, many of its findings will be of value to modern-day policy makers and youth specialists. Generational conflict, rebellion against mainstream culture, rejection of commercialism, the search for higher meaning in communitarian movements, itinerant life-styles etc. still provide the hallmarks of many non-conformist youth cultures today.\\\\n\\\\nTeachers and Youth Workers\\\\nA project whose primary goal is not to 'solve' the youth problem, but understand young drop-outs and alternatives can have great educational and socially integrative benefits. Learning about the history of alternative youth cultures can bestow a sense of value to young people, who consider themselves outside the norms and structures of normal British society, e.g.gang members, politically or culturally radicalised youth etc. The material and output of the project could thus be of great benefit to teachers and youth workers, especially, but not only, those who work with youth at the margins of society. Hopefully, via the digital archive and its usage in school and universities, young people will realize that established history is not just about important leaders and great events, but that their very own culture and existence is as worthy of recording and safe-keeping as that of politicians and economic moguls. \\\\n\\\\nMuseums and Media\\\\nThe collection of artefacts and their presentation in a digital archive will also be of interest to museums of contemporary art, many of which such as the Tate Modern and London's Hayward Gallery have in the past showcased the unofficial art of socialist societies. Often historians collect non-mainstream art long before museum and galleries realize their importance. The paintings, writings, photos and films of drop-out cultures will broaden our understanding of 'socialist' art and at the same time widen our general sense of who creates art and when. \\\\n\\\\nLocal Communities\\\\nA better and more differentiated understanding of Eastern European history is also very important in the light of the many new British residents from these countries, who have started to form substantial communities in British towns and cities. It is crucial that people understand these communities not simply as a supply of cheap labour and potential competitors for benefits, but as people whose history has much in common with their own, and is as multi-faceted as that of Britain in the same period.\\\\n\\\\nThere is a wide and varied potential audience for the output of our research project. We are thus committed to ensure as wide as possible a dissemination of its material This will be achieved through the proposed digital archive, which aims to present the primary material collected in a well-ordered and easy-to-understand manner, e.g. providing translation, short explanatory sections and suitable visual presentation. We aim to organize the archive in such a way that it is of use both to the academic scholar and the wider public. \\\\n\\\\n\", datatype=rdflib.term.URIRef('http://www.w3.org/2001/XMLSchema#string')))\n",
      "(rdflib.term.URIRef('http://data.open.ac.uk/meta/ontology/ahproject/output/6D33DF10-8EE5-4D1A-B2C1-951C29F2AC80'), rdflib.term.URIRef('http://data.open.ac.uk/meta/ontology/ahproject#Impact'), rdflib.term.Literal('A period of work in the archives of the International Social Science Council.', datatype=rdflib.term.URIRef('http://www.w3.org/2001/XMLSchema#string')))\n",
      "(rdflib.term.URIRef('http://data.open.ac.uk/meta/ontology/ahproject/organisation/961756BF-E31F-4A13-836F-0A09BA02385C'), rdflib.term.URIRef('http://www.w3.org/ns/org#siteAddress'), rdflib.term.URIRef('http://data.open.ac.uk/meta/ontology/ahproject/organisation/961756BF-E31F-4A13-836F-0A09BA02385C#address'))\n",
      "(rdflib.term.URIRef('http://data.open.ac.uk/meta/ontology/ahproject/organisation/FD94FDDE-5BBC-4E12-911F-0B70DBCFA743'), rdflib.term.URIRef('http://www.w3.org/ns/org#HeadOf'), rdflib.term.URIRef('http://data.open.ac.uk/meta/ontology/ahproject/project/EB8275BC-FF3C-4A89-8A50-043C60520F29'))\n",
      "(rdflib.term.URIRef('http://data.open.ac.uk/meta/ontology/ahproject/publication/D687F1A6-ED35-4F61-B976-1566BB5270E8'), rdflib.term.URIRef('http://purl.org/dc/elements/1.1/issued'), rdflib.term.Literal('2014-01-01T00:00:00', datatype=rdflib.term.URIRef('http://www.w3.org/2001/XMLSchema#dateTime')))\n",
      "(rdflib.term.URIRef('http://data.open.ac.uk/meta/ontology/ahproject/publication/D687F1A6-ED35-4F61-B976-1566BB5270E8'), rdflib.term.URIRef('http://purl.org/dc/elements/1.1/title'), rdflib.term.Literal(\"Love, Peace and Rock'n Roll on Gorky Street: The 'Emotional Style' of the Soviet Hippie Community\", datatype=rdflib.term.URIRef('http://www.w3.org/2001/XMLSchema#string')))\n",
      "(rdflib.term.URIRef('http://data.open.ac.uk/meta/ontology/ahproject/output/9F1EE7D6-E5EB-4486-95CE-422CE6A20EDC'), rdflib.term.URIRef('http://purl.org/dc/elements/1.1/type'), rdflib.term.Literal('Database/Collection of data', datatype=rdflib.term.URIRef('http://www.w3.org/2001/XMLSchema#string')))\n",
      "(rdflib.term.URIRef('http://data.open.ac.uk/meta/ontology/ahproject/person/2EE07735-86D6-485D-B530-DB03D951E316'), rdflib.term.URIRef('http://www.w3.org/1999/02/22-rdf-syntax-ns#type'), rdflib.term.URIRef('http://xmlns.com/foaf/0.1/Person'))\n",
      "(rdflib.term.URIRef('http://data.open.ac.uk/meta/ontology/ahproject/organisation/FD94FDDE-5BBC-4E12-911F-0B70DBCFA743'), rdflib.term.URIRef('http://xmlns.com/foaf/0.1/homepage'), rdflib.term.Literal('http://gtr.rcuk.ac.uk:80/organisation/FD94FDDE-5BBC-4E12-911F-0B70DBCFA743', datatype=rdflib.term.URIRef('http://www.w3.org/2001/XMLSchema#string')))\n",
      "(rdflib.term.URIRef('http://data.open.ac.uk/meta/ontology/ahproject/organisation/961756BF-E31F-4A13-836F-0A09BA02385C'), rdflib.term.URIRef('http://xmlns.com/foaf/0.1/homepage'), rdflib.term.Literal('http://gtr.rcuk.ac.uk:80/organisation/961756BF-E31F-4A13-836F-0A09BA02385C', datatype=rdflib.term.URIRef('http://www.w3.org/2001/XMLSchema#string')))\n",
      "(rdflib.term.URIRef('http://data.open.ac.uk/meta/ontology/ahproject/person/2EE07735-86D6-485D-B530-DB03D951E316'), rdflib.term.URIRef('http://xmlns.com/foaf/0.1/homepage'), rdflib.term.Literal('http://gtr.rcuk.ac.uk:80/person/2EE07735-86D6-485D-B530-DB03D951E316', datatype=rdflib.term.URIRef('http://www.w3.org/2001/XMLSchema#string')))\n",
      "(rdflib.term.URIRef('http://data.open.ac.uk/meta/ontology/ahproject/output/3236A8ED-B73F-4202-B8DE-61713FE5602D'), rdflib.term.URIRef('http://data.open.ac.uk/meta/ontology/ahproject#sector'), rdflib.term.Literal('Academic/University', datatype=rdflib.term.URIRef('http://www.w3.org/2001/XMLSchema#string')))\n",
      "(rdflib.term.URIRef('http://data.open.ac.uk/meta/ontology/ahproject/project/EB8275BC-FF3C-4A89-8A50-043C60520F29'), rdflib.term.URIRef('http://data.open.ac.uk/meta/ontology/status'), rdflib.term.Literal('Closed', datatype=rdflib.term.URIRef('http://www.w3.org/2001/XMLSchema#string')))\n",
      "(rdflib.term.URIRef('http://data.open.ac.uk/meta/ontology/ahproject/organisation/E6BE1E2D-6D42-47FB-AB0A-A2FC1914A896'), rdflib.term.URIRef('http://www.w3.org/2006/vcard/ns#hasOrganizationName'), rdflib.term.Literal('Sciences Po', datatype=rdflib.term.URIRef('http://www.w3.org/2001/XMLSchema#string')))\n",
      "(rdflib.term.URIRef('http://data.open.ac.uk/meta/ontology/ahproject/organisation/FD94FDDE-5BBC-4E12-911F-0B70DBCFA743'), rdflib.term.URIRef('http://www.w3.org/1999/02/22-rdf-syntax-ns#type'), rdflib.term.URIRef('http://www.w3.org/ns/org#Organization'))\n",
      "(rdflib.term.URIRef('http://data.open.ac.uk/meta/ontology/ahproject/project/EB8275BC-FF3C-4A89-8A50-043C60520F29'), rdflib.term.URIRef('http://vocab.ox.ac.uk/projectfunding#hasCoInvestigator'), rdflib.term.URIRef('http://data.open.ac.uk/meta/ontology/ahproject/person/7729A3BA-8B99-4DBA-A577-FF76802F2226'))\n",
      "(rdflib.term.URIRef('http://data.open.ac.uk/meta/ontology/ahproject/organisation/961756BF-E31F-4A13-836F-0A09BA02385C#address'), rdflib.term.URIRef('http://www.w3.org/2006/vcard/ns#hasCountryName'), rdflib.term.Literal('United Kingdom', datatype=rdflib.term.URIRef('http://www.w3.org/2001/XMLSchema#string')))\n",
      "(rdflib.term.URIRef('http://data.open.ac.uk/meta/ontology/ahproject/output/5F946473-52E8-4A06-A51A-056139D74EF6'), rdflib.term.URIRef('http://purl.org/dc/elements/1.1/available'), rdflib.term.Literal('2015', datatype=rdflib.term.URIRef('http://www.w3.org/2001/XMLSchema#integer')))\n",
      "(rdflib.term.URIRef('http://data.open.ac.uk/meta/ontology/ahproject/output/9F1EE7D6-E5EB-4486-95CE-422CE6A20EDC'), rdflib.term.URIRef('http://www.w3.org/1999/02/22-rdf-syntax-ns#type'), rdflib.term.URIRef('http://data.open.ac.uk/meta/ontology/ahproject/ResearchDatabaseAndModelOutput'))\n",
      "(rdflib.term.URIRef('http://data.open.ac.uk/meta/ontology/ahproject/organisation/FD94FDDE-5BBC-4E12-911F-0B70DBCFA743#address'), rdflib.term.URIRef('http://www.w3.org/2006/vcard/ns#region'), rdflib.term.Literal('South West', datatype=rdflib.term.URIRef('http://www.w3.org/2001/XMLSchema#string')))\n",
      "(rdflib.term.URIRef('http://data.open.ac.uk/meta/ontology/ahproject/organisation/961756BF-E31F-4A13-836F-0A09BA02385C#address'), rdflib.term.URIRef('http://purl.org/cerif/frapo/hasPostalAddressLine'), rdflib.term.Literal('University of Exeter, Clydesdale House, Clydesdale Road, Exeter', datatype=rdflib.term.URIRef('http://www.w3.org/2001/XMLSchema#string')))\n",
      "(rdflib.term.URIRef('http://data.open.ac.uk/meta/ontology/ahproject/output/2ADD3907-1964-4211-A75B-6CE72F3E06D8'), rdflib.term.URIRef('http://www.w3.org/1999/02/22-rdf-syntax-ns#type'), rdflib.term.URIRef('http://data.open.ac.uk/meta/ontology/ahproject/ImpactSummaryOutput'))\n",
      "(rdflib.term.URIRef('http://data.open.ac.uk/meta/ontology/ahproject/organisation/FD94FDDE-5BBC-4E12-911F-0B70DBCFA743'), rdflib.term.URIRef('http://www.w3.org/ns/org#siteAddress'), rdflib.term.URIRef('http://data.open.ac.uk/meta/ontology/ahproject/organisation/FD94FDDE-5BBC-4E12-911F-0B70DBCFA743#address'))\n",
      "(rdflib.term.URIRef('http://data.open.ac.uk/meta/ontology/ahproject/organisation/961756BF-E31F-4A13-836F-0A09BA02385C'), rdflib.term.URIRef('http://www.w3.org/2006/vcard/ns#hasOrganizationName'), rdflib.term.Literal('University of Exeter', datatype=rdflib.term.URIRef('http://www.w3.org/2001/XMLSchema#string')))\n",
      "(rdflib.term.URIRef('http://data.open.ac.uk/meta/ontology/ahproject/publication/D7831683-0AE0-4989-85B8-1F6DBA021F7F'), rdflib.term.URIRef('http://purl.org/dc/elements/1.1/title'), rdflib.term.Literal('Lesbians, gay men and the production of scale in East Germany', datatype=rdflib.term.URIRef('http://www.w3.org/2001/XMLSchema#string')))\n",
      "(rdflib.term.URIRef('http://data.open.ac.uk/meta/ontology/ahproject/output/5F946473-52E8-4A06-A51A-056139D74EF6'), rdflib.term.URIRef('http://purl.org/dc/elements/1.1/title'), rdflib.term.Literal(\"Documentary 'Soviet Hippies' by Terje Toomistu\", datatype=rdflib.term.URIRef('http://www.w3.org/2001/XMLSchema#string')))\n",
      "(rdflib.term.URIRef('http://data.open.ac.uk/meta/ontology/ahproject/subject/127553'), rdflib.term.URIRef('http://www.w3.org/1999/02/22-rdf-syntax-ns#type'), rdflib.term.URIRef('http://www.w3.org/2004/02/skos/core#Concept'))\n",
      "(rdflib.term.URIRef('http://data.open.ac.uk/meta/ontology/ahproject/topic/78037'), rdflib.term.URIRef('http://www.w3.org/2004/02/skos/core#prefLabel'), rdflib.term.Literal('Cultural History', datatype=rdflib.term.URIRef('http://www.w3.org/2001/XMLSchema#string')))\n",
      "(rdflib.term.URIRef('http://data.open.ac.uk/meta/ontology/ahproject/output/2ADD3907-1964-4211-A75B-6CE72F3E06D8'), rdflib.term.URIRef('http://purl.org/dc/elements/1.1/description'), rdflib.term.Literal('The Wende Museum in Los Angeles has acquired some of the primary material unearthed by the researchers on this project and is, in collaboration with the PI, planning an exhibition on the Soviet Hippies in 2017.\\n\\nThe documentary maker Terje Toomistu has become interested in the Soviet hippies and the PI, Juliane F&uuml;rst, is serving as a consultant and co-producer on her almost completed documentary on the movement.', datatype=rdflib.term.URIRef('http://www.w3.org/2001/XMLSchema#string')))\n",
      "(rdflib.term.URIRef('http://data.open.ac.uk/meta/ontology/ahproject/project/EB8275BC-FF3C-4A89-8A50-043C60520F29'), rdflib.term.URIRef('http://purl.org/dc/elements/1.1/subject'), rdflib.term.URIRef('http://data.open.ac.uk/meta/ontology/ahproject/topic/78037'))\n",
      "(rdflib.term.URIRef('http://data.open.ac.uk/meta/ontology/ahproject/output/5F946473-52E8-4A06-A51A-056139D74EF6'), rdflib.term.URIRef('http://xmlns.com/foaf/0.1/homepage'), rdflib.term.Literal('https://www.facebook.com/soviethippies/?fref=ts', datatype=rdflib.term.URIRef('http://www.w3.org/2001/XMLSchema#string')))\n",
      "(rdflib.term.URIRef('http://data.open.ac.uk/meta/ontology/ahproject/organisation/FD94FDDE-5BBC-4E12-911F-0B70DBCFA743#address'), rdflib.term.URIRef('http://purl.org/cerif/frapo/hasPostalAddressLine'), rdflib.term.Literal('University of Bristol, Senate House, Tyndall Avenue', datatype=rdflib.term.URIRef('http://www.w3.org/2001/XMLSchema#string')))\n",
      "(rdflib.term.URIRef('http://data.open.ac.uk/meta/ontology/ahproject/project/EB8275BC-FF3C-4A89-8A50-043C60520F29#fund'), rdflib.term.URIRef('http://vocab.ox.ac.uk/projectfunding#grantNumber'), rdflib.term.Literal('AH/I002502/1', datatype=rdflib.term.URIRef('http://www.w3.org/2001/XMLSchema#string')))\n",
      "(rdflib.term.URIRef('http://data.open.ac.uk/meta/ontology/ahproject/project/EB8275BC-FF3C-4A89-8A50-043C60520F29'), rdflib.term.URIRef('http://purl.org/cerif/frapo/hasOutput'), rdflib.term.URIRef('http://data.open.ac.uk/meta/ontology/ahproject/output/6D33DF10-8EE5-4D1A-B2C1-951C29F2AC80'))\n",
      "(rdflib.term.URIRef('http://data.open.ac.uk/meta/ontology/ahproject/organisation/FD94FDDE-5BBC-4E12-911F-0B70DBCFA743'), rdflib.term.URIRef('http://www.w3.org/ns/org#classification'), rdflib.term.Literal('RO', datatype=rdflib.term.URIRef('http://www.w3.org/2001/XMLSchema#string')))\n",
      "(rdflib.term.URIRef('http://data.open.ac.uk/meta/ontology/ahproject/publication/D7831683-0AE0-4989-85B8-1F6DBA021F7F'), rdflib.term.URIRef('http://purl.org/spar/fabio/hasURL'), rdflib.term.Literal('http://gtr.rcuk.ac.uk:80/publication/D7831683-0AE0-4989-85B8-1F6DBA021F7F', datatype=rdflib.term.URIRef('http://www.w3.org/2001/XMLSchema#string')))\n",
      "(rdflib.term.URIRef('http://data.open.ac.uk/meta/ontology/ahproject/project/EB8275BC-FF3C-4A89-8A50-043C60520F29'), rdflib.term.URIRef('http://purl.org/cerif/frapo/hasOutput'), rdflib.term.URIRef('http://data.open.ac.uk/meta/ontology/ahproject/publication/B4EDCF26-08D9-4192-9625-2C52633EA845'))\n",
      "(rdflib.term.URIRef('http://data.open.ac.uk/meta/ontology/ahproject/organisation/1291772D-DFCE-493A-AEE7-24F7EEAFE0E9'), rdflib.term.URIRef('http://www.w3.org/1999/02/22-rdf-syntax-ns#type'), rdflib.term.URIRef('http://vocab.ox.ac.uk/projectfunding#FundingBody'))\n",
      "(rdflib.term.URIRef('http://data.open.ac.uk/meta/ontology/ahproject/project/EB8275BC-FF3C-4A89-8A50-043C60520F29'), rdflib.term.URIRef('http://purl.org/dc/elements/1.1/title'), rdflib.term.Literal('Dropping-Out of Socialism: Alternative Life-Styles in the Socialist Bloc 1960-1990', datatype=rdflib.term.URIRef('http://www.w3.org/2001/XMLSchema#string')))\n",
      "(rdflib.term.URIRef('http://data.open.ac.uk/meta/ontology/ahproject/output/F504843E-DE23-44D1-9772-71B4D6721425'), rdflib.term.URIRef('http://www.w3.org/1999/02/22-rdf-syntax-ns#type'), rdflib.term.URIRef('http://data.open.ac.uk/meta/ontology/ahproject/CollaborationOutput'))\n",
      "(rdflib.term.URIRef('http://data.open.ac.uk/meta/ontology/ahproject/project/EB8275BC-FF3C-4A89-8A50-043C60520F29#fund'), rdflib.term.URIRef('http://vocab.ox.ac.uk/projectfunding#funds'), rdflib.term.URIRef('http://data.open.ac.uk/meta/ontology/ahproject/project/EB8275BC-FF3C-4A89-8A50-043C60520F29'))\n",
      "(rdflib.term.URIRef('http://data.open.ac.uk/meta/ontology/ahproject/publication/B4EDCF26-08D9-4192-9625-2C52633EA845'), rdflib.term.URIRef('http://purl.org/spar/fabio/hasURL'), rdflib.term.Literal('http://gtr.rcuk.ac.uk:80/publication/B4EDCF26-08D9-4192-9625-2C52633EA845', datatype=rdflib.term.URIRef('http://www.w3.org/2001/XMLSchema#string')))\n",
      "(rdflib.term.URIRef('http://data.open.ac.uk/meta/ontology/ahproject/project/EB8275BC-FF3C-4A89-8A50-043C60520F29'), rdflib.term.URIRef('http://purl.org/cerif/frapo/hasOutput'), rdflib.term.URIRef('http://data.open.ac.uk/meta/ontology/ahproject/publication/A1FA8C0E-7A06-4D7B-994B-B65454DDD2D5'))\n",
      "(rdflib.term.URIRef('http://data.open.ac.uk/meta/ontology/ahproject/publication/D7831683-0AE0-4989-85B8-1F6DBA021F7F'), rdflib.term.URIRef('http://www.w3.org/1999/02/22-rdf-syntax-ns#type'), rdflib.term.URIRef('http://purl.org/dc/elements/1.1/BibliographicResource'))\n",
      "(rdflib.term.URIRef('http://data.open.ac.uk/meta/ontology/ahproject/output/3236A8ED-B73F-4202-B8DE-61713FE5602D'), rdflib.term.URIRef('http://www.w3.org/1999/02/22-rdf-syntax-ns#type'), rdflib.term.URIRef('http://data.open.ac.uk/meta/ontology/ahproject/CollaborationOutput'))\n",
      "(rdflib.term.URIRef('http://data.open.ac.uk/meta/ontology/ahproject/output/6D33DF10-8EE5-4D1A-B2C1-951C29F2AC80'), rdflib.term.URIRef('http://data.open.ac.uk/meta/ontology/ahproject#sector'), rdflib.term.Literal('Academic/University', datatype=rdflib.term.URIRef('http://www.w3.org/2001/XMLSchema#string')))\n",
      "(rdflib.term.URIRef('http://data.open.ac.uk/meta/ontology/ahproject/project/EB8275BC-FF3C-4A89-8A50-043C60520F29#fund'), rdflib.term.URIRef('http://purl.org/goodrelations/v1#category'), rdflib.term.Literal('INCOME_ACTUAL', datatype=rdflib.term.URIRef('http://www.w3.org/2001/XMLSchema#string')))\n",
      "(rdflib.term.URIRef('http://data.open.ac.uk/meta/ontology/ahproject/project/EB8275BC-FF3C-4A89-8A50-043C60520F29'), rdflib.term.URIRef('http://purl.org/cerif/frapo/hasOutput'), rdflib.term.URIRef('http://data.open.ac.uk/meta/ontology/ahproject/output/2ADD3907-1964-4211-A75B-6CE72F3E06D8'))\n",
      "(rdflib.term.URIRef('http://data.open.ac.uk/meta/ontology/ahproject/publication/D687F1A6-ED35-4F61-B976-1566BB5270E8'), rdflib.term.URIRef('http://purl.org/dc/elements/1.1/isPartOf'), rdflib.term.Literal('Contemporary European History', datatype=rdflib.term.URIRef('http://www.w3.org/2001/XMLSchema#string')))\n",
      "(rdflib.term.URIRef('http://data.open.ac.uk/meta/ontology/ahproject/output/9F1EE7D6-E5EB-4486-95CE-422CE6A20EDC'), rdflib.term.URIRef('http://data.open.ac.uk/meta/ontology/ahproject#Impact'), rdflib.term.Literal('This is the first time that a large number of hitherto inaccessible and unknown photographic material of little known aspects of Soviet life will be made available to the wider public and in an easily navigable format with English titles and explanations.', datatype=rdflib.term.URIRef('http://www.w3.org/2001/XMLSchema#string')))\n",
      "(rdflib.term.URIRef('http://data.open.ac.uk/meta/ontology/ahproject/project/EB8275BC-FF3C-4A89-8A50-043C60520F29#fund'), rdflib.term.URIRef('http://usefulinc.com/ns/doap#category'), rdflib.term.Literal('Research Grant', datatype=rdflib.term.URIRef('http://www.w3.org/2001/XMLSchema#string')))\n",
      "(rdflib.term.URIRef('http://data.open.ac.uk/meta/ontology/ahproject/publication/B4EDCF26-08D9-4192-9625-2C52633EA845'), rdflib.term.URIRef('http://www.w3.org/1999/02/22-rdf-syntax-ns#type'), rdflib.term.URIRef('http://purl.org/dc/elements/1.1/BibliographicResource'))\n",
      "(rdflib.term.URIRef('http://data.open.ac.uk/meta/ontology/ahproject/output/9F1EE7D6-E5EB-4486-95CE-422CE6A20EDC'), rdflib.term.URIRef('http://purl.org/dc/elements/1.1/description'), rdflib.term.Literal(\"This data base contains a large collection of photos relating to the research project 'Dropping out of Socialism', which have been acquired and scanned by the Wende Museum. The database is designed to be open to further additions and will support the Wende Museum LA in its educational work.\", datatype=rdflib.term.URIRef('http://www.w3.org/2001/XMLSchema#string')))\n",
      "(rdflib.term.URIRef('http://data.open.ac.uk/meta/ontology/ahproject/project/EB8275BC-FF3C-4A89-8A50-043C60520F29#fund'), rdflib.term.URIRef('http://vocab.ox.ac.uk/projectfunding#startDate'), rdflib.term.Literal('2011-07-01T00:00:00', datatype=rdflib.term.URIRef('http://www.w3.org/2001/XMLSchema#dateTime')))\n",
      "(rdflib.term.URIRef('http://data.open.ac.uk/meta/ontology/ahproject/publication/A1FA8C0E-7A06-4D7B-994B-B65454DDD2D5'), rdflib.term.URIRef('http://purl.org/dc/elements/1.1/title'), rdflib.term.Literal('Flowers through Concrete: The World of the Soviet Hippies', datatype=rdflib.term.URIRef('http://www.w3.org/2001/XMLSchema#string')))\n",
      "(rdflib.term.URIRef('http://data.open.ac.uk/meta/ontology/ahproject/topic/78037'), rdflib.term.URIRef('http://www.w3.org/1999/02/22-rdf-syntax-ns#type'), rdflib.term.URIRef('http://www.w3.org/2004/02/skos/core#Concept'))\n",
      "(rdflib.term.URIRef('http://data.open.ac.uk/meta/ontology/ahproject/organisation/FD94FDDE-5BBC-4E12-911F-0B70DBCFA743#address'), rdflib.term.URIRef('http://www.w3.org/1999/02/22-rdf-syntax-ns#type'), rdflib.term.URIRef('http://www.w3.org/2006/vcard/ns#Address'))\n",
      "(rdflib.term.URIRef('http://data.open.ac.uk/meta/ontology/ahproject/project/EB8275BC-FF3C-4A89-8A50-043C60520F29'), rdflib.term.URIRef('http://www.w3.org/1999/02/22-rdf-syntax-ns#type'), rdflib.term.URIRef('http://vocab.ox.ac.uk/projectfunding#Project'))\n",
      "(rdflib.term.URIRef('http://data.open.ac.uk/meta/ontology/ahproject/project/EB8275BC-FF3C-4A89-8A50-043C60520F29'), rdflib.term.URIRef('http://purl.org/cerif/frapo/hasOutput'), rdflib.term.URIRef('http://data.open.ac.uk/meta/ontology/ahproject/publication/D7831683-0AE0-4989-85B8-1F6DBA021F7F'))\n",
      "(rdflib.term.URIRef('http://data.open.ac.uk/meta/ontology/ahproject/output/5F946473-52E8-4A06-A51A-056139D74EF6'), rdflib.term.URIRef('http://data.open.ac.uk/meta/ontology/ahproject#Impact'), rdflib.term.Literal('The film has already incurred great interest in the film-making community and been taken on by the television station Arte for future dissemination. The crowd-funding campaign as well as publicity for the film online has already raised awareness of the topic among an interested audience worldwide.', datatype=rdflib.term.URIRef('http://www.w3.org/2001/XMLSchema#string')))\n",
      "(rdflib.term.URIRef('http://data.open.ac.uk/meta/ontology/ahproject/person/2EE07735-86D6-485D-B530-DB03D951E316'), rdflib.term.URIRef('http://xmlns.com/foaf/0.1/givenName'), rdflib.term.Literal('Juliane Christiane Angelika', datatype=rdflib.term.URIRef('http://www.w3.org/2001/XMLSchema#string')))\n",
      "(rdflib.term.URIRef('http://data.open.ac.uk/meta/ontology/ahproject/organisation/E6BE1E2D-6D42-47FB-AB0A-A2FC1914A896'), rdflib.term.URIRef('http://www.w3.org/1999/02/22-rdf-syntax-ns#type'), rdflib.term.URIRef('http://www.w3.org/ns/org#Organization'))\n",
      "(rdflib.term.URIRef('http://data.open.ac.uk/meta/ontology/ahproject/organisation/961756BF-E31F-4A13-836F-0A09BA02385C'), rdflib.term.URIRef('http://www.w3.org/1999/02/22-rdf-syntax-ns#type'), rdflib.term.URIRef('http://www.w3.org/ns/org#Organization'))\n",
      "(rdflib.term.URIRef('http://data.open.ac.uk/meta/ontology/ahproject/output/2ADD3907-1964-4211-A75B-6CE72F3E06D8'), rdflib.term.URIRef('http://data.open.ac.uk/meta/ontology/ahproject#sector'), rdflib.term.Literal('Creative Economy,Education,Culture, Heritage, Museums and Collections', datatype=rdflib.term.URIRef('http://www.w3.org/2001/XMLSchema#string')))\n",
      "(rdflib.term.URIRef('http://data.open.ac.uk/meta/ontology/ahproject/output/F504843E-DE23-44D1-9772-71B4D6721425'), rdflib.term.URIRef('http://purl.org/dc/elements/1.1/description'), rdflib.term.Literal('Socialist Spaces', datatype=rdflib.term.URIRef('http://www.w3.org/2001/XMLSchema#string')))\n",
      "(rdflib.term.URIRef('http://data.open.ac.uk/meta/ontology/ahproject/person/7729A3BA-8B99-4DBA-A577-FF76802F2226'), rdflib.term.URIRef('http://www.w3.org/1999/02/22-rdf-syntax-ns#type'), rdflib.term.URIRef('http://xmlns.com/foaf/0.1/Person'))\n",
      "(rdflib.term.URIRef('http://data.open.ac.uk/meta/ontology/ahproject/person/7729A3BA-8B99-4DBA-A577-FF76802F2226'), rdflib.term.URIRef('http://xmlns.com/foaf/0.1/familyName'), rdflib.term.Literal('McLellan', datatype=rdflib.term.URIRef('http://www.w3.org/2001/XMLSchema#string')))\n",
      "(rdflib.term.URIRef('http://data.open.ac.uk/meta/ontology/ahproject/person/2EE07735-86D6-485D-B530-DB03D951E316'), rdflib.term.URIRef('http://xmlns.com/foaf/0.1/familyName'), rdflib.term.Literal('Furst', datatype=rdflib.term.URIRef('http://www.w3.org/2001/XMLSchema#string')))\n",
      "(rdflib.term.URIRef('http://data.open.ac.uk/meta/ontology/ahproject/output/6D33DF10-8EE5-4D1A-B2C1-951C29F2AC80'), rdflib.term.URIRef('http://www.w3.org/1999/02/22-rdf-syntax-ns#type'), rdflib.term.URIRef('http://data.open.ac.uk/meta/ontology/ahproject/CollaborationOutput'))\n",
      "(rdflib.term.URIRef('http://data.open.ac.uk/meta/ontology/ahproject/project/EB8275BC-FF3C-4A89-8A50-043C60520F29'), rdflib.term.URIRef('http://purl.org/dc/elements/1.1/abstract'), rdflib.term.Literal(\"The project 'Dropping out of Socialism' is a study of the hidden side of life in the former Soviet bloc. It investigates those cultures and life-styles under socialism which literally 'dropped out' of the picture - both out of the picture that was portrayed by the Eastern European communist regimes to its own public and the West and the picture that has since been created by historians and political scientists looking at the last decades of communism in Europe. 'Dropping out of Socialism' is devoted to the historical documentation and interpretation of social phenomena on the margins of socialist society: beatniks, hippies, punks, trampers, new-agers, hobos and any other group of people who had decided to ignore rather than comply with the official socialist code of behaviour and participation.\\\\n\\\\nMost people express surprise when told that such cultures existed at all under the repressive conditions of the Eastern European communist regimes. Indeed, even in Eastern Europe itself little is known about alternative forms of life-style and ideology under socialism and much that is known is clouded in myth and prejudice. Drop-out cultures suffered not only from repression meted out by the regime but also from widespread social condemnation. Denied access to the official public sphere, persecuted by the security organs and eyed with mistrust by the upright, socialist citizen, drop-out cultures under socialism live on mostly in the memory of its participants and in the photographic and cinematic evidence of their heydays in the 1970s and 80s. Yet this memory is quickly disappearing with its participants (many of whom due to an extraordinarily unhealthy life-style do not live into old age).\\\\n\\\\nThe aim of our project is thus double-fold. Firstly we intend to collect valuable evidence of and about countercultures under late socialism and make this evidence available to future researchers and those interested in the study of youth- and countercultures. The project will rely on oral history as well as on sources generated by the secret service and the communist parties. It aims to recover the multiple pieces of art and writing that were produced in private by drop-out cultures as well as seek out films and photographs produced by groups who often consciously fashioned themselves through self-produced artefacts. Secondly we seek to explore the context and manifold interpretations of drop-out cultures under socialism by engaging in a concentrated dialogue with scholars from other discipline and other countries. The principal grant holders will engage in detailed research into hitherto under-documented case studies of drop-out cultures in their field of expertise, which will put much new knowledge on the historical map. The origins, development and fate of the Soviet hippie movement is so far only known in sketches and shrouded in much legend and misconceptions. Nor do we know enough about the cultural and political impact of Western countercultural trends in East Germany. Yet an equally important part of the project is the contextualization of these cultures into their larger setting: late socialist societies and systems. Co-operation with scholars engaged in research into drop-out cultures in the former Soviet bloc, representing a variety of disciplines from the history of art to sociology, will provide our research with the necessary framework to ask larger questions: To what extent was it possible to drop out of socialism? What can countercultures tell us about the state of mainstream society? How did countercultures differ in East and West or between the different Eastern European and Soviet societies? Did the existence of alternative life-styles contribute to the down-fall of communism?\\\\n\", datatype=rdflib.term.URIRef('http://www.w3.org/2001/XMLSchema#string')))\n",
      "(rdflib.term.URIRef('http://data.open.ac.uk/meta/ontology/ahproject/project/EB8275BC-FF3C-4A89-8A50-043C60520F29'), rdflib.term.URIRef('http://purl.org/cerif/frapo/hasOutput'), rdflib.term.URIRef('http://data.open.ac.uk/meta/ontology/ahproject/output/F504843E-DE23-44D1-9772-71B4D6721425'))\n",
      "(rdflib.term.URIRef('http://data.open.ac.uk/meta/ontology/ahproject/publication/A1FA8C0E-7A06-4D7B-994B-B65454DDD2D5'), rdflib.term.URIRef('http://www.w3.org/1999/02/22-rdf-syntax-ns#type'), rdflib.term.URIRef('http://purl.org/dc/elements/1.1/BibliographicResource'))\n",
      "(rdflib.term.URIRef('http://data.open.ac.uk/meta/ontology/ahproject/output/6D33DF10-8EE5-4D1A-B2C1-951C29F2AC80'), rdflib.term.URIRef('http://purl.org/dc/elements/1.1/description'), rdflib.term.Literal('Visiting Professorship at Sciences Po, Paris', datatype=rdflib.term.URIRef('http://www.w3.org/2001/XMLSchema#string')))\n",
      "(rdflib.term.URIRef('http://data.open.ac.uk/meta/ontology/ahproject/subject/127553'), rdflib.term.URIRef('http://www.w3.org/2004/02/skos/core#prefLabel'), rdflib.term.Literal('History', datatype=rdflib.term.URIRef('http://www.w3.org/2001/XMLSchema#string')))\n"
     ]
    }
   ],
   "source": [
    "from rdflib import Graph, Literal, BNode, Namespace, RDF, URIRef, XSD\n",
    "from rdflib.namespace import DC, FOAF, SKOS\n",
    "\n",
    "#Import namespaces\n",
    "ahproject = Namespace('http://data.open.ac.uk/meta/ontology/ahproject#')\n",
    "dataopen = Namespace('http://data.open.ac.uk/meta/ontology/')\n",
    "doap = Namespace('http://usefulinc.com/ns/doap#')\n",
    "fabio = Namespace('http://purl.org/spar/fabio/') \n",
    "frapo = Namespace('http://purl.org/cerif/frapo/') \n",
    "gr = Namespace('http://purl.org/goodrelations/v1#')\n",
    "org = Namespace('http://www.w3.org/ns/org#')\n",
    "prism = Namespace('http://prismstandard.org/namespaces/basic/2.0/')  \n",
    "projectfunding = Namespace(\"http://vocab.ox.ac.uk/projectfunding#\")\n",
    "vcard = Namespace('http://www.w3.org/2006/vcard/ns#')\n",
    "vivo = Namespace('http://vivoweb.org/ontology/core#')\n",
    "\n",
    "g = Graph()\n",
    "project = URIRef(project_uri)\n",
    "fund = URIRef(fund_uri)\n",
    "funder = URIRef(funder_uri)\n",
    "lead_research_org = URIRef(lead_research_org_uri)\n",
    "lead_research_org_address = URIRef(lead_research_org_address_uri)\n",
    "\n",
    "# Add triples using store's add method.\n",
    "\n",
    "#Terms directly linked to Project\n",
    "g.add( (project, RDF.type, projectfunding.Project ))\n",
    "if (type(project_url) != safeJSON.SafeNoneClass):\n",
    "    g.add( (project, FOAF.homepage, Literal(project_url,datatype=XSD.string) ))\n",
    "if (type(project_status) != safeJSON.SafeNoneClass):\n",
    "    g.add( (project, dataopen.status, Literal(project_status,datatype=XSD.string) ))\n",
    "if (type(project_title) != safeJSON.SafeNoneClass):\n",
    "    g.add( (project, DC.title, Literal(project_title,datatype=XSD.string) ))\n",
    "if (type(project_abstract) != safeJSON.SafeNoneClass):\n",
    "    g.add( (project, DC.abstract, Literal(project_abstract,datatype=XSD.string) ))\n",
    "if (type(project_potential_impact) != safeJSON.SafeNoneClass):\n",
    "    g.add( (project, ahproject.potentialImpact, Literal(project_potential_impact,datatype=XSD.string) ))\n",
    "\n",
    "#Subject and Topic keywords\n",
    "for research_topic in research_topics:\n",
    "    research_topic_id = research_topic['id']\n",
    "    research_topic_text = research_topic['text']\n",
    "    if (type(research_topic_id) != safeJSON.SafeNoneClass):\n",
    "        research_topic_uri_string = ahproject_base_uri + 'topic/' + research_topic_id\n",
    "        research_topic_uri = URIRef(research_topic_uri_string)\n",
    "        g.add( (research_topic_uri, RDF.type, SKOS.Concept ))\n",
    "        g.add( (project, DC.subject, research_topic_uri ))\n",
    "        if (type(research_topic_text) != safeJSON.SafeNoneClass):\n",
    "            g.add( (research_topic_uri, SKOS.prefLabel, Literal(research_topic_text,datatype=XSD.string) ))\n",
    "\n",
    "for research_subject in research_subjects:\n",
    "    research_subject_id = research_subject['id']\n",
    "    research_subject_text = research_subject['text']\n",
    "    if (type(research_subject_id) != safeJSON.SafeNoneClass):\n",
    "        research_subject_uri_string = ahproject_base_uri + 'subject/' + research_subject_id\n",
    "        research_subject_uri = URIRef(research_subject_uri_string)  \n",
    "        g.add( (research_subject_uri, RDF.type, SKOS.Concept ))\n",
    "        g.add( (project, DC.subject, research_subject_uri ))\n",
    "        if (type(research_subject_text) != safeJSON.SafeNoneClass):\n",
    "            g.add( (research_subject_uri, SKOS.prefLabel, Literal(research_subject_text,datatype=XSD.string) ))\n",
    "\n",
    "#Fund and related terms\n",
    "g.add( (fund, RDF.type, projectfunding.Funding ))\n",
    "g.add( (fund, projectfunding.funds, project ))\n",
    "g.add( (fund, projectfunding.grantNumber, Literal(grant_reference,datatype=XSD.string) ))\n",
    "if (type(fund_type) != safeJSON.SafeNoneClass):\n",
    "    g.add( (fund, gr.category, Literal(fund_type,datatype=XSD.string) ))\n",
    "if (type(grant_category) != safeJSON.SafeNoneClass):\n",
    "    g.add( (fund, doap.category, Literal(grant_category,datatype=XSD.string) ))\n",
    "g.add( (fund, projectfunding.startDate, Literal(fund_start_datetime,datatype=XSD.dateTime) ))\n",
    "g.add( (fund, projectfunding.endDate, Literal(fund_end_datetime,datatype=XSD.dateTime) ))\n",
    "\n",
    "#Funder and related terms\n",
    "g.add( (funder, RDF.type, projectfunding.FundingBody ))\n",
    "g.add( (funder, projectfunding.provides, fund ))\n",
    "if (type(funder_name) != safeJSON.SafeNoneClass):\n",
    "    g.add( (funder, vcard.hasOrganizationName, Literal(funder_name,datatype=XSD.string) ))\n",
    "if (type(funder_url) != safeJSON.SafeNoneClass):\n",
    "    g.add( (funder, FOAF.homepage, Literal(funder_url,datatype=XSD.string) ))\n",
    "\n",
    "#Lead Research Organisation and related terms\n",
    "g.add( (lead_research_org, RDF.type, org.Organization ))\n",
    "g.add( (lead_research_org, org.HeadOf, project ))\n",
    "if (type(lead_research_org_name) != safeJSON.SafeNoneClass):\n",
    "    g.add( (lead_research_org, vcard.hasOrganizationName, Literal(lead_research_org_name,datatype=XSD.string) ))\n",
    "if (type(lead_research_org_dept) != safeJSON.SafeNoneClass):\n",
    "    g.add( (lead_research_org, vcard.hasOrganizationUnit, Literal(lead_research_org_dept,datatype=XSD.string) ))\n",
    "if (type(lead_research_org_type) != safeJSON.SafeNoneClass):\n",
    "    g.add( (lead_research_org, org.classification, Literal(lead_research_org_type,datatype=XSD.string) ))\n",
    "if (type(lead_research_org_url) != safeJSON.SafeNoneClass):\n",
    "    g.add( (lead_research_org, FOAF.homepage, Literal(lead_research_org_url,datatype=XSD.string) ))\n",
    "g.add( (lead_research_org, org.siteAddress, lead_research_org_address ))\n",
    "g.add( (lead_research_org_address, RDF.type, vcard.Address ))\n",
    "if (type(lead_research_org_address_lines) != safeJSON.SafeNoneClass):\n",
    "    g.add( (lead_research_org_address, frapo.hasPostalAddressLine, Literal(lead_research_org_address_lines,datatype=XSD.string) ))\n",
    "if (type(lead_research_org_postcode) != safeJSON.SafeNoneClass):\n",
    "    g.add( (lead_research_org_address, vcard.hasPostalCode, Literal(lead_research_org_postcode,datatype=XSD.string) ))\n",
    "if (type(lead_research_org_region) != safeJSON.SafeNoneClass):\n",
    "    g.add( (lead_research_org_address, vcard.region, Literal(lead_research_org_region,datatype=XSD.string) ))\n",
    "if (type(lead_research_org_country) != safeJSON.SafeNoneClass):\n",
    "    g.add( (lead_research_org_address, vcard.hasCountryName, Literal(lead_research_org_country,datatype=XSD.string) ))\n",
    "\n",
    "#People\n",
    "for person in people:\n",
    "    person_id = person['id']\n",
    "    person_firstname = person['firstName']\n",
    "    person_surname = person['surname']\n",
    "    person_url = person['url']\n",
    "    person_role = person['role']\n",
    "    if (type(person_id) != safeJSON.SafeNoneClass):\n",
    "        person_uri_string = ahproject_base_uri + 'person/' + person_id\n",
    "        person_uri = URIRef(person_uri_string)\n",
    "        for role in person_role:\n",
    "            person_role_name = role['name']\n",
    "            if (type(person_role_name) != safeJSON.SafeNoneClass):\n",
    "                if (person_role_name == 'PRINCIPAL_INVESTIGATOR'):\n",
    "                    g.add( (project, projectfunding.hasPrincipalInvestigator, person_uri ))\n",
    "                else:\n",
    "                    g.add( (project, projectfunding.hasCoInvestigator, person_uri ))\n",
    "        g.add( (person_uri, RDF.type, FOAF.Person ))\n",
    "        if (type(person_firstname) != safeJSON.SafeNoneClass):\n",
    "            g.add( (person_uri, FOAF.givenName, Literal(person_firstname,datatype=XSD.string) ))\n",
    "        if (type(person_surname) != safeJSON.SafeNoneClass):\n",
    "            g.add( (person_uri, FOAF.familyName, Literal(person_surname,datatype=XSD.string) ))\n",
    "        if (type(person_url) != safeJSON.SafeNoneClass):\n",
    "            g.add( (person_uri, FOAF.homepage, Literal(person_url,datatype=XSD.string) ))\n",
    "\n",
    "#Publications\n",
    "for publication in publications:\n",
    "    publication_id = publication['id']\n",
    "    publication_title = publication['title']\n",
    "    publication_url = publication['url']\n",
    "    publication_parent = publication['parentPublicationTitle']\n",
    "    publication_isbn = publication['isbn']\n",
    "    publication_date_str = publication['date']\n",
    "    if (type(publication_id) != safeJSON.SafeNoneClass):\n",
    "        publication_uri_string = ahproject_base_uri + 'publication/' + publication_id\n",
    "        publication_uri = URIRef(publication_uri_string)\n",
    "        g.add( (project, frapo.hasOutput, publication_uri ))\n",
    "        g.add( (publication_uri, RDF.type, DC.BibliographicResource ))\n",
    "        if (type(publication_title) != safeJSON.SafeNoneClass):\n",
    "            g.add( (publication_uri, DC.title, Literal(publication_title,datatype=XSD.string) ))\n",
    "        if (type(publication_url) != safeJSON.SafeNoneClass):\n",
    "            g.add( (publication_uri, fabio.hasURL, Literal(publication_url,datatype=XSD.string) ))\n",
    "        if (type(publication_parent) != safeJSON.SafeNoneClass):\n",
    "            g.add( (publication_uri, DC.isPartOf, Literal(publication_parent,datatype=XSD.string) ))\n",
    "        if (type(publication_isbn) != safeJSON.SafeNoneClass):\n",
    "            g.add( (publication_uri, prism.isbn, Literal(publication_isbn,datatype=XSD.string) ))\n",
    "        if (type(publication_date_str) != safeJSON.SafeNoneClass):\n",
    "            publication_date = datetime.strptime(publication_date_str,'%Y-%m-%d')\n",
    "            g.add( (publication_uri, DC.issued, Literal(publication_date,datatype=XSD.dateTime) ))\n",
    "        \n",
    "#Collaborating Organisations\n",
    "for collab_org in collaborators:\n",
    "    collab_org_id = collab_org['id']\n",
    "    collab_org_name = collab_org['name']\n",
    "    collab_org_url = collab_org['url']\n",
    "    collab_org_address_line1 = collab_org['address']['line1']\n",
    "    collab_org_address_line2 = collab_org['address']['line2']\n",
    "    collab_org_address_line3 = collab_org['address']['line3']\n",
    "    collab_org_address_line4 = collab_org['address']['line4']\n",
    "    collab_org_address_line5 = collab_org['address']['line5']\n",
    "    collab_org_postcode = collab_org['address']['postCode']\n",
    "    collab_org_region = collab_org['address']['region']\n",
    "    collab_org_country = collab_org['address']['country']\n",
    "    if (type(collab_org_id) != safeJSON.SafeNoneClass):\n",
    "        collab_org_uri_string = ahproject_base_uri + 'organisation/' + collab_org_id\n",
    "        collab_org_uri = URIRef(collab_org_uri_string)\n",
    "        g.add( (project, vivo.hasCollaborator, collab_org_uri ))\n",
    "        g.add( (collab_org_uri, RDF.type, org.Organization ))\n",
    "        if (type(collab_org_name) != safeJSON.SafeNoneClass):\n",
    "            g.add( (collab_org_uri, vcard.hasOrganizationName, Literal(collab_org_name,datatype=XSD.string) ))\n",
    "        if (type(collab_org_url) != safeJSON.SafeNoneClass):\n",
    "            g.add( (collab_org_uri, FOAF.homepage, Literal(collab_org_url,datatype=XSD.string) ))\n",
    "        if ((type(collab_org_address_line1) != safeJSON.SafeNoneClass) or (type(collab_org_address_line2) != safeJSON.SafeNoneClass) or (type(collab_org_address_line3) != safeJSON.SafeNoneClass) or (type(collab_org_address_line4) != safeJSON.SafeNoneClass) or (type(collab_org_address_line5) != safeJSON.SafeNoneClass) or (type(collab_org_postcode) != safeJSON.SafeNoneClass) or (type(collab_org_region) != safeJSON.SafeNoneClass) or (type(collab_org_country) != safeJSON.SafeNoneClass)):\n",
    "            collab_org_address_uri_string = collab_org_uri_string + '#address'\n",
    "            collab_org_address_uri = URIRef(collab_org_address_uri_string)\n",
    "            g.add( (collab_org_uri, org.siteAddress, collab_org_address_uri ))\n",
    "            g.add( (collab_org_address_uri, RDF.type, vcard.Address ))\n",
    "            if ((type(collab_org_address_line1) != safeJSON.SafeNoneClass) or (type(collab_org_address_line2) != safeJSON.SafeNoneClass) or (type(collab_org_address_line3) != safeJSON.SafeNoneClass) or (type(collab_org_address_line4) != safeJSON.SafeNoneClass) or (type(collab_org_address_line5) != safeJSON.SafeNoneClass)):\n",
    "                collab_org_address_lines = ''\n",
    "                if (type(collab_org_address_line1) != safeJSON.SafeNoneClass):\n",
    "                    collab_org_address_lines = collab_org_address_lines + collab_org_address_line1\n",
    "                    if ((type(collab_org_address_line2) != safeJSON.SafeNoneClass) or (type(collab_org_address_line3) != safeJSON.SafeNoneClass) or (type(collab_org_address_line4) != safeJSON.SafeNoneClass) or (type(collab_org_address_line5) != safeJSON.SafeNoneClass)):\n",
    "                        collab_org_address_lines = collab_org_address_lines + ', '\n",
    "                if (type(collab_org_address_line2) != safeJSON.SafeNoneClass):\n",
    "                    collab_org_address_lines = collab_org_address_lines + collab_org_address_line2\n",
    "                    if ((type(collab_org_address_line3) != safeJSON.SafeNoneClass) or (type(collab_org_address_line4) != safeJSON.SafeNoneClass) or (type(collab_org_address_line5) != safeJSON.SafeNoneClass)):\n",
    "                        collab_org_address_lines = collab_org_address_lines + ', '\n",
    "                if (type(collab_org_address_line3) != safeJSON.SafeNoneClass):\n",
    "                    collab_org_address_lines = collab_org_address_lines + collab_org_address_line3\n",
    "                    if ((type(collab_org_address_line4) != safeJSON.SafeNoneClass) or (type(collab_org_address_line5) != safeJSON.SafeNoneClass)):\n",
    "                        collab_org_address_lines = collab_org_address_lines + ', '\n",
    "                if (type(collab_org_address_line4) != safeJSON.SafeNoneClass):\n",
    "                    collab_org_address_lines = collab_org_address_lines + collab_org_address_line4\n",
    "                    if (type(collab_org_address_line5) != safeJSON.SafeNoneClass):\n",
    "                        collab_org_address_lines = collab_org_address_lines + ', '\n",
    "                if (type(collab_org_address_line5) != safeJSON.SafeNoneClass):\n",
    "                    collab_org_address_lines = collab_org_address_lines + collab_org_address_line5\n",
    "                collab_org_address_lines = collab_org_address_lines.replace(\"\\r\\n\", \", \")\n",
    "                g.add( (collab_org_address_uri, frapo.hasPostalAddressLine, Literal(collab_org_address_lines,datatype=XSD.string) ))\n",
    "            if (type(collab_org_postcode) != safeJSON.SafeNoneClass):\n",
    "                g.add( (collab_org_address_uri, vcard.hasPostalCode, Literal(collab_org_postcode,datatype=XSD.string) ))\n",
    "            if (type(collab_org_region) != safeJSON.SafeNoneClass):\n",
    "                g.add( (collab_org_address_uri, vcard.region, Literal(collab_org_region,datatype=XSD.string) ))\n",
    "            if (type(collab_org_country) != safeJSON.SafeNoneClass):\n",
    "                g.add( (collab_org_address_uri, vcard.hasCountryName, Literal(collab_org_country,datatype=XSD.string) ))\n",
    "\n",
    "#Outputs\n",
    "for output_category in outputs:\n",
    "    if (output_category != 'keyFindingsOutput'):\n",
    "        output_list = outputs[output_category]\n",
    "        for output in output_list:\n",
    "            output_id = output['id']\n",
    "            if (type(output_id) != safeJSON.SafeNoneClass):\n",
    "                output_uri_string = ahproject_base_uri + 'output/' + output_id\n",
    "                output_uri = URIRef(output_uri_string)\n",
    "                g.add( (project, frapo.hasOutput, output_uri ))\n",
    "                output_class = output_category[0].upper() + output_category[1:]\n",
    "                output_class_uri_string = ahproject_base_uri + output_class\n",
    "                output_class_uri = URIRef(output_class_uri_string)\n",
    "                g.add( (output_uri, RDF.type, output_class_uri ))\n",
    "                output_description = output['description']\n",
    "                if (type(output_description) != safeJSON.SafeNoneClass):\n",
    "                    g.add( (output_uri, DC.description, Literal(output_description,datatype=XSD.string )))\n",
    "                output_title = output['title']\n",
    "                if (type(output_title) != safeJSON.SafeNoneClass):\n",
    "                    g.add( (output_uri, DC.title, Literal(output_title,datatype=XSD.string )))\n",
    "                output_impact = output['impact']\n",
    "                if (type(output_impact) != safeJSON.SafeNoneClass):\n",
    "                    g.add( (output_uri, ahproject.Impact, Literal(output_impact,datatype=XSD.string )))\n",
    "                output_url = output['url']\n",
    "                if (type(output_url) != safeJSON.SafeNoneClass):\n",
    "                    g.add( (output_uri, FOAF.homepage, Literal(output_url,datatype=XSD.string )))\n",
    "                output_type = output['type']\n",
    "                if (type(output_type) != safeJSON.SafeNoneClass):\n",
    "                    g.add( (output_uri, DC.type, Literal(output_type,datatype=XSD.string )))\n",
    "                output_sector = output['sector']\n",
    "                if (type(output_sector) != safeJSON.SafeNoneClass):\n",
    "                    g.add( (output_uri, ahproject.sector, Literal(output_sector,datatype=XSD.string )))\n",
    "                output_geographic_reach = output['geographicReach']\n",
    "                if (type(output_geographic_reach) != safeJSON.SafeNoneClass):\n",
    "                    g.add( (output_uri, ahproject.geographicReach, Literal(output_geographic_reach,datatype=XSD.string )))\n",
    "                output_year_first_provided = output['yearFirstProvided']\n",
    "                if (type(output_year_first_provided) != safeJSON.SafeNoneClass):\n",
    "                    g.add( (output_uri, DC.available, Literal(output_year_first_provided,datatype=XSD.integer )))\n",
    "\n",
    "# Iterate over triples in store and print them out.\n",
    "print(\"--- printing raw triples ---\")\n",
    "for s, p, o in g:\n",
    "    print((s, p, o))"
   ]
  },
  {
   "cell_type": "markdown",
   "metadata": {
    "collapsed": true
   },
   "source": [
    "Write the output to a Turtle file:"
   ]
  },
  {
   "cell_type": "code",
   "execution_count": 551,
   "metadata": {
    "collapsed": false
   },
   "outputs": [],
   "source": [
    "file = open(\"AHRCDataToRDF_V2_20161125.ttl\", \"w+b\")\n",
    "\n",
    "file.write(g.serialize(format='turtle'))\n",
    "\n",
    "file.close()"
   ]
  },
  {
   "cell_type": "code",
   "execution_count": null,
   "metadata": {
    "collapsed": true
   },
   "outputs": [],
   "source": []
  }
 ],
 "metadata": {
  "kernelspec": {
   "display_name": "Python 3",
   "language": "python",
   "name": "python3"
  },
  "language_info": {
   "codemirror_mode": {
    "name": "ipython",
    "version": 3
   },
   "file_extension": ".py",
   "mimetype": "text/x-python",
   "name": "python",
   "nbconvert_exporter": "python",
   "pygments_lexer": "ipython3",
   "version": "3.4.5"
  }
 },
 "nbformat": 4,
 "nbformat_minor": 0
}
